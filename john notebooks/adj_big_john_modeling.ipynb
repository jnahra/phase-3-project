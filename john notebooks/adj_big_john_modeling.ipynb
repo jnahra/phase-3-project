{
 "cells": [
  {
   "cell_type": "code",
   "execution_count": 1,
   "metadata": {},
   "outputs": [],
   "source": [
    "import pandas as pd"
   ]
  },
  {
   "cell_type": "code",
   "execution_count": 2,
   "metadata": {},
   "outputs": [],
   "source": [
    "df = pd.read_csv('big_data.csv')"
   ]
  },
  {
   "cell_type": "code",
   "execution_count": 3,
   "metadata": {},
   "outputs": [
    {
     "name": "stdout",
     "output_type": "stream",
     "text": [
      "<class 'pandas.core.frame.DataFrame'>\n",
      "RangeIndex: 6807 entries, 0 to 6806\n",
      "Data columns (total 14 columns):\n",
      " #   Column               Non-Null Count  Dtype  \n",
      "---  ------               --------------  -----  \n",
      " 0   Unnamed: 0           6807 non-null   int64  \n",
      " 1   INJURY_BAD           6807 non-null   float64\n",
      " 2   HELMET_USED          6807 non-null   float64\n",
      " 3   age_bins             6807 non-null   object \n",
      " 4   SAFE_PEDAL_ACTION    6807 non-null   object \n",
      " 5   PROTECTIVE_CLOTHING  6807 non-null   float64\n",
      " 6   SAFE_LOCATION        6807 non-null   float64\n",
      " 7   WEATHER_CAT          6807 non-null   object \n",
      " 8   road_surf_bins       6807 non-null   object \n",
      " 9   DAYTIME              6807 non-null   int64  \n",
      " 10  SPEED_RATING         6807 non-null   object \n",
      " 11  physical_bins        6807 non-null   object \n",
      " 12  hour_bins            6807 non-null   object \n",
      " 13  SEX                  6807 non-null   object \n",
      "dtypes: float64(4), int64(2), object(8)\n",
      "memory usage: 744.6+ KB\n"
     ]
    }
   ],
   "source": [
    "df.info()"
   ]
  },
  {
   "cell_type": "code",
   "execution_count": 4,
   "metadata": {},
   "outputs": [],
   "source": [
    "df = df.drop(['Unnamed: 0','road_surf_bins'],axis=1)"
   ]
  },
  {
   "cell_type": "code",
   "execution_count": 5,
   "metadata": {},
   "outputs": [],
   "source": [
    "df = df.loc[df['SEX'] != 'X']"
   ]
  },
  {
   "cell_type": "code",
   "execution_count": 6,
   "metadata": {},
   "outputs": [],
   "source": [
    "df = df.loc[df['physical_bins'] != 'Shaken']"
   ]
  },
  {
   "cell_type": "code",
   "execution_count": 7,
   "metadata": {},
   "outputs": [
    {
     "data": {
      "text/plain": [
       "M    5202\n",
       "F    1369\n",
       "Name: SEX, dtype: int64"
      ]
     },
     "execution_count": 7,
     "metadata": {},
     "output_type": "execute_result"
    }
   ],
   "source": [
    "df['SEX'].value_counts()"
   ]
  },
  {
   "cell_type": "code",
   "execution_count": 8,
   "metadata": {},
   "outputs": [
    {
     "name": "stdout",
     "output_type": "stream",
     "text": [
      "<class 'pandas.core.frame.DataFrame'>\n",
      "Int64Index: 6571 entries, 0 to 6806\n",
      "Data columns (total 12 columns):\n",
      " #   Column               Non-Null Count  Dtype  \n",
      "---  ------               --------------  -----  \n",
      " 0   INJURY_BAD           6571 non-null   float64\n",
      " 1   HELMET_USED          6571 non-null   float64\n",
      " 2   age_bins             6571 non-null   object \n",
      " 3   SAFE_PEDAL_ACTION    6571 non-null   object \n",
      " 4   PROTECTIVE_CLOTHING  6571 non-null   float64\n",
      " 5   SAFE_LOCATION        6571 non-null   float64\n",
      " 6   WEATHER_CAT          6571 non-null   object \n",
      " 7   DAYTIME              6571 non-null   int64  \n",
      " 8   SPEED_RATING         6571 non-null   object \n",
      " 9   physical_bins        6571 non-null   object \n",
      " 10  hour_bins            6571 non-null   object \n",
      " 11  SEX                  6571 non-null   object \n",
      "dtypes: float64(4), int64(1), object(7)\n",
      "memory usage: 667.4+ KB\n"
     ]
    }
   ],
   "source": [
    "df.info()"
   ]
  },
  {
   "cell_type": "code",
   "execution_count": 9,
   "metadata": {},
   "outputs": [],
   "source": [
    "from sklearn.model_selection import train_test_split\n",
    "from sklearn.tree import DecisionTreeClassifier"
   ]
  },
  {
   "cell_type": "code",
   "execution_count": 10,
   "metadata": {},
   "outputs": [],
   "source": [
    "y = df['INJURY_BAD']\n",
    "X = df.drop('INJURY_BAD',axis=1)\n",
    "\n",
    "X_train,X_test,y_train,y_test = train_test_split(X,y,test_size=0.2,random_state=312)"
   ]
  },
  {
   "cell_type": "code",
   "execution_count": 11,
   "metadata": {},
   "outputs": [],
   "source": [
    "from sklearn.preprocessing import OneHotEncoder"
   ]
  },
  {
   "cell_type": "code",
   "execution_count": 12,
   "metadata": {},
   "outputs": [],
   "source": [
    "ohe = OneHotEncoder()\n",
    "X_train_encoded = ohe.fit_transform(X_train)\n",
    "X_test_encoded = ohe.transform(X_test)"
   ]
  },
  {
   "cell_type": "code",
   "execution_count": 13,
   "metadata": {},
   "outputs": [
    {
     "data": {
      "text/plain": [
       "DecisionTreeClassifier(max_depth=25, random_state=312)"
      ]
     },
     "execution_count": 13,
     "metadata": {},
     "output_type": "execute_result"
    }
   ],
   "source": [
    "dt = DecisionTreeClassifier(max_depth=25,random_state=312)\n",
    "dt.fit(X_train_encoded,y_train)"
   ]
  },
  {
   "cell_type": "code",
   "execution_count": 14,
   "metadata": {},
   "outputs": [
    {
     "name": "stdout",
     "output_type": "stream",
     "text": [
      "Train Precision: 0.9642857142857143\n",
      "Test Precision: 0.05660377358490566\n",
      "Train Recall: 0.27\n",
      "Test Recall: 0.02127659574468085\n"
     ]
    }
   ],
   "source": [
    "y_train_pred = dt.predict(X_train_encoded)\n",
    "y_test_pred = dt.predict(X_test_encoded)\n",
    "\n",
    "from sklearn.metrics import precision_score,recall_score\n",
    "\n",
    "train_p = precision_score(y_train,y_train_pred)\n",
    "test_p = precision_score(y_test,y_test_pred)\n",
    "train_r = recall_score(y_train,y_train_pred)\n",
    "test_r = recall_score(y_test,y_test_pred)\n",
    "\n",
    "print(f'Train Precision: {train_p}')\n",
    "print(f'Test Precision: {test_p}')\n",
    "print(f'Train Recall: {train_r}')\n",
    "print(f'Test Recall: {test_r}')"
   ]
  },
  {
   "cell_type": "code",
   "execution_count": 15,
   "metadata": {},
   "outputs": [],
   "source": [
    "from sklearn.tree import plot_tree\n",
    "import matplotlib.pyplot as plt\n",
    "\n",
    "#plt.figure(figsize=(16, 12))\n",
    "#plot_tree(dt, filled=True)\n",
    "#plt.show()"
   ]
  },
  {
   "cell_type": "code",
   "execution_count": 16,
   "metadata": {},
   "outputs": [],
   "source": [
    "from imblearn.under_sampling import RandomUnderSampler\n",
    "\n",
    "under = RandomUnderSampler(random_state=312)\n",
    "X_u, y_u = under.fit_resample(X_train_encoded,y_train)"
   ]
  },
  {
   "cell_type": "code",
   "execution_count": 17,
   "metadata": {},
   "outputs": [
    {
     "data": {
      "text/plain": [
       "DecisionTreeClassifier(max_depth=2, random_state=312)"
      ]
     },
     "execution_count": 17,
     "metadata": {},
     "output_type": "execute_result"
    }
   ],
   "source": [
    "dt = DecisionTreeClassifier(max_depth=2,random_state=312)\n",
    "dt.fit(X_u,y_u)"
   ]
  },
  {
   "cell_type": "code",
   "execution_count": 18,
   "metadata": {},
   "outputs": [
    {
     "name": "stdout",
     "output_type": "stream",
     "text": [
      "Train Precision: 0.5693430656934306\n",
      "Test Precision: 0.1267605633802817\n",
      "Train Recall: 0.624\n",
      "Test Recall: 0.6382978723404256\n"
     ]
    }
   ],
   "source": [
    "y_train_pred = dt.predict(X_u)\n",
    "y_test_pred = dt.predict(X_test_encoded)\n",
    "\n",
    "train_p = precision_score(y_u,y_train_pred)\n",
    "test_p = precision_score(y_test,y_test_pred)\n",
    "train_r = recall_score(y_u,y_train_pred)\n",
    "test_r = recall_score(y_test,y_test_pred)\n",
    "\n",
    "print(f'Train Precision: {train_p}')\n",
    "print(f'Test Precision: {test_p}')\n",
    "print(f'Train Recall: {train_r}')\n",
    "print(f'Test Recall: {test_r}')"
   ]
  },
  {
   "cell_type": "code",
   "execution_count": 19,
   "metadata": {},
   "outputs": [],
   "source": [
    "#plt.figure(figsize=(16, 12))\n",
    "#plot_tree(dt, filled=True)\n",
    "#plt.show()"
   ]
  },
  {
   "cell_type": "code",
   "execution_count": 20,
   "metadata": {},
   "outputs": [],
   "source": [
    "importances = list(dt.feature_importances_)"
   ]
  },
  {
   "cell_type": "code",
   "execution_count": 21,
   "metadata": {},
   "outputs": [],
   "source": [
    "xu_df = pd.DataFrame(X_u.todense(),columns=ohe.get_feature_names())"
   ]
  },
  {
   "cell_type": "code",
   "execution_count": 22,
   "metadata": {},
   "outputs": [],
   "source": [
    "names = list(xu_df.columns)"
   ]
  },
  {
   "cell_type": "code",
   "execution_count": 23,
   "metadata": {},
   "outputs": [],
   "source": [
    "importance_names = dict(zip(names,importances))"
   ]
  },
  {
   "cell_type": "code",
   "execution_count": 24,
   "metadata": {},
   "outputs": [
    {
     "data": {
      "text/plain": [
       "{'x0_0.0': 0.0,\n",
       " 'x0_1.0': 0.0,\n",
       " 'x1_Adolescent': 0.0,\n",
       " 'x1_Adult': 0.26627482580170864,\n",
       " 'x1_Elderly': 0.0,\n",
       " 'x1_Middle-aged': 0.0,\n",
       " 'x2_Neutral': 0.0,\n",
       " 'x2_Safe': 0.0,\n",
       " 'x2_Unsafe': 0.1721037505619861,\n",
       " 'x3_0.0': 0.0,\n",
       " 'x3_1.0': 0.0,\n",
       " 'x4_0.0': 0.0,\n",
       " 'x4_1.0': 0.0,\n",
       " 'x5_Adverse Weather': 0.0,\n",
       " 'x5_Clear Weather': 0.0,\n",
       " 'x6_0': 0.0,\n",
       " 'x6_1': 0.0,\n",
       " 'x7_Above Average Speed': 0.0,\n",
       " 'x7_Average Speed': 0.0,\n",
       " 'x7_Below Average Speed': 0.0,\n",
       " 'x8_Impaired': 0.0,\n",
       " 'x8_Normal': 0.5616214236363053,\n",
       " 'x8_Other': 0.0,\n",
       " 'x9_Afternoon': 0.0,\n",
       " 'x9_Early Morning': 0.0,\n",
       " 'x9_Morning': 0.0,\n",
       " 'x9_Night': 0.0,\n",
       " 'x10_F': 0.0,\n",
       " 'x10_M': 0.0}"
      ]
     },
     "execution_count": 24,
     "metadata": {},
     "output_type": "execute_result"
    }
   ],
   "source": [
    "importance_names"
   ]
  },
  {
   "cell_type": "code",
   "execution_count": 25,
   "metadata": {},
   "outputs": [],
   "source": [
    "from sklearn.linear_model import LogisticRegression\n",
    "from sklearn.preprocessing import MinMaxScaler"
   ]
  },
  {
   "cell_type": "code",
   "execution_count": 26,
   "metadata": {},
   "outputs": [],
   "source": [
    "scaler = MinMaxScaler()\n",
    "X_train_df = pd.DataFrame(X_train_encoded.todense(),columns=ohe.get_feature_names())\n",
    "X_test_df = pd.DataFrame(X_test_encoded.todense(),columns=ohe.get_feature_names())\n",
    "X_train_scaled = scaler.fit_transform(X_train_df)\n",
    "X_test_scaled = scaler.transform(X_test_df)"
   ]
  },
  {
   "cell_type": "code",
   "execution_count": 27,
   "metadata": {},
   "outputs": [],
   "source": [
    "log_model = LogisticRegression(class_weight='balanced',max_iter=1000,random_state=312)"
   ]
  },
  {
   "cell_type": "code",
   "execution_count": 28,
   "metadata": {},
   "outputs": [
    {
     "data": {
      "text/plain": [
       "LogisticRegression(class_weight='balanced', max_iter=1000, random_state=312)"
      ]
     },
     "execution_count": 28,
     "metadata": {},
     "output_type": "execute_result"
    }
   ],
   "source": [
    "log_model.fit(X_train_scaled,y_train)"
   ]
  },
  {
   "cell_type": "code",
   "execution_count": 29,
   "metadata": {},
   "outputs": [
    {
     "name": "stdout",
     "output_type": "stream",
     "text": [
      "Train Precision: 0.1276595744680851\n",
      "Test Precision: 0.1417910447761194\n",
      "Train Recall: 0.528\n",
      "Test Recall: 0.5390070921985816\n"
     ]
    }
   ],
   "source": [
    "y_train_pred = log_model.predict(X_train_scaled)\n",
    "y_test_pred = log_model.predict(X_test_scaled)\n",
    "\n",
    "train_p = precision_score(y_train,y_train_pred)\n",
    "test_p = precision_score(y_test,y_test_pred)\n",
    "train_r = recall_score(y_train,y_train_pred)\n",
    "test_r = recall_score(y_test,y_test_pred)\n",
    "\n",
    "print(f'Train Precision: {train_p}')\n",
    "print(f'Test Precision: {test_p}')\n",
    "print(f'Train Recall: {train_r}')\n",
    "print(f'Test Recall: {test_r}')\n"
   ]
  },
  {
   "cell_type": "code",
   "execution_count": 30,
   "metadata": {},
   "outputs": [
    {
     "data": {
      "text/plain": [
       "RandomForestClassifier(max_depth=4, n_estimators=200, random_state=312)"
      ]
     },
     "execution_count": 30,
     "metadata": {},
     "output_type": "execute_result"
    }
   ],
   "source": [
    "from sklearn.ensemble import RandomForestClassifier\n",
    "\n",
    "clf = RandomForestClassifier(n_estimators=200,max_depth=4,random_state=312)\n",
    "clf.fit(X_u,y_u)"
   ]
  },
  {
   "cell_type": "code",
   "execution_count": 31,
   "metadata": {
    "scrolled": true
   },
   "outputs": [
    {
     "name": "stdout",
     "output_type": "stream",
     "text": [
      "Train Precision: 0.6550218340611353\n",
      "Test Precision: 0.14462081128747795\n",
      "Train Recall: 0.6\n",
      "Test Recall: 0.5815602836879432\n"
     ]
    }
   ],
   "source": [
    "y_train_pred = clf.predict(X_u)\n",
    "y_test_pred = clf.predict(X_test_encoded)\n",
    "\n",
    "train_p = precision_score(y_u,y_train_pred)\n",
    "test_p = precision_score(y_test,y_test_pred)\n",
    "train_r = recall_score(y_u,y_train_pred)\n",
    "test_r = recall_score(y_test,y_test_pred)\n",
    "\n",
    "print(f'Train Precision: {train_p}')\n",
    "print(f'Test Precision: {test_p}')\n",
    "print(f'Train Recall: {train_r}')\n",
    "print(f'Test Recall: {test_r}')"
   ]
  },
  {
   "cell_type": "code",
   "execution_count": 32,
   "metadata": {},
   "outputs": [
    {
     "data": {
      "text/plain": [
       "{'x0_0.0': 0.02220749732756342,\n",
       " 'x0_1.0': 0.02062013282541608,\n",
       " 'x1_Adolescent': 0.019800742034499032,\n",
       " 'x1_Adult': 0.08341850158112486,\n",
       " 'x1_Elderly': 0.060258069127731705,\n",
       " 'x1_Middle-aged': 0.04233089338557669,\n",
       " 'x2_Neutral': 0.019971704619236693,\n",
       " 'x2_Safe': 0.028615526845391596,\n",
       " 'x2_Unsafe': 0.0448899557743853,\n",
       " 'x3_0.0': 0.013774653492211218,\n",
       " 'x3_1.0': 0.016421028891985313,\n",
       " 'x4_0.0': 0.052692725795297705,\n",
       " 'x4_1.0': 0.052559962839064125,\n",
       " 'x5_Adverse Weather': 0.013503626863651743,\n",
       " 'x5_Clear Weather': 0.015311924849673713,\n",
       " 'x6_0': 0.02045418577687068,\n",
       " 'x6_1': 0.03640951612828036,\n",
       " 'x7_Above Average Speed': 0.02767733921526963,\n",
       " 'x7_Average Speed': 0.016603711200955634,\n",
       " 'x7_Below Average Speed': 0.018826716554415025,\n",
       " 'x8_Impaired': 0.025666035573416193,\n",
       " 'x8_Normal': 0.11212790797943124,\n",
       " 'x8_Other': 0.07372367810542944,\n",
       " 'x9_Afternoon': 0.05909667481504094,\n",
       " 'x9_Early Morning': 0.014150857363896246,\n",
       " 'x9_Morning': 0.015216662548776443,\n",
       " 'x9_Night': 0.03839145807976653,\n",
       " 'x10_F': 0.019194570414156915,\n",
       " 'x10_M': 0.01608373999148547}"
      ]
     },
     "execution_count": 32,
     "metadata": {},
     "output_type": "execute_result"
    }
   ],
   "source": [
    "importances = list(clf.feature_importances_)\n",
    "names = list(xu_df.columns)\n",
    "importance_names = dict(zip(names,importances))\n",
    "importance_names"
   ]
  },
  {
   "cell_type": "code",
   "execution_count": 33,
   "metadata": {},
   "outputs": [
    {
     "data": {
      "text/plain": [
       "VotingClassifier(estimators=[('dt',\n",
       "                              DecisionTreeClassifier(max_depth=2,\n",
       "                                                     random_state=312)),\n",
       "                             ('clf',\n",
       "                              RandomForestClassifier(max_depth=4,\n",
       "                                                     n_estimators=200,\n",
       "                                                     random_state=312))])"
      ]
     },
     "execution_count": 33,
     "metadata": {},
     "output_type": "execute_result"
    }
   ],
   "source": [
    "from sklearn.ensemble import VotingClassifier\n",
    "\n",
    "avg = VotingClassifier(estimators=[('dt',dt),('clf',clf)])\n",
    "avg.fit(X_u,y_u)"
   ]
  },
  {
   "cell_type": "code",
   "execution_count": 34,
   "metadata": {},
   "outputs": [
    {
     "name": "stdout",
     "output_type": "stream",
     "text": [
      "Train Precision: 0.6521739130434783\n",
      "Test Precision: 0.14853556485355648\n",
      "Train Recall: 0.51\n",
      "Test Recall: 0.5035460992907801\n"
     ]
    }
   ],
   "source": [
    "y_train_pred = avg.predict(X_u)\n",
    "y_test_pred = avg.predict(X_test_encoded)\n",
    "\n",
    "train_p = precision_score(y_u,y_train_pred)\n",
    "test_p = precision_score(y_test,y_test_pred)\n",
    "train_r = recall_score(y_u,y_train_pred)\n",
    "test_r = recall_score(y_test,y_test_pred)\n",
    "\n",
    "print(f'Train Precision: {train_p}')\n",
    "print(f'Test Precision: {test_p}')\n",
    "print(f'Train Recall: {train_r}')\n",
    "print(f'Test Recall: {test_r}')"
   ]
  },
  {
   "cell_type": "code",
   "execution_count": 35,
   "metadata": {},
   "outputs": [
    {
     "name": "stdout",
     "output_type": "stream",
     "text": [
      "AUC: 0.13909001106469185\n"
     ]
    }
   ],
   "source": [
    "from sklearn.metrics import precision_recall_curve, auc\n",
    "\n",
    "y_score = log_model.decision_function(X_test_scaled)\n",
    "precision,recall,thresholds = precision_recall_curve(y_test,y_score)\n",
    "print('AUC: {}'.format(auc(recall, precision)))"
   ]
  },
  {
   "cell_type": "code",
   "execution_count": 36,
   "metadata": {},
   "outputs": [
    {
     "data": {
      "image/png": "[encoded data removed]",
      "text/plain": [
       "<Figure size 720x576 with 1 Axes>"
      ]
     },
     "metadata": {},
     "output_type": "display_data"
    }
   ],
   "source": [
    "import matplotlib.pyplot as plt\n",
    "import seaborn as sns\n",
    "%matplotlib inline\n",
    "\n",
    "# Plot a Precision-Recall Curve\n",
    "sns.set_style('darkgrid', {'axes.facecolor': '0.9'})\n",
    "\n",
    "plt.figure(figsize=(10, 8))\n",
    "lw = 2\n",
    "plt.plot(recall, precision, color='darkorange',\n",
    "         lw=lw, label='Precision-Recall curve (AUC = 0.20)')\n",
    "plt.plot([0, 1], [0, 1], color='navy', lw=lw, linestyle='--')\n",
    "plt.xlim([0.0, 1.0])\n",
    "plt.ylim([0.0, 1.05])\n",
    "plt.yticks([i/20.0 for i in range(21)])\n",
    "plt.xticks([i/20.0 for i in range(21)])\n",
    "plt.xlabel('Recall')\n",
    "plt.ylabel('Precision')\n",
    "plt.title('Precision-Recall Curve')\n",
    "plt.legend(loc='lower right')\n",
    "plt.show()"
   ]
  },
  {
   "cell_type": "code",
   "execution_count": 37,
   "metadata": {},
   "outputs": [
    {
     "data": {
      "image/png": "[encoded data removed]",
      "text/plain": [
       "<Figure size 432x288 with 2 Axes>"
      ]
     },
     "metadata": {},
     "output_type": "display_data"
    }
   ],
   "source": [
    "from sklearn.metrics import plot_confusion_matrix\n",
    "\n",
    "plot_confusion_matrix(log_model,X_test_scaled,y_test);"
   ]
  },
  {
   "cell_type": "code",
   "execution_count": 38,
   "metadata": {},
   "outputs": [
    {
     "data": {
      "image/png": "[encoded data removed]",
      "text/plain": [
       "<Figure size 432x288 with 2 Axes>"
      ]
     },
     "metadata": {},
     "output_type": "display_data"
    }
   ],
   "source": [
    "plot_confusion_matrix(clf,X_test_encoded,y_test);"
   ]
  },
  {
   "cell_type": "code",
   "execution_count": 39,
   "metadata": {},
   "outputs": [
    {
     "data": {
      "text/plain": [
       "{'x0_0.0': -0.04,\n",
       " 'x0_1.0': 0.04,\n",
       " 'x1_Adolescent': -0.09,\n",
       " 'x1_Adult': -0.26,\n",
       " 'x1_Elderly': 0.29,\n",
       " 'x1_Middle-aged': 0.07,\n",
       " 'x2_Neutral': 0.04,\n",
       " 'x2_Safe': -0.18,\n",
       " 'x2_Unsafe': 0.13,\n",
       " 'x3_0.0': -0.01,\n",
       " 'x3_1.0': 0.01,\n",
       " 'x4_0.0': 0.12,\n",
       " 'x4_1.0': -0.12,\n",
       " 'x5_Adverse Weather': 0.11,\n",
       " 'x5_Clear Weather': -0.11,\n",
       " 'x6_0': -0.07,\n",
       " 'x6_1': 0.07,\n",
       " 'x7_Above Average Speed': 0.27,\n",
       " 'x7_Average Speed': -0.08,\n",
       " 'x7_Below Average Speed': -0.18,\n",
       " 'x8_Impaired': 0.14,\n",
       " 'x8_Normal': -0.37,\n",
       " 'x8_Other': 0.23,\n",
       " 'x9_Afternoon': -0.25,\n",
       " 'x9_Early Morning': 0.23,\n",
       " 'x9_Morning': -0.16,\n",
       " 'x9_Night': 0.18,\n",
       " 'x10_F': 0.08,\n",
       " 'x10_M': -0.08}"
      ]
     },
     "execution_count": 39,
     "metadata": {},
     "output_type": "execute_result"
    }
   ],
   "source": [
    "coef_dict = {}\n",
    "for coef, feat in zip(log_model.coef_[0,:],X_train_df.columns):\n",
    "    coef_dict[feat] = coef\n",
    "for i,v in coef_dict.items():\n",
    "    coef_dict[i] = round(v,2)\n",
    "coef_dict"
   ]
  },
  {
   "cell_type": "code",
   "execution_count": 40,
   "metadata": {},
   "outputs": [
    {
     "data": {
      "text/plain": [
       "array([0.69073433, 1.33642749, 1.30996445, 1.25860001, 0.83527021])"
      ]
     },
     "execution_count": 40,
     "metadata": {},
     "output_type": "execute_result"
    }
   ],
   "source": [
    "import numpy as np\n",
    "selected_five = np.array([-0.37,0.29,0.27,0.23,-0.18])\n",
    "np.exp(selected_five)"
   ]
  },
  {
   "cell_type": "code",
   "execution_count": 41,
   "metadata": {},
   "outputs": [],
   "source": [
    "#from sklearn.model_selection import GridSearchCV\n",
    "\n",
    "#param_grid = {\n",
    "#    'C': [0.001, 0.01, 0.1, 1, 10, 100],\n",
    "#    'penalty': ['l1', 'l2', 'elasticnet'],\n",
    "#    'solver': ['newton-cg', 'lbfgs', 'liblinear', 'sag', 'saga'],\n",
    "#}\n",
    "\n",
    "#grid_search = GridSearchCV(log_model, param_grid, cv=5)\n",
    "#grid_search.fit(X_train_scaled, y_train)\n",
    "#\n",
    "# Get the best hyperparameters and score\n",
    "#best_params = grid_search.best_params_\n",
    "#best_score = grid_search.best_score_\n",
    "\n",
    "# Train a new Logistic Regression model with the best hyperparameters\n",
    "#logreg_best = LogisticRegression(random_state=312, **best_params)\n",
    "#logreg_best.fit(X_train_scaled, y_train)\n",
    "\n",
    "# Obtain predictions on the test set\n",
    "#y_pred = logreg_best.predict(X_test_scaled)"
   ]
  },
  {
   "cell_type": "code",
   "execution_count": 42,
   "metadata": {},
   "outputs": [],
   "source": [
    "# Generate a classification report for the predictions\n",
    "#from sklearn.metrics import classification_report\n",
    "\n",
    "#print(classification_report(y_test, y_pred))"
   ]
  },
  {
   "cell_type": "code",
   "execution_count": 43,
   "metadata": {},
   "outputs": [],
   "source": [
    "#best_params"
   ]
  },
  {
   "cell_type": "code",
   "execution_count": 44,
   "metadata": {},
   "outputs": [
    {
     "name": "stdout",
     "output_type": "stream",
     "text": [
      "Train Precision: 0.12460353420933394\n",
      "Test Precision: 0.13611615245009073\n",
      "Train Recall: 0.55\n",
      "Test Recall: 0.5319148936170213\n"
     ]
    }
   ],
   "source": [
    "log_model = LogisticRegression(C=.001,class_weight='balanced',max_iter=1000,random_state=312)\n",
    "log_model.fit(X_train_scaled,y_train)\n",
    "\n",
    "y_train_pred = log_model.predict(X_train_scaled)\n",
    "y_test_pred = log_model.predict(X_test_scaled)\n",
    "\n",
    "train_p = precision_score(y_train,y_train_pred)\n",
    "test_p = precision_score(y_test,y_test_pred)\n",
    "train_r = recall_score(y_train,y_train_pred)\n",
    "test_r = recall_score(y_test,y_test_pred)\n",
    "\n",
    "print(f'Train Precision: {train_p}')\n",
    "print(f'Test Precision: {test_p}')\n",
    "print(f'Train Recall: {train_r}')\n",
    "print(f'Test Recall: {test_r}')"
   ]
  },
  {
   "cell_type": "code",
   "execution_count": null,
   "metadata": {},
   "outputs": [],
   "source": []
  }
 ],
 "metadata": {
  "kernelspec": {
   "display_name": "Python (learn-env)",
   "language": "python",
   "name": "learn-env"
  },
  "language_info": {
   "codemirror_mode": {
    "name": "ipython",
    "version": 3
   },
   "file_extension": ".py",
   "mimetype": "text/x-python",
   "name": "python",
   "nbconvert_exporter": "python",
   "pygments_lexer": "ipython3",
   "version": "3.8.5"
  }
 },
 "nbformat": 4,
 "nbformat_minor": 4
}
