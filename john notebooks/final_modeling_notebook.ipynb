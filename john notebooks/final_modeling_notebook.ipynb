{
 "cells": [
  {
   "cell_type": "code",
   "execution_count": 1,
   "metadata": {},
   "outputs": [],
   "source": [
    "#import pandas\n",
    "import pandas as pd"
   ]
  },
  {
   "cell_type": "code",
   "execution_count": 2,
   "metadata": {},
   "outputs": [],
   "source": [
    "#read in csv file\n",
    "df = pd.read_csv('big_data.csv')"
   ]
  },
  {
   "cell_type": "code",
   "execution_count": 3,
   "metadata": {},
   "outputs": [
    {
     "name": "stdout",
     "output_type": "stream",
     "text": [
      "<class 'pandas.core.frame.DataFrame'>\n",
      "RangeIndex: 6807 entries, 0 to 6806\n",
      "Data columns (total 14 columns):\n",
      " #   Column               Non-Null Count  Dtype  \n",
      "---  ------               --------------  -----  \n",
      " 0   Unnamed: 0           6807 non-null   int64  \n",
      " 1   INJURY_BAD           6807 non-null   float64\n",
      " 2   HELMET_USED          6807 non-null   float64\n",
      " 3   age_bins             6807 non-null   object \n",
      " 4   SAFE_PEDAL_ACTION    6807 non-null   object \n",
      " 5   PROTECTIVE_CLOTHING  6807 non-null   float64\n",
      " 6   SAFE_LOCATION        6807 non-null   float64\n",
      " 7   WEATHER_CAT          6807 non-null   object \n",
      " 8   road_surf_bins       6807 non-null   object \n",
      " 9   DAYTIME              6807 non-null   int64  \n",
      " 10  SPEED_RATING         6807 non-null   object \n",
      " 11  physical_bins        6807 non-null   object \n",
      " 12  hour_bins            6807 non-null   object \n",
      " 13  SEX                  6807 non-null   object \n",
      "dtypes: float64(4), int64(2), object(8)\n",
      "memory usage: 744.6+ KB\n"
     ]
    }
   ],
   "source": [
    "#check data count, data types, columns\n",
    "df.info()"
   ]
  },
  {
   "cell_type": "code",
   "execution_count": 4,
   "metadata": {},
   "outputs": [],
   "source": [
    "#drop columns we won't use. first is unnecessary, second not significant, third is too similar to hour_bins\n",
    "df = df.drop(['Unnamed: 0','road_surf_bins','DAYTIME'],axis=1)"
   ]
  },
  {
   "cell_type": "code",
   "execution_count": 5,
   "metadata": {},
   "outputs": [],
   "source": [
    "#drop 3rd sex 'X', very small number in this sex category\n",
    "df = df.loc[df['SEX'] != 'X']"
   ]
  },
  {
   "cell_type": "code",
   "execution_count": 6,
   "metadata": {},
   "outputs": [],
   "source": [
    "#drop 'Shaken' category in driver physical condition, which is too influenced by 'Taken to EMS'.\n",
    "#Tells us less about driver at time of crash and more about driver after the crash (less cause, more result).\n",
    "#Of course more likely to have a bad crash if the driver also needed to be hospitalized.\n",
    "df = df.loc[df['physical_bins'] != 'Shaken']"
   ]
  },
  {
   "cell_type": "code",
   "execution_count": 7,
   "metadata": {},
   "outputs": [
    {
     "data": {
      "text/plain": [
       "M    5202\n",
       "F    1369\n",
       "Name: SEX, dtype: int64"
      ]
     },
     "execution_count": 7,
     "metadata": {},
     "output_type": "execute_result"
    }
   ],
   "source": [
    "#check to see if 'X' was dropped from sex column\n",
    "df['SEX'].value_counts()"
   ]
  },
  {
   "cell_type": "code",
   "execution_count": 8,
   "metadata": {},
   "outputs": [
    {
     "name": "stdout",
     "output_type": "stream",
     "text": [
      "<class 'pandas.core.frame.DataFrame'>\n",
      "Int64Index: 6571 entries, 0 to 6806\n",
      "Data columns (total 11 columns):\n",
      " #   Column               Non-Null Count  Dtype  \n",
      "---  ------               --------------  -----  \n",
      " 0   INJURY_BAD           6571 non-null   float64\n",
      " 1   HELMET_USED          6571 non-null   float64\n",
      " 2   age_bins             6571 non-null   object \n",
      " 3   SAFE_PEDAL_ACTION    6571 non-null   object \n",
      " 4   PROTECTIVE_CLOTHING  6571 non-null   float64\n",
      " 5   SAFE_LOCATION        6571 non-null   float64\n",
      " 6   WEATHER_CAT          6571 non-null   object \n",
      " 7   SPEED_RATING         6571 non-null   object \n",
      " 8   physical_bins        6571 non-null   object \n",
      " 9   hour_bins            6571 non-null   object \n",
      " 10  SEX                  6571 non-null   object \n",
      "dtypes: float64(4), object(7)\n",
      "memory usage: 616.0+ KB\n"
     ]
    }
   ],
   "source": [
    "#check to see all changes were made correctly and how many values were dropped as a result.\n",
    "df.info()"
   ]
  },
  {
   "cell_type": "code",
   "execution_count": 9,
   "metadata": {},
   "outputs": [],
   "source": [
    "#import train test split and decision tree to first determine X variable feature importances\n",
    "from sklearn.model_selection import train_test_split\n",
    "from sklearn.tree import DecisionTreeClassifier"
   ]
  },
  {
   "cell_type": "code",
   "execution_count": 10,
   "metadata": {},
   "outputs": [],
   "source": [
    "#create X and y variables, perform train test split\n",
    "y = df['INJURY_BAD']\n",
    "X = df.drop('INJURY_BAD',axis=1)\n",
    "\n",
    "X_train,X_test,y_train,y_test = train_test_split(X,y,test_size=0.2,random_state=312)"
   ]
  },
  {
   "cell_type": "code",
   "execution_count": 11,
   "metadata": {},
   "outputs": [],
   "source": [
    "#import one hot encoder\n",
    "from sklearn.preprocessing import OneHotEncoder"
   ]
  },
  {
   "cell_type": "code",
   "execution_count": 12,
   "metadata": {},
   "outputs": [],
   "source": [
    "#one hot encode X train and X test data sets\n",
    "ohe = OneHotEncoder()\n",
    "X_train_encoded = ohe.fit_transform(X_train)\n",
    "X_test_encoded = ohe.transform(X_test)"
   ]
  },
  {
   "cell_type": "code",
   "execution_count": 13,
   "metadata": {},
   "outputs": [],
   "source": [
    "#import random undersampler and randomly undersample X_train majority class (non-severe injuries)\n",
    "from imblearn.under_sampling import RandomUnderSampler\n",
    "\n",
    "under = RandomUnderSampler(random_state=312)\n",
    "X_u, y_u = under.fit_resample(X_train_encoded,y_train)"
   ]
  },
  {
   "cell_type": "code",
   "execution_count": 14,
   "metadata": {},
   "outputs": [
    {
     "data": {
      "text/plain": [
       "DecisionTreeClassifier(max_depth=7, random_state=312)"
      ]
     },
     "execution_count": 14,
     "metadata": {},
     "output_type": "execute_result"
    }
   ],
   "source": [
    "#instantiate decision tree classifier, fit it on train data that was one hot encoded and randomly undersampled\n",
    "dt = DecisionTreeClassifier(max_depth=7,random_state=312)\n",
    "dt.fit(X_u,y_u)"
   ]
  },
  {
   "cell_type": "code",
   "execution_count": 15,
   "metadata": {},
   "outputs": [
    {
     "name": "stdout",
     "output_type": "stream",
     "text": [
      "Train Precision: 0.6987704918032787\n",
      "Test Precision: 0.1173780487804878\n",
      "Train Recall: 0.682\n",
      "Test Recall: 0.5460992907801419\n"
     ]
    }
   ],
   "source": [
    "#import precision and recall scores. Evaluate train and test precision and recall scores\n",
    "from sklearn.metrics import precision_score,recall_score\n",
    "\n",
    "y_train_pred = dt.predict(X_u)\n",
    "y_test_pred = dt.predict(X_test_encoded)\n",
    "\n",
    "train_p = precision_score(y_u,y_train_pred)\n",
    "test_p = precision_score(y_test,y_test_pred)\n",
    "train_r = recall_score(y_u,y_train_pred)\n",
    "test_r = recall_score(y_test,y_test_pred)\n",
    "\n",
    "print(f'Train Precision: {train_p}')\n",
    "print(f'Test Precision: {test_p}')\n",
    "print(f'Train Recall: {train_r}')\n",
    "print(f'Test Recall: {test_r}')"
   ]
  },
  {
   "cell_type": "code",
   "execution_count": 16,
   "metadata": {},
   "outputs": [
    {
     "data": {
      "text/plain": [
       "array([0.54, 0.44, 0.38, 0.49, 0.52])"
      ]
     },
     "execution_count": 16,
     "metadata": {},
     "output_type": "execute_result"
    }
   ],
   "source": [
    "#import cross validation score. Evaluate decision tree model recall performance with default 5 folds on training set\n",
    "from sklearn.model_selection import cross_val_score\n",
    "\n",
    "recall = cross_val_score(dt,X_u,y_u,scoring='recall')\n",
    "recall"
   ]
  },
  {
   "cell_type": "code",
   "execution_count": 17,
   "metadata": {},
   "outputs": [
    {
     "data": {
      "text/plain": [
       "0.47400000000000003"
      ]
     },
     "execution_count": 17,
     "metadata": {},
     "output_type": "execute_result"
    }
   ],
   "source": [
    "#look at mean recall score from cross validation\n",
    "recall.mean()"
   ]
  },
  {
   "cell_type": "code",
   "execution_count": 18,
   "metadata": {},
   "outputs": [
    {
     "data": {
      "text/plain": [
       "array([0.55670103, 0.55696203, 0.54285714, 0.54444444, 0.53608247])"
      ]
     },
     "execution_count": 18,
     "metadata": {},
     "output_type": "execute_result"
    }
   ],
   "source": [
    "#evaluate model using precision cross validation as well (though primarily focused on recall)\n",
    "precision = cross_val_score(dt,X_u,y_u,scoring='precision')\n",
    "precision"
   ]
  },
  {
   "cell_type": "code",
   "execution_count": 19,
   "metadata": {},
   "outputs": [
    {
     "data": {
      "text/plain": [
       "0.5474094235545364"
      ]
     },
     "execution_count": 19,
     "metadata": {},
     "output_type": "execute_result"
    }
   ],
   "source": [
    "#look at mean precision score from cross validation\n",
    "precision.mean()"
   ]
  },
  {
   "cell_type": "code",
   "execution_count": 20,
   "metadata": {},
   "outputs": [
    {
     "data": {
      "text/plain": [
       "{'max_depth': 7}"
      ]
     },
     "execution_count": 20,
     "metadata": {},
     "output_type": "execute_result"
    }
   ],
   "source": [
    "#run a grid search for best max depth parameter on decision tree model to maximize recall\n",
    "from sklearn.model_selection import GridSearchCV\n",
    "\n",
    "param_grid = {'max_depth': range(1,30)}\n",
    "\n",
    "grid_search = GridSearchCV(dt, param_grid, cv=5,scoring='recall')\n",
    "grid_search.fit(X_u, y_u)\n",
    "\n",
    "#Get the best hyperparameters and score\n",
    "best_params = grid_search.best_params_\n",
    "best_score = grid_search.best_score_\n",
    "best_params"
   ]
  },
  {
   "cell_type": "code",
   "execution_count": 21,
   "metadata": {},
   "outputs": [
    {
     "data": {
      "text/plain": [
       "0.47400000000000003"
      ]
     },
     "execution_count": 21,
     "metadata": {},
     "output_type": "execute_result"
    }
   ],
   "source": [
    "#look at recall score for decision tree model with best max depth (of 7)\n",
    "best_score"
   ]
  },
  {
   "cell_type": "code",
   "execution_count": 22,
   "metadata": {},
   "outputs": [],
   "source": [
    "#get feature importances, save as a list\n",
    "importances = list(dt.feature_importances_)"
   ]
  },
  {
   "cell_type": "code",
   "execution_count": 23,
   "metadata": {},
   "outputs": [],
   "source": [
    "#turn X variables used into a dataframe with column labels\n",
    "xu_df = pd.DataFrame(X_u.todense(),columns=ohe.get_feature_names())"
   ]
  },
  {
   "cell_type": "code",
   "execution_count": 24,
   "metadata": {},
   "outputs": [],
   "source": [
    "#turn the X variable columns names into a list\n",
    "names = list(xu_df.columns)"
   ]
  },
  {
   "cell_type": "code",
   "execution_count": 25,
   "metadata": {},
   "outputs": [],
   "source": [
    "#zip the two lists into a dictionary of column names and feature importances\n",
    "importance_names = dict(zip(names,importances))"
   ]
  },
  {
   "cell_type": "code",
   "execution_count": 26,
   "metadata": {},
   "outputs": [
    {
     "data": {
      "text/plain": [
       "{'x0_0.0': 0.03783275124411903,\n",
       " 'x0_1.0': 0.025052116799617278,\n",
       " 'x1_Adolescent': 0.027740590782442277,\n",
       " 'x1_Adult': 0.062187160869183626,\n",
       " 'x1_Elderly': 0.008650461649008992,\n",
       " 'x1_Middle-aged': 0.0,\n",
       " 'x2_Neutral': 0.021526311450192154,\n",
       " 'x2_Safe': 0.08214362508442999,\n",
       " 'x2_Unsafe': 0.049880413957519285,\n",
       " 'x3_0.0': 0.06042514599040034,\n",
       " 'x3_1.0': 0.008650461649008992,\n",
       " 'x4_0.0': 0.06792879833927169,\n",
       " 'x4_1.0': 0.03197415524575112,\n",
       " 'x5_Adverse Weather': 0.05472446809861167,\n",
       " 'x5_Clear Weather': 0.01834081405009036,\n",
       " 'x6_Above Average Speed': 0.049143600386040376,\n",
       " 'x6_Average Speed': 0.030187609535017035,\n",
       " 'x6_Below Average Speed': 0.05199753462391583,\n",
       " 'x7_Impaired': 0.0,\n",
       " 'x7_Normal': 0.10078439341508483,\n",
       " 'x7_Other': 0.0,\n",
       " 'x8_Afternoon': 0.04644363464251603,\n",
       " 'x8_Early Morning': 0.010455311054789826,\n",
       " 'x8_Morning': 0.011218559769133957,\n",
       " 'x8_Night': 0.060871814477444754,\n",
       " 'x9_F': 0.058667298395674944,\n",
       " 'x9_M': 0.02317296849073565}"
      ]
     },
     "execution_count": 26,
     "metadata": {},
     "output_type": "execute_result"
    }
   ],
   "source": [
    "#look to see which columns had the highest feature importances\n",
    "importance_names"
   ]
  },
  {
   "cell_type": "code",
   "execution_count": 27,
   "metadata": {},
   "outputs": [],
   "source": [
    "#import logistic regression and minmaxscaler packages\n",
    "from sklearn.linear_model import LogisticRegression\n",
    "from sklearn.preprocessing import MinMaxScaler"
   ]
  },
  {
   "cell_type": "code",
   "execution_count": 28,
   "metadata": {},
   "outputs": [],
   "source": [
    "#turn one hot encoded datasets back into data frames\n",
    "X_train_df = pd.DataFrame(X_train_encoded.todense(),columns=ohe.get_feature_names())\n",
    "X_test_df = pd.DataFrame(X_test_encoded.todense(),columns=ohe.get_feature_names())"
   ]
  },
  {
   "cell_type": "code",
   "execution_count": 29,
   "metadata": {},
   "outputs": [
    {
     "data": {
      "text/html": [
       "<div>\n",
       "<style scoped>\n",
       "    .dataframe tbody tr th:only-of-type {\n",
       "        vertical-align: middle;\n",
       "    }\n",
       "\n",
       "    .dataframe tbody tr th {\n",
       "        vertical-align: top;\n",
       "    }\n",
       "\n",
       "    .dataframe thead th {\n",
       "        text-align: right;\n",
       "    }\n",
       "</style>\n",
       "<table border=\"1\" class=\"dataframe\">\n",
       "  <thead>\n",
       "    <tr style=\"text-align: right;\">\n",
       "      <th></th>\n",
       "      <th>x0_0.0</th>\n",
       "      <th>x0_1.0</th>\n",
       "      <th>x1_Adolescent</th>\n",
       "      <th>x1_Adult</th>\n",
       "      <th>x1_Elderly</th>\n",
       "      <th>x1_Middle-aged</th>\n",
       "      <th>x2_Neutral</th>\n",
       "      <th>x2_Safe</th>\n",
       "      <th>x2_Unsafe</th>\n",
       "      <th>x3_0.0</th>\n",
       "      <th>...</th>\n",
       "      <th>x6_Below Average Speed</th>\n",
       "      <th>x7_Impaired</th>\n",
       "      <th>x7_Normal</th>\n",
       "      <th>x7_Other</th>\n",
       "      <th>x8_Afternoon</th>\n",
       "      <th>x8_Early Morning</th>\n",
       "      <th>x8_Morning</th>\n",
       "      <th>x8_Night</th>\n",
       "      <th>x9_F</th>\n",
       "      <th>x9_M</th>\n",
       "    </tr>\n",
       "  </thead>\n",
       "  <tbody>\n",
       "    <tr>\n",
       "      <th>0</th>\n",
       "      <td>1.0</td>\n",
       "      <td>0.0</td>\n",
       "      <td>0.0</td>\n",
       "      <td>1.0</td>\n",
       "      <td>0.0</td>\n",
       "      <td>0.0</td>\n",
       "      <td>0.0</td>\n",
       "      <td>0.0</td>\n",
       "      <td>1.0</td>\n",
       "      <td>1.0</td>\n",
       "      <td>...</td>\n",
       "      <td>0.0</td>\n",
       "      <td>0.0</td>\n",
       "      <td>1.0</td>\n",
       "      <td>0.0</td>\n",
       "      <td>0.0</td>\n",
       "      <td>0.0</td>\n",
       "      <td>1.0</td>\n",
       "      <td>0.0</td>\n",
       "      <td>0.0</td>\n",
       "      <td>1.0</td>\n",
       "    </tr>\n",
       "    <tr>\n",
       "      <th>1</th>\n",
       "      <td>1.0</td>\n",
       "      <td>0.0</td>\n",
       "      <td>0.0</td>\n",
       "      <td>0.0</td>\n",
       "      <td>0.0</td>\n",
       "      <td>1.0</td>\n",
       "      <td>0.0</td>\n",
       "      <td>1.0</td>\n",
       "      <td>0.0</td>\n",
       "      <td>0.0</td>\n",
       "      <td>...</td>\n",
       "      <td>1.0</td>\n",
       "      <td>0.0</td>\n",
       "      <td>1.0</td>\n",
       "      <td>0.0</td>\n",
       "      <td>1.0</td>\n",
       "      <td>0.0</td>\n",
       "      <td>0.0</td>\n",
       "      <td>0.0</td>\n",
       "      <td>0.0</td>\n",
       "      <td>1.0</td>\n",
       "    </tr>\n",
       "    <tr>\n",
       "      <th>2</th>\n",
       "      <td>1.0</td>\n",
       "      <td>0.0</td>\n",
       "      <td>1.0</td>\n",
       "      <td>0.0</td>\n",
       "      <td>0.0</td>\n",
       "      <td>0.0</td>\n",
       "      <td>0.0</td>\n",
       "      <td>0.0</td>\n",
       "      <td>1.0</td>\n",
       "      <td>1.0</td>\n",
       "      <td>...</td>\n",
       "      <td>0.0</td>\n",
       "      <td>0.0</td>\n",
       "      <td>1.0</td>\n",
       "      <td>0.0</td>\n",
       "      <td>1.0</td>\n",
       "      <td>0.0</td>\n",
       "      <td>0.0</td>\n",
       "      <td>0.0</td>\n",
       "      <td>1.0</td>\n",
       "      <td>0.0</td>\n",
       "    </tr>\n",
       "    <tr>\n",
       "      <th>3</th>\n",
       "      <td>1.0</td>\n",
       "      <td>0.0</td>\n",
       "      <td>0.0</td>\n",
       "      <td>0.0</td>\n",
       "      <td>1.0</td>\n",
       "      <td>0.0</td>\n",
       "      <td>1.0</td>\n",
       "      <td>0.0</td>\n",
       "      <td>0.0</td>\n",
       "      <td>1.0</td>\n",
       "      <td>...</td>\n",
       "      <td>0.0</td>\n",
       "      <td>0.0</td>\n",
       "      <td>0.0</td>\n",
       "      <td>1.0</td>\n",
       "      <td>0.0</td>\n",
       "      <td>0.0</td>\n",
       "      <td>0.0</td>\n",
       "      <td>1.0</td>\n",
       "      <td>0.0</td>\n",
       "      <td>1.0</td>\n",
       "    </tr>\n",
       "    <tr>\n",
       "      <th>4</th>\n",
       "      <td>0.0</td>\n",
       "      <td>1.0</td>\n",
       "      <td>0.0</td>\n",
       "      <td>0.0</td>\n",
       "      <td>0.0</td>\n",
       "      <td>1.0</td>\n",
       "      <td>1.0</td>\n",
       "      <td>0.0</td>\n",
       "      <td>0.0</td>\n",
       "      <td>1.0</td>\n",
       "      <td>...</td>\n",
       "      <td>1.0</td>\n",
       "      <td>0.0</td>\n",
       "      <td>1.0</td>\n",
       "      <td>0.0</td>\n",
       "      <td>1.0</td>\n",
       "      <td>0.0</td>\n",
       "      <td>0.0</td>\n",
       "      <td>0.0</td>\n",
       "      <td>1.0</td>\n",
       "      <td>0.0</td>\n",
       "    </tr>\n",
       "    <tr>\n",
       "      <th>...</th>\n",
       "      <td>...</td>\n",
       "      <td>...</td>\n",
       "      <td>...</td>\n",
       "      <td>...</td>\n",
       "      <td>...</td>\n",
       "      <td>...</td>\n",
       "      <td>...</td>\n",
       "      <td>...</td>\n",
       "      <td>...</td>\n",
       "      <td>...</td>\n",
       "      <td>...</td>\n",
       "      <td>...</td>\n",
       "      <td>...</td>\n",
       "      <td>...</td>\n",
       "      <td>...</td>\n",
       "      <td>...</td>\n",
       "      <td>...</td>\n",
       "      <td>...</td>\n",
       "      <td>...</td>\n",
       "      <td>...</td>\n",
       "      <td>...</td>\n",
       "    </tr>\n",
       "    <tr>\n",
       "      <th>5251</th>\n",
       "      <td>1.0</td>\n",
       "      <td>0.0</td>\n",
       "      <td>0.0</td>\n",
       "      <td>1.0</td>\n",
       "      <td>0.0</td>\n",
       "      <td>0.0</td>\n",
       "      <td>0.0</td>\n",
       "      <td>1.0</td>\n",
       "      <td>0.0</td>\n",
       "      <td>0.0</td>\n",
       "      <td>...</td>\n",
       "      <td>0.0</td>\n",
       "      <td>0.0</td>\n",
       "      <td>1.0</td>\n",
       "      <td>0.0</td>\n",
       "      <td>0.0</td>\n",
       "      <td>0.0</td>\n",
       "      <td>0.0</td>\n",
       "      <td>1.0</td>\n",
       "      <td>1.0</td>\n",
       "      <td>0.0</td>\n",
       "    </tr>\n",
       "    <tr>\n",
       "      <th>5252</th>\n",
       "      <td>0.0</td>\n",
       "      <td>1.0</td>\n",
       "      <td>0.0</td>\n",
       "      <td>1.0</td>\n",
       "      <td>0.0</td>\n",
       "      <td>0.0</td>\n",
       "      <td>0.0</td>\n",
       "      <td>1.0</td>\n",
       "      <td>0.0</td>\n",
       "      <td>1.0</td>\n",
       "      <td>...</td>\n",
       "      <td>0.0</td>\n",
       "      <td>0.0</td>\n",
       "      <td>1.0</td>\n",
       "      <td>0.0</td>\n",
       "      <td>0.0</td>\n",
       "      <td>0.0</td>\n",
       "      <td>1.0</td>\n",
       "      <td>0.0</td>\n",
       "      <td>1.0</td>\n",
       "      <td>0.0</td>\n",
       "    </tr>\n",
       "    <tr>\n",
       "      <th>5253</th>\n",
       "      <td>1.0</td>\n",
       "      <td>0.0</td>\n",
       "      <td>0.0</td>\n",
       "      <td>1.0</td>\n",
       "      <td>0.0</td>\n",
       "      <td>0.0</td>\n",
       "      <td>1.0</td>\n",
       "      <td>0.0</td>\n",
       "      <td>0.0</td>\n",
       "      <td>0.0</td>\n",
       "      <td>...</td>\n",
       "      <td>0.0</td>\n",
       "      <td>0.0</td>\n",
       "      <td>1.0</td>\n",
       "      <td>0.0</td>\n",
       "      <td>1.0</td>\n",
       "      <td>0.0</td>\n",
       "      <td>0.0</td>\n",
       "      <td>0.0</td>\n",
       "      <td>1.0</td>\n",
       "      <td>0.0</td>\n",
       "    </tr>\n",
       "    <tr>\n",
       "      <th>5254</th>\n",
       "      <td>1.0</td>\n",
       "      <td>0.0</td>\n",
       "      <td>1.0</td>\n",
       "      <td>0.0</td>\n",
       "      <td>0.0</td>\n",
       "      <td>0.0</td>\n",
       "      <td>1.0</td>\n",
       "      <td>0.0</td>\n",
       "      <td>0.0</td>\n",
       "      <td>1.0</td>\n",
       "      <td>...</td>\n",
       "      <td>0.0</td>\n",
       "      <td>0.0</td>\n",
       "      <td>1.0</td>\n",
       "      <td>0.0</td>\n",
       "      <td>1.0</td>\n",
       "      <td>0.0</td>\n",
       "      <td>0.0</td>\n",
       "      <td>0.0</td>\n",
       "      <td>0.0</td>\n",
       "      <td>1.0</td>\n",
       "    </tr>\n",
       "    <tr>\n",
       "      <th>5255</th>\n",
       "      <td>0.0</td>\n",
       "      <td>1.0</td>\n",
       "      <td>0.0</td>\n",
       "      <td>0.0</td>\n",
       "      <td>0.0</td>\n",
       "      <td>1.0</td>\n",
       "      <td>0.0</td>\n",
       "      <td>1.0</td>\n",
       "      <td>0.0</td>\n",
       "      <td>1.0</td>\n",
       "      <td>...</td>\n",
       "      <td>0.0</td>\n",
       "      <td>0.0</td>\n",
       "      <td>1.0</td>\n",
       "      <td>0.0</td>\n",
       "      <td>0.0</td>\n",
       "      <td>0.0</td>\n",
       "      <td>1.0</td>\n",
       "      <td>0.0</td>\n",
       "      <td>0.0</td>\n",
       "      <td>1.0</td>\n",
       "    </tr>\n",
       "  </tbody>\n",
       "</table>\n",
       "<p>5256 rows × 27 columns</p>\n",
       "</div>"
      ],
      "text/plain": [
       "      x0_0.0  x0_1.0  x1_Adolescent  x1_Adult  x1_Elderly  x1_Middle-aged  \\\n",
       "0        1.0     0.0            0.0       1.0         0.0             0.0   \n",
       "1        1.0     0.0            0.0       0.0         0.0             1.0   \n",
       "2        1.0     0.0            1.0       0.0         0.0             0.0   \n",
       "3        1.0     0.0            0.0       0.0         1.0             0.0   \n",
       "4        0.0     1.0            0.0       0.0         0.0             1.0   \n",
       "...      ...     ...            ...       ...         ...             ...   \n",
       "5251     1.0     0.0            0.0       1.0         0.0             0.0   \n",
       "5252     0.0     1.0            0.0       1.0         0.0             0.0   \n",
       "5253     1.0     0.0            0.0       1.0         0.0             0.0   \n",
       "5254     1.0     0.0            1.0       0.0         0.0             0.0   \n",
       "5255     0.0     1.0            0.0       0.0         0.0             1.0   \n",
       "\n",
       "      x2_Neutral  x2_Safe  x2_Unsafe  x3_0.0  ...  x6_Below Average Speed  \\\n",
       "0            0.0      0.0        1.0     1.0  ...                     0.0   \n",
       "1            0.0      1.0        0.0     0.0  ...                     1.0   \n",
       "2            0.0      0.0        1.0     1.0  ...                     0.0   \n",
       "3            1.0      0.0        0.0     1.0  ...                     0.0   \n",
       "4            1.0      0.0        0.0     1.0  ...                     1.0   \n",
       "...          ...      ...        ...     ...  ...                     ...   \n",
       "5251         0.0      1.0        0.0     0.0  ...                     0.0   \n",
       "5252         0.0      1.0        0.0     1.0  ...                     0.0   \n",
       "5253         1.0      0.0        0.0     0.0  ...                     0.0   \n",
       "5254         1.0      0.0        0.0     1.0  ...                     0.0   \n",
       "5255         0.0      1.0        0.0     1.0  ...                     0.0   \n",
       "\n",
       "      x7_Impaired  x7_Normal  x7_Other  x8_Afternoon  x8_Early Morning  \\\n",
       "0             0.0        1.0       0.0           0.0               0.0   \n",
       "1             0.0        1.0       0.0           1.0               0.0   \n",
       "2             0.0        1.0       0.0           1.0               0.0   \n",
       "3             0.0        0.0       1.0           0.0               0.0   \n",
       "4             0.0        1.0       0.0           1.0               0.0   \n",
       "...           ...        ...       ...           ...               ...   \n",
       "5251          0.0        1.0       0.0           0.0               0.0   \n",
       "5252          0.0        1.0       0.0           0.0               0.0   \n",
       "5253          0.0        1.0       0.0           1.0               0.0   \n",
       "5254          0.0        1.0       0.0           1.0               0.0   \n",
       "5255          0.0        1.0       0.0           0.0               0.0   \n",
       "\n",
       "      x8_Morning  x8_Night  x9_F  x9_M  \n",
       "0            1.0       0.0   0.0   1.0  \n",
       "1            0.0       0.0   0.0   1.0  \n",
       "2            0.0       0.0   1.0   0.0  \n",
       "3            0.0       1.0   0.0   1.0  \n",
       "4            0.0       0.0   1.0   0.0  \n",
       "...          ...       ...   ...   ...  \n",
       "5251         0.0       1.0   1.0   0.0  \n",
       "5252         1.0       0.0   1.0   0.0  \n",
       "5253         0.0       0.0   1.0   0.0  \n",
       "5254         0.0       0.0   0.0   1.0  \n",
       "5255         1.0       0.0   0.0   1.0  \n",
       "\n",
       "[5256 rows x 27 columns]"
      ]
     },
     "execution_count": 29,
     "metadata": {},
     "output_type": "execute_result"
    }
   ],
   "source": [
    "#check to see if dataframe was correctly made\n",
    "X_train_df"
   ]
  },
  {
   "cell_type": "code",
   "execution_count": 30,
   "metadata": {
    "scrolled": true
   },
   "outputs": [
    {
     "name": "stdout",
     "output_type": "stream",
     "text": [
      "Train Precision: 0.15816326530612246\n",
      "Test Precision: 0.18633540372670807\n",
      "Train Recall: 0.186\n",
      "Test Recall: 0.2127659574468085\n"
     ]
    }
   ],
   "source": [
    "#use only most important X variable physical condition (based on decision tree feature importance)\n",
    "#scale train and test data\n",
    "#run simple logistic regression, fit on train data\n",
    "#calculate precision and recall scores for train and test sets\n",
    "scaler = MinMaxScaler()\n",
    "X_train_simple = X_train_df.iloc[:,-9:-6]\n",
    "X_test_simple = X_test_df.iloc[:,-9:-6]\n",
    "X_train_simple_scaled = scaler.fit_transform(X_train_simple)\n",
    "X_test_simple_scaled = scaler.transform(X_test_simple)\n",
    "\n",
    "log_model_simple = LogisticRegression(class_weight='balanced',random_state=312)\n",
    "\n",
    "log_model_simple.fit(X_train_simple_scaled,y_train)\n",
    "\n",
    "y_train_pred = log_model_simple.predict(X_train_simple_scaled)\n",
    "y_test_pred = log_model_simple.predict(X_test_simple_scaled)\n",
    "\n",
    "train_p = precision_score(y_train,y_train_pred)\n",
    "test_p = precision_score(y_test,y_test_pred)\n",
    "train_r = recall_score(y_train,y_train_pred)\n",
    "test_r = recall_score(y_test,y_test_pred)\n",
    "\n",
    "print(f'Train Precision: {train_p}')\n",
    "print(f'Test Precision: {test_p}')\n",
    "print(f'Train Recall: {train_r}')\n",
    "print(f'Test Recall: {test_r}')"
   ]
  },
  {
   "cell_type": "code",
   "execution_count": 31,
   "metadata": {},
   "outputs": [],
   "source": [
    "#scale data for all X variables\n",
    "scaler = MinMaxScaler()\n",
    "X_train_scaled = scaler.fit_transform(X_train_df)\n",
    "X_test_scaled = scaler.transform(X_test_df)"
   ]
  },
  {
   "cell_type": "code",
   "execution_count": 32,
   "metadata": {},
   "outputs": [],
   "source": [
    "#instantiate multiple X variables logistic regression model\n",
    "log_model = LogisticRegression(class_weight='balanced',random_state=312)"
   ]
  },
  {
   "cell_type": "code",
   "execution_count": 33,
   "metadata": {},
   "outputs": [
    {
     "data": {
      "text/plain": [
       "LogisticRegression(class_weight='balanced', random_state=312)"
      ]
     },
     "execution_count": 33,
     "metadata": {},
     "output_type": "execute_result"
    }
   ],
   "source": [
    "#fit on train set\n",
    "log_model.fit(X_train_scaled,y_train)"
   ]
  },
  {
   "cell_type": "code",
   "execution_count": 34,
   "metadata": {},
   "outputs": [
    {
     "name": "stdout",
     "output_type": "stream",
     "text": [
      "Train Precision: 0.12791828793774318\n",
      "Test Precision: 0.14583333333333334\n",
      "Train Recall: 0.526\n",
      "Test Recall: 0.5460992907801419\n"
     ]
    }
   ],
   "source": [
    "#calculate precision and recall scores for train and test sets\n",
    "y_train_pred = log_model.predict(X_train_scaled)\n",
    "y_test_pred = log_model.predict(X_test_scaled)\n",
    "\n",
    "train_p = precision_score(y_train,y_train_pred)\n",
    "test_p = precision_score(y_test,y_test_pred)\n",
    "train_r = recall_score(y_train,y_train_pred)\n",
    "test_r = recall_score(y_test,y_test_pred)\n",
    "\n",
    "print(f'Train Precision: {train_p}')\n",
    "print(f'Test Precision: {test_p}')\n",
    "print(f'Train Recall: {train_r}')\n",
    "print(f'Test Recall: {test_r}')\n"
   ]
  },
  {
   "cell_type": "code",
   "execution_count": 35,
   "metadata": {},
   "outputs": [
    {
     "data": {
      "text/plain": [
       "array([0.56, 0.43, 0.41, 0.53, 0.55])"
      ]
     },
     "execution_count": 35,
     "metadata": {},
     "output_type": "execute_result"
    }
   ],
   "source": [
    "#run cross validation on train set for recall metric\n",
    "recall = cross_val_score(log_model,X_train_scaled,y_train,scoring='recall')\n",
    "recall"
   ]
  },
  {
   "cell_type": "code",
   "execution_count": 36,
   "metadata": {},
   "outputs": [
    {
     "data": {
      "text/plain": [
       "0.496"
      ]
     },
     "execution_count": 36,
     "metadata": {},
     "output_type": "execute_result"
    }
   ],
   "source": [
    "#calculate recall mean\n",
    "recall.mean()"
   ]
  },
  {
   "cell_type": "code",
   "execution_count": 37,
   "metadata": {},
   "outputs": [
    {
     "data": {
      "text/plain": [
       "array([0.13238771, 0.11375661, 0.1025    , 0.12354312, 0.12249443])"
      ]
     },
     "execution_count": 37,
     "metadata": {},
     "output_type": "execute_result"
    }
   ],
   "source": [
    "#run cross valiation on train set for precision metric\n",
    "precision = cross_val_score(log_model,X_train_scaled,y_train,scoring='precision')\n",
    "precision"
   ]
  },
  {
   "cell_type": "code",
   "execution_count": 38,
   "metadata": {},
   "outputs": [
    {
     "data": {
      "text/plain": [
       "0.11893637524535974"
      ]
     },
     "execution_count": 38,
     "metadata": {},
     "output_type": "execute_result"
    }
   ],
   "source": [
    "#calculate precision mean\n",
    "precision.mean()"
   ]
  },
  {
   "cell_type": "code",
   "execution_count": 39,
   "metadata": {},
   "outputs": [
    {
     "data": {
      "text/plain": [
       "{'x0_0.0': -0.04,\n",
       " 'x0_1.0': 0.03,\n",
       " 'x1_Adolescent': -0.09,\n",
       " 'x1_Adult': -0.26,\n",
       " 'x1_Elderly': 0.29,\n",
       " 'x1_Middle-aged': 0.06,\n",
       " 'x2_Neutral': 0.04,\n",
       " 'x2_Safe': -0.18,\n",
       " 'x2_Unsafe': 0.14,\n",
       " 'x3_0.0': -0.01,\n",
       " 'x3_1.0': 0.01,\n",
       " 'x4_0.0': 0.11,\n",
       " 'x4_1.0': -0.12,\n",
       " 'x5_Adverse Weather': 0.09,\n",
       " 'x5_Clear Weather': -0.1,\n",
       " 'x6_Above Average Speed': 0.26,\n",
       " 'x6_Average Speed': -0.08,\n",
       " 'x6_Below Average Speed': -0.18,\n",
       " 'x7_Impaired': 0.14,\n",
       " 'x7_Normal': -0.36,\n",
       " 'x7_Other': 0.23,\n",
       " 'x8_Afternoon': -0.21,\n",
       " 'x8_Early Morning': 0.2,\n",
       " 'x8_Morning': -0.1,\n",
       " 'x8_Night': 0.11,\n",
       " 'x9_F': 0.08,\n",
       " 'x9_M': -0.08}"
      ]
     },
     "execution_count": 39,
     "metadata": {},
     "output_type": "execute_result"
    }
   ],
   "source": [
    "#create a dictionary with column names and logistic regression coefficients\n",
    "coef_dict = {}\n",
    "for coef, feat in zip(log_model.coef_[0,:],X_train_df.columns):\n",
    "    coef_dict[feat] = coef\n",
    "for i,v in coef_dict.items():\n",
    "    coef_dict[i] = round(v,2)\n",
    "coef_dict"
   ]
  },
  {
   "cell_type": "code",
   "execution_count": 40,
   "metadata": {},
   "outputs": [
    {
     "data": {
      "text/plain": [
       "array([0.69767633, 1.33642749, 1.29693009, 1.22140276, 0.83527021])"
      ]
     },
     "execution_count": 40,
     "metadata": {},
     "output_type": "execute_result"
    }
   ],
   "source": [
    "#turn selected top five log odds coefficients into odds for easier interpretation in presentation\n",
    "import numpy as np\n",
    "selected_five = np.array([-0.36,0.29,0.26,0.2,-0.18])\n",
    "np.exp(selected_five)"
   ]
  },
  {
   "cell_type": "code",
   "execution_count": 41,
   "metadata": {},
   "outputs": [
    {
     "data": {
      "text/plain": [
       "{'C': 0.001, 'class_weight': 'balanced', 'max_iter': 100}"
      ]
     },
     "execution_count": 41,
     "metadata": {},
     "output_type": "execute_result"
    }
   ],
   "source": [
    "#run grid search to tune logistic regression for best recall score\n",
    "param_grid = {'max_iter': [100,200,500,1000],'C': [0.001, 0.01, 0.1,1],'class_weight':['balanced']}\n",
    "\n",
    "grid_search = GridSearchCV(log_model, param_grid, cv=5,scoring='recall')\n",
    "grid_search.fit(X_train_scaled, y_train)\n",
    "\n",
    "#Get the best hyperparameters and score\n",
    "best_params = grid_search.best_params_\n",
    "best_score = grid_search.best_score_\n",
    "best_params"
   ]
  },
  {
   "cell_type": "code",
   "execution_count": 42,
   "metadata": {},
   "outputs": [
    {
     "data": {
      "text/plain": [
       "0.502"
      ]
     },
     "execution_count": 42,
     "metadata": {},
     "output_type": "execute_result"
    }
   ],
   "source": [
    "#look at best recall score with optimal parameters\n",
    "best_score"
   ]
  },
  {
   "cell_type": "code",
   "execution_count": 43,
   "metadata": {},
   "outputs": [],
   "source": [
    "#instantiate logistic regression model with optimal parameters\n",
    "log_model_grid = LogisticRegression(C=.001,class_weight='balanced',max_iter=100,random_state=312)"
   ]
  },
  {
   "cell_type": "code",
   "execution_count": 44,
   "metadata": {},
   "outputs": [
    {
     "data": {
      "text/plain": [
       "LogisticRegression(C=0.001, class_weight='balanced', random_state=312)"
      ]
     },
     "execution_count": 44,
     "metadata": {},
     "output_type": "execute_result"
    }
   ],
   "source": [
    "#fit on train set\n",
    "log_model_grid.fit(X_train_scaled,y_train)"
   ]
  },
  {
   "cell_type": "code",
   "execution_count": 45,
   "metadata": {},
   "outputs": [
    {
     "name": "stdout",
     "output_type": "stream",
     "text": [
      "Train Precision: 0.12210621879255561\n",
      "Test Precision: 0.13296903460837886\n",
      "Train Recall: 0.538\n",
      "Test Recall: 0.5177304964539007\n"
     ]
    }
   ],
   "source": [
    "#evaluate model by looking at precision and recall scores on train and test sets\n",
    "y_train_pred = log_model_grid.predict(X_train_scaled)\n",
    "y_test_pred = log_model_grid.predict(X_test_scaled)\n",
    "\n",
    "train_p = precision_score(y_train,y_train_pred)\n",
    "test_p = precision_score(y_test,y_test_pred)\n",
    "train_r = recall_score(y_train,y_train_pred)\n",
    "test_r = recall_score(y_test,y_test_pred)\n",
    "\n",
    "print(f'Train Precision: {train_p}')\n",
    "print(f'Test Precision: {test_p}')\n",
    "print(f'Train Recall: {train_r}')\n",
    "print(f'Test Recall: {test_r}')\n"
   ]
  },
  {
   "cell_type": "code",
   "execution_count": 46,
   "metadata": {},
   "outputs": [
    {
     "data": {
      "text/plain": [
       "array([0.12747253, 0.1002445 , 0.1026253 , 0.11637931, 0.12087912])"
      ]
     },
     "execution_count": 46,
     "metadata": {},
     "output_type": "execute_result"
    }
   ],
   "source": [
    "#grid search best score already looked at recall, but we use cross validation to look at precision score as well\n",
    "precision = cross_val_score(log_model_grid,X_train_scaled,y_train,scoring='precision')\n",
    "precision"
   ]
  },
  {
   "cell_type": "code",
   "execution_count": 47,
   "metadata": {},
   "outputs": [
    {
     "data": {
      "text/plain": [
       "0.11352015116066752"
      ]
     },
     "execution_count": 47,
     "metadata": {},
     "output_type": "execute_result"
    }
   ],
   "source": [
    "#calculate precision mean from 5 folds\n",
    "precision.mean()"
   ]
  },
  {
   "cell_type": "code",
   "execution_count": 48,
   "metadata": {},
   "outputs": [
    {
     "data": {
      "text/plain": [
       "RandomForestClassifier(max_depth=5, n_estimators=500, random_state=312)"
      ]
     },
     "execution_count": 48,
     "metadata": {},
     "output_type": "execute_result"
    }
   ],
   "source": [
    "#import random forest classifier, instantiate random forest model, and fit on train data\n",
    "from sklearn.ensemble import RandomForestClassifier\n",
    "\n",
    "clf = RandomForestClassifier(n_estimators=500,max_depth=5,random_state=312)\n",
    "clf.fit(X_u,y_u)"
   ]
  },
  {
   "cell_type": "code",
   "execution_count": 49,
   "metadata": {
    "scrolled": true
   },
   "outputs": [
    {
     "name": "stdout",
     "output_type": "stream",
     "text": [
      "Train Precision: 0.6751054852320675\n",
      "Test Precision: 0.1343804537521815\n",
      "Train Recall: 0.64\n",
      "Test Recall: 0.5460992907801419\n"
     ]
    }
   ],
   "source": [
    "#evaluate model by looking at precision and recall scores on train and test sets\n",
    "y_train_pred = clf.predict(X_u)\n",
    "y_test_pred = clf.predict(X_test_encoded)\n",
    "\n",
    "train_p = precision_score(y_u,y_train_pred)\n",
    "test_p = precision_score(y_test,y_test_pred)\n",
    "train_r = recall_score(y_u,y_train_pred)\n",
    "test_r = recall_score(y_test,y_test_pred)\n",
    "\n",
    "print(f'Train Precision: {train_p}')\n",
    "print(f'Test Precision: {test_p}')\n",
    "print(f'Train Recall: {train_r}')\n",
    "print(f'Test Recall: {test_r}')"
   ]
  },
  {
   "cell_type": "code",
   "execution_count": 50,
   "metadata": {},
   "outputs": [
    {
     "data": {
      "text/plain": [
       "{'max_depth': 5, 'n_estimators': 500}"
      ]
     },
     "execution_count": 50,
     "metadata": {},
     "output_type": "execute_result"
    }
   ],
   "source": [
    "#run grid search to tune random forest for best recall score\n",
    "param_grid = {'max_depth': range(2,10),'n_estimators': [100,200,300,400,500]}\n",
    "\n",
    "grid_search = GridSearchCV(clf, param_grid, cv=5,scoring='recall')\n",
    "grid_search.fit(X_u, y_u)\n",
    "\n",
    "#Get the best hyperparameters and score\n",
    "best_params = grid_search.best_params_\n",
    "best_score = grid_search.best_score_\n",
    "best_params"
   ]
  },
  {
   "cell_type": "code",
   "execution_count": 51,
   "metadata": {},
   "outputs": [
    {
     "data": {
      "text/plain": [
       "0.5279999999999999"
      ]
     },
     "execution_count": 51,
     "metadata": {},
     "output_type": "execute_result"
    }
   ],
   "source": [
    "#look at best recall score with optimal parameters\n",
    "best_score"
   ]
  },
  {
   "cell_type": "code",
   "execution_count": 52,
   "metadata": {},
   "outputs": [
    {
     "data": {
      "text/plain": [
       "array([0.59      , 0.62337662, 0.61428571, 0.56043956, 0.5625    ])"
      ]
     },
     "execution_count": 52,
     "metadata": {},
     "output_type": "execute_result"
    }
   ],
   "source": [
    "#grid search best score already looked at recall, but we use cross validation to look at precision score as well\n",
    "precision = cross_val_score(clf,X_u,y_u,scoring='precision')\n",
    "precision"
   ]
  },
  {
   "cell_type": "code",
   "execution_count": 53,
   "metadata": {},
   "outputs": [
    {
     "data": {
      "text/plain": [
       "0.5901203796203797"
      ]
     },
     "execution_count": 53,
     "metadata": {},
     "output_type": "execute_result"
    }
   ],
   "source": [
    "#calculate precision mean from 5 folds\n",
    "precision.mean()"
   ]
  },
  {
   "cell_type": "code",
   "execution_count": 54,
   "metadata": {},
   "outputs": [
    {
     "data": {
      "text/plain": [
       "{'x0_0.0': 0.025397153454684105,\n",
       " 'x0_1.0': 0.030802459313423812,\n",
       " 'x1_Adolescent': 0.02338442111246625,\n",
       " 'x1_Adult': 0.07663359814006672,\n",
       " 'x1_Elderly': 0.05529485976585344,\n",
       " 'x1_Middle-aged': 0.03759085227728753,\n",
       " 'x2_Neutral': 0.026851381395796143,\n",
       " 'x2_Safe': 0.03207821719511488,\n",
       " 'x2_Unsafe': 0.047373731337727286,\n",
       " 'x3_0.0': 0.02818312311834049,\n",
       " 'x3_1.0': 0.026352647951092247,\n",
       " 'x4_0.0': 0.053776355497075795,\n",
       " 'x4_1.0': 0.05141328340963572,\n",
       " 'x5_Adverse Weather': 0.022195261509765776,\n",
       " 'x5_Clear Weather': 0.02199090772087557,\n",
       " 'x6_Above Average Speed': 0.03433395492997533,\n",
       " 'x6_Average Speed': 0.025165854999724596,\n",
       " 'x6_Below Average Speed': 0.024355966332122846,\n",
       " 'x7_Impaired': 0.020418045264655058,\n",
       " 'x7_Normal': 0.09430085509256886,\n",
       " 'x7_Other': 0.06165348860620456,\n",
       " 'x8_Afternoon': 0.053157149121422255,\n",
       " 'x8_Early Morning': 0.02337384461662752,\n",
       " 'x8_Morning': 0.025489248739164447,\n",
       " 'x8_Night': 0.04128665390406852,\n",
       " 'x9_F': 0.01701105258968977,\n",
       " 'x9_M': 0.02013563260457047}"
      ]
     },
     "execution_count": 54,
     "metadata": {},
     "output_type": "execute_result"
    }
   ],
   "source": [
    "#similar to decision tree, look to see which columns had the highest feature importances\n",
    "importances = list(clf.feature_importances_)\n",
    "names = list(xu_df.columns)\n",
    "importance_names = dict(zip(names,importances))\n",
    "importance_names"
   ]
  },
  {
   "cell_type": "code",
   "execution_count": 55,
   "metadata": {},
   "outputs": [
    {
     "name": "stdout",
     "output_type": "stream",
     "text": [
      "AUC: 0.1390465956571374\n"
     ]
    }
   ],
   "source": [
    "#import precision recall curve and area under the curve metrics\n",
    "from sklearn.metrics import precision_recall_curve, auc\n",
    "\n",
    "y_score = log_model.decision_function(X_test_scaled)\n",
    "precision,recall,thresholds = precision_recall_curve(y_test,y_score)\n",
    "print('AUC: {}'.format(auc(recall, precision)))"
   ]
  },
  {
   "cell_type": "code",
   "execution_count": 67,
   "metadata": {},
   "outputs": [
    {
     "data": {
      "text/plain": [
       "0.0    0.904871\n",
       "1.0    0.095129\n",
       "Name: INJURY_BAD, dtype: float64"
      ]
     },
     "execution_count": 67,
     "metadata": {},
     "output_type": "execute_result"
    }
   ],
   "source": [
    "#calculate junk classifier for precision recall curve, which is equal to positive share of train set\n",
    "y_train.value_counts(normalize=True)"
   ]
  },
  {
   "cell_type": "code",
   "execution_count": 66,
   "metadata": {},
   "outputs": [
    {
     "data": {
      "image/png": "[encoded data removed]",
      "text/plain": [
       "<Figure size 720x576 with 1 Axes>"
      ]
     },
     "metadata": {},
     "output_type": "display_data"
    }
   ],
   "source": [
    "#chart precision recall curve for multi-variable logistic regression versus junk classifier\n",
    "import matplotlib.pyplot as plt\n",
    "import seaborn as sns\n",
    "%matplotlib inline\n",
    "\n",
    "# Plot a Precision-Recall Curve\n",
    "sns.set_style('darkgrid', {'axes.facecolor': '0.9'})\n",
    "\n",
    "plt.figure(figsize=(10, 8))\n",
    "lw = 2\n",
    "plt.plot(recall, precision, color='darkorange',\n",
    "         lw=lw, label='Precision-Recall curve (AUC = 0.14)')\n",
    "plt.plot([0, 1], [0.0951, .0951], color='navy', lw=lw, linestyle='--',label='Junk Classifier (AUC = .095)')\n",
    "plt.xlim([0.0, 1.0])\n",
    "plt.ylim([0.0, 1.00])\n",
    "plt.yticks([i/20.0 for i in range(21)])\n",
    "plt.xticks([i/20.0 for i in range(21)])\n",
    "plt.xlabel('Recall')\n",
    "plt.ylabel('Precision')\n",
    "plt.title('Precision-Recall Curve')\n",
    "plt.legend(loc='upper right')\n",
    "plt.show()"
   ]
  },
  {
   "cell_type": "code",
   "execution_count": 57,
   "metadata": {},
   "outputs": [
    {
     "data": {
      "image/png": "[encoded data removed]",
      "text/plain": [
       "<Figure size 432x288 with 2 Axes>"
      ]
     },
     "metadata": {},
     "output_type": "display_data"
    }
   ],
   "source": [
    "#import confusion matrix plot and plot confusion matrix for simple logistic regression\n",
    "from sklearn.metrics import plot_confusion_matrix\n",
    "\n",
    "plot_confusion_matrix(log_model_simple,X_test_simple_scaled,y_test);"
   ]
  },
  {
   "cell_type": "code",
   "execution_count": 58,
   "metadata": {},
   "outputs": [
    {
     "data": {
      "image/png": "[encoded data removed]",
      "text/plain": [
       "<Figure size 432x288 with 2 Axes>"
      ]
     },
     "metadata": {},
     "output_type": "display_data"
    }
   ],
   "source": [
    "#plot confusion matrix for multiple X variables logistic regression\n",
    "plot_confusion_matrix(log_model,X_test_scaled,y_test);"
   ]
  },
  {
   "cell_type": "code",
   "execution_count": 59,
   "metadata": {},
   "outputs": [
    {
     "data": {
      "image/png": "[encoded data removed]",
      "text/plain": [
       "<Figure size 432x288 with 2 Axes>"
      ]
     },
     "metadata": {},
     "output_type": "display_data"
    }
   ],
   "source": [
    "#plot confusion matrix for decision tree model\n",
    "plot_confusion_matrix(dt,X_test_encoded,y_test);"
   ]
  },
  {
   "cell_type": "code",
   "execution_count": 60,
   "metadata": {},
   "outputs": [
    {
     "data": {
      "image/png": "[encoded data removed]",
      "text/plain": [
       "<Figure size 432x288 with 2 Axes>"
      ]
     },
     "metadata": {},
     "output_type": "display_data"
    }
   ],
   "source": [
    "#plot confusion matrix for random forest model\n",
    "plot_confusion_matrix(clf,X_test_encoded,y_test);"
   ]
  }
 ],
 "metadata": {
  "kernelspec": {
   "display_name": "Python (learn-env)",
   "language": "python",
   "name": "learn-env"
  },
  "language_info": {
   "codemirror_mode": {
    "name": "ipython",
    "version": 3
   },
   "file_extension": ".py",
   "mimetype": "text/x-python",
   "name": "python",
   "nbconvert_exporter": "python",
   "pygments_lexer": "ipython3",
   "version": "3.8.5"
  }
 },
 "nbformat": 4,
 "nbformat_minor": 4
}
