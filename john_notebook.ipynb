{
 "cells": [
  {
   "cell_type": "code",
   "execution_count": 1,
   "metadata": {},
   "outputs": [],
   "source": [
    "import pandas as pd"
   ]
  },
  {
   "cell_type": "code",
   "execution_count": 2,
   "metadata": {},
   "outputs": [],
   "source": [
    "df = pd.read_csv(\"bikers.csv\", low_memory=False)"
   ]
  },
  {
   "cell_type": "code",
   "execution_count": 3,
   "metadata": {},
   "outputs": [],
   "source": [
    "columns_to_drop = ['HOSPITAL', 'EMS_AGENCY', 'BAC_RESULT VALUE', \n",
    "                   'CELL_PHONE_USE', 'DATE_POLICE_NOTIFIED', 'PHOTOS_TAKEN_I',\n",
    "                  'STATEMENTS_TAKEN_I', 'LATITUDE', 'LONGITUDE', 'LOCATION', 'CMRC_VEH_I', 'MAKE', 'MODEL', 'LIC_PLATE_STATE', \n",
    "                   'VEHICLE_USE', 'TOWED_I', 'FIRE_I',\n",
    "                  'EXCEED_SPEED_LIMIT_I', 'TOWED_BY', 'TOWED_TO', 'AREA_00_I', 'AREA_01_I',\n",
    "                  'AREA_02_I', 'AREA_03_I', 'AREA_04_I', 'AREA_05_I', 'AREA_06_I', 'AREA_07_I',\n",
    "                  'AREA_08_I', 'AREA_09_I', 'AREA_10_I', 'AREA_11_I', 'AREA_12_I', 'AREA_99_I',\n",
    "                  'CMV_ID', 'USDOT_NO', 'CCMC_NO', 'ILCC_NO', 'COMMERCIAL_SRC', 'GVWR', 'CARRIER_NAME',\n",
    "                  'HAZMAT_PRESENT_I', 'HAZMAT_REPORT_I', 'MCS_VIO_CAUSE_CRASH_I', 'TRAILER1_WIDTH',\n",
    "                  'TRAILER1_LENGTH', 'TOTAL_VEHICLE_LENGTH', 'AXLE_CNT', 'VEHICLE_CONFIG', \n",
    "                  'CARGO_BODY_TYPE', 'LOAD_TYPE', 'HAZMAT_OUT_OF_SERVICE_I', 'MCS_OUT_OF_SERVICE_I',\n",
    "                  'HAZMAT_CLASS', 'INJURIES_TOTAL', 'INJURIES_FATAL', 'INJURIES_INCAPACITATING', \n",
    "                   'INJURIES_NON_INCAPACITATING', 'INJURIES_REPORTED_NOT_EVIDENT', 'INJURIES_NO_INDICATION',\n",
    "                  'INJURIES_UNKNOWN', 'CARRIER_STATE', 'CARRIER_CITY', 'MCS_REPORT_I',\n",
    "                  'HAZMAT_VIO_CAUSE_CRASH_I'] \n",
    "\n",
    "df = pd.read_csv('bikers.csv', low_memory=False)\n",
    "df = df.drop(columns = columns_to_drop)"
   ]
  },
  {
   "cell_type": "code",
   "execution_count": 4,
   "metadata": {},
   "outputs": [
    {
     "name": "stdout",
     "output_type": "stream",
     "text": [
      "<class 'pandas.core.frame.DataFrame'>\n",
      "RangeIndex: 10394 entries, 0 to 10393\n",
      "Data columns (total 70 columns):\n",
      " #   Column                   Non-Null Count  Dtype  \n",
      "---  ------                   --------------  -----  \n",
      " 0   Unnamed: 0               10394 non-null  int64  \n",
      " 1   PERSON_ID                10394 non-null  object \n",
      " 2   PERSON_TYPE              10394 non-null  object \n",
      " 3   CRASH_RECORD_ID          10394 non-null  object \n",
      " 4   RD_NO_x                  10371 non-null  object \n",
      " 5   CRASH_DATE_x             10394 non-null  object \n",
      " 6   CITY                     8934 non-null   object \n",
      " 7   STATE                    8832 non-null   object \n",
      " 8   ZIPCODE                  7421 non-null   object \n",
      " 9   SEX                      10249 non-null  object \n",
      " 10  AGE                      8844 non-null   float64\n",
      " 11  SAFETY_EQUIPMENT         10256 non-null  object \n",
      " 12  EJECTION                 10069 non-null  object \n",
      " 13  INJURY_CLASSIFICATION    10392 non-null  object \n",
      " 14  DRIVER_ACTION            10191 non-null  object \n",
      " 15  DRIVER_VISION            10152 non-null  object \n",
      " 16  PHYSICAL_CONDITION       10204 non-null  object \n",
      " 17  PEDPEDAL_ACTION          10392 non-null  object \n",
      " 18  PEDPEDAL_VISIBILITY      10392 non-null  object \n",
      " 19  PEDPEDAL_LOCATION        10392 non-null  object \n",
      " 20  BAC_RESULT               10036 non-null  object \n",
      " 21  RD_NO_y                  10371 non-null  object \n",
      " 22  CRASH_DATE_EST_I         519 non-null    object \n",
      " 23  CRASH_DATE_y             10394 non-null  object \n",
      " 24  POSTED_SPEED_LIMIT       10394 non-null  int64  \n",
      " 25  TRAFFIC_CONTROL_DEVICE   10394 non-null  object \n",
      " 26  DEVICE_CONDITION         10394 non-null  object \n",
      " 27  WEATHER_CONDITION        10394 non-null  object \n",
      " 28  LIGHTING_CONDITION       10394 non-null  object \n",
      " 29  FIRST_CRASH_TYPE         10394 non-null  object \n",
      " 30  TRAFFICWAY_TYPE          10394 non-null  object \n",
      " 31  LANE_CNT                 2921 non-null   float64\n",
      " 32  ALIGNMENT                10394 non-null  object \n",
      " 33  ROADWAY_SURFACE_COND     10394 non-null  object \n",
      " 34  ROAD_DEFECT              10394 non-null  object \n",
      " 35  REPORT_TYPE              10015 non-null  object \n",
      " 36  CRASH_TYPE               10394 non-null  object \n",
      " 37  INTERSECTION_RELATED_I   3879 non-null   object \n",
      " 38  NOT_RIGHT_OF_WAY_I       88 non-null     object \n",
      " 39  HIT_AND_RUN_I            2795 non-null   object \n",
      " 40  DAMAGE                   10394 non-null  object \n",
      " 41  PRIM_CONTRIBUTORY_CAUSE  10394 non-null  object \n",
      " 42  SEC_CONTRIBUTORY_CAUSE   10394 non-null  object \n",
      " 43  STREET_NO                10394 non-null  int64  \n",
      " 44  STREET_DIRECTION         10394 non-null  object \n",
      " 45  STREET_NAME              10394 non-null  object \n",
      " 46  BEAT_OF_OCCURRENCE       10394 non-null  float64\n",
      " 47  DOORING_I                1690 non-null   object \n",
      " 48  WORK_ZONE_I              59 non-null     object \n",
      " 49  WORK_ZONE_TYPE           41 non-null     object \n",
      " 50  WORKERS_PRESENT_I        14 non-null     object \n",
      " 51  NUM_UNITS                10394 non-null  int64  \n",
      " 52  MOST_SEVERE_INJURY       10394 non-null  object \n",
      " 53  CRASH_HOUR               10394 non-null  int64  \n",
      " 54  CRASH_DAY_OF_WEEK        10394 non-null  int64  \n",
      " 55  CRASH_MONTH              10394 non-null  int64  \n",
      " 56  CRASH_UNIT_ID            10394 non-null  int64  \n",
      " 57  RD_NO                    10371 non-null  object \n",
      " 58  CRASH_DATE               10394 non-null  object \n",
      " 59  UNIT_NO                  10394 non-null  int64  \n",
      " 60  UNIT_TYPE                10370 non-null  object \n",
      " 61  NUM_PASSENGERS           1151 non-null   float64\n",
      " 62  VEHICLE_ID_y             6829 non-null   float64\n",
      " 63  VEHICLE_YEAR             4911 non-null   float64\n",
      " 64  VEHICLE_DEFECT           6829 non-null   object \n",
      " 65  VEHICLE_TYPE             6829 non-null   object \n",
      " 66  TRAVEL_DIRECTION         6829 non-null   object \n",
      " 67  MANEUVER                 6829 non-null   object \n",
      " 68  OCCUPANT_CNT             6829 non-null   float64\n",
      " 69  FIRST_CONTACT_POINT      6762 non-null   object \n",
      "dtypes: float64(7), int64(9), object(54)\n",
      "memory usage: 5.6+ MB\n"
     ]
    }
   ],
   "source": [
    "df.info()"
   ]
  },
  {
   "cell_type": "code",
   "execution_count": 5,
   "metadata": {},
   "outputs": [
    {
     "data": {
      "text/plain": [
       "NORMAL                          7741\n",
       "UNKNOWN                         1912\n",
       "REMOVED BY EMS                   302\n",
       "IMPAIRED - ALCOHOL                72\n",
       "OTHER                             54\n",
       "HAD BEEN DRINKING                 45\n",
       "EMOTIONAL                         41\n",
       "IMPAIRED - DRUGS                  16\n",
       "FATIGUED/ASLEEP                   11\n",
       "IMPAIRED - ALCOHOL AND DRUGS       6\n",
       "MEDICATED                          3\n",
       "ILLNESS/FAINTED                    1\n",
       "Name: PHYSICAL_CONDITION, dtype: int64"
      ]
     },
     "execution_count": 5,
     "metadata": {},
     "output_type": "execute_result"
    }
   ],
   "source": [
    "df['PHYSICAL_CONDITION'].value_counts()"
   ]
  },
  {
   "cell_type": "code",
   "execution_count": 6,
   "metadata": {},
   "outputs": [
    {
     "data": {
      "text/plain": [
       "NOT OBSCURED              6047\n",
       "UNKNOWN                   3694\n",
       "OTHER                      166\n",
       "MOVING VEHICLES            103\n",
       "PARKED VEHICLES             76\n",
       "BUILDINGS                   35\n",
       "TREES, PLANTS               14\n",
       "WINDSHIELD (WATER/ICE)      10\n",
       "BLINDED - SUNLIGHT           4\n",
       "BLINDED - HEADLIGHTS         2\n",
       "HILLCREST                    1\n",
       "Name: DRIVER_VISION, dtype: int64"
      ]
     },
     "execution_count": 6,
     "metadata": {},
     "output_type": "execute_result"
    }
   ],
   "source": [
    "df['DRIVER_VISION'].value_counts()"
   ]
  },
  {
   "cell_type": "code",
   "execution_count": 7,
   "metadata": {},
   "outputs": [
    {
     "data": {
      "text/plain": [
       "NONINCAPACITATING INJURY    5010\n",
       "NO INDICATION OF INJURY     3193\n",
       "REPORTED, NOT EVIDENT       1168\n",
       "INCAPACITATING INJURY        991\n",
       "FATAL                         32\n",
       "Name: MOST_SEVERE_INJURY, dtype: int64"
      ]
     },
     "execution_count": 7,
     "metadata": {},
     "output_type": "execute_result"
    }
   ],
   "source": [
    "df['MOST_SEVERE_INJURY'].value_counts()"
   ]
  },
  {
   "cell_type": "code",
   "execution_count": 8,
   "metadata": {},
   "outputs": [
    {
     "data": {
      "text/plain": [
       "17    1139\n",
       "16     966\n",
       "18     910\n",
       "15     875\n",
       "14     705\n",
       "19     657\n",
       "13     567\n",
       "12     537\n",
       "8      535\n",
       "20     528\n",
       "9      436\n",
       "11     435\n",
       "7      393\n",
       "10     383\n",
       "21     365\n",
       "22     247\n",
       "23     211\n",
       "6      130\n",
       "0      121\n",
       "1       71\n",
       "5       63\n",
       "2       58\n",
       "3       37\n",
       "4       25\n",
       "Name: CRASH_HOUR, dtype: int64"
      ]
     },
     "execution_count": 8,
     "metadata": {},
     "output_type": "execute_result"
    }
   ],
   "source": [
    "df['CRASH_HOUR'].value_counts()"
   ]
  },
  {
   "cell_type": "code",
   "execution_count": 9,
   "metadata": {},
   "outputs": [
    {
     "data": {
      "text/plain": [
       "6    1691\n",
       "4    1632\n",
       "5    1598\n",
       "3    1590\n",
       "2    1425\n",
       "7    1397\n",
       "1    1061\n",
       "Name: CRASH_DAY_OF_WEEK, dtype: int64"
      ]
     },
     "execution_count": 9,
     "metadata": {},
     "output_type": "execute_result"
    }
   ],
   "source": [
    "df['CRASH_DAY_OF_WEEK'].value_counts()"
   ]
  },
  {
   "cell_type": "code",
   "execution_count": 10,
   "metadata": {},
   "outputs": [
    {
     "data": {
      "text/plain": [
       "STRAIGHT AHEAD                        2379\n",
       "TURNING LEFT                          1056\n",
       "TURNING RIGHT                          938\n",
       "UNKNOWN/NA                             473\n",
       "PARKED                                 467\n",
       "OTHER                                  391\n",
       "PASSING/OVERTAKING                     190\n",
       "SLOW/STOP IN TRAFFIC                   179\n",
       "U-TURN                                 100\n",
       "ENTER FROM DRIVE/ALLEY                  93\n",
       "ENTERING TRAFFIC LANE FROM PARKING      91\n",
       "LEAVING TRAFFIC LANE TO PARK            87\n",
       "CHANGING LANES                          65\n",
       "STARTING IN TRAFFIC                     58\n",
       "BACKING                                 55\n",
       "SLOW/STOP - LOAD/UNLOAD                 48\n",
       "SLOW/STOP - RIGHT TURN                  30\n",
       "PARKED IN TRAFFIC LANE                  27\n",
       "SLOW/STOP - LEFT TURN                   26\n",
       "MERGING                                 25\n",
       "AVOIDING VEHICLES/OBJECTS               20\n",
       "TURNING ON RED                          14\n",
       "DRIVING WRONG WAY                        9\n",
       "SKIDDING/CONTROL LOSS                    3\n",
       "NEGOTIATING A CURVE                      2\n",
       "DISABLED                                 1\n",
       "DRIVERLESS                               1\n",
       "DIVERGING                                1\n",
       "Name: MANEUVER, dtype: int64"
      ]
     },
     "execution_count": 10,
     "metadata": {},
     "output_type": "execute_result"
    }
   ],
   "source": [
    "df['MANEUVER'].value_counts()"
   ]
  },
  {
   "cell_type": "code",
   "execution_count": 11,
   "metadata": {},
   "outputs": [
    {
     "data": {
      "text/plain": [
       "FRONT                1326\n",
       "OTHER                1199\n",
       "UNKNOWN               938\n",
       "SIDE-RIGHT            587\n",
       "FRONT-RIGHT           536\n",
       "ROOF                  402\n",
       "TOTAL (ALL AREAS)     372\n",
       "SIDE-LEFT             348\n",
       "FRONT-LEFT            332\n",
       "NONE                  227\n",
       "REAR-RIGHT            208\n",
       "UNDER CARRIAGE        111\n",
       "REAR                  101\n",
       "REAR-LEFT              75\n",
       "Name: FIRST_CONTACT_POINT, dtype: int64"
      ]
     },
     "execution_count": 11,
     "metadata": {},
     "output_type": "execute_result"
    }
   ],
   "source": [
    "df['FIRST_CONTACT_POINT'].value_counts()"
   ]
  },
  {
   "cell_type": "code",
   "execution_count": 12,
   "metadata": {},
   "outputs": [
    {
     "data": {
      "text/plain": [
       "M    8205\n",
       "F    1976\n",
       "X      68\n",
       "Name: SEX, dtype: int64"
      ]
     },
     "execution_count": 12,
     "metadata": {},
     "output_type": "execute_result"
    }
   ],
   "source": [
    "df['SEX'].value_counts()"
   ]
  },
  {
   "cell_type": "code",
   "execution_count": 13,
   "metadata": {},
   "outputs": [
    {
     "data": {
      "text/plain": [
       "<AxesSubplot:ylabel='Frequency'>"
      ]
     },
     "execution_count": 13,
     "metadata": {},
     "output_type": "execute_result"
    },
    {
     "data": {
      "image/png": "[encoded data removed]",
      "text/plain": [
       "<Figure size 432x288 with 1 Axes>"
      ]
     },
     "metadata": {
      "needs_background": "light"
     },
     "output_type": "display_data"
    }
   ],
   "source": [
    "df['AGE'].plot(kind='hist')"
   ]
  },
  {
   "cell_type": "code",
   "execution_count": 42,
   "metadata": {},
   "outputs": [],
   "source": [
    "def age_bins(row):\n",
    "    if row['AGE'] <= 20:\n",
    "        return 'Adolescent'\n",
    "    elif 20 < row['AGE'] <= 40:\n",
    "        return 'Adult'\n",
    "    elif 40 < row['AGE'] <= 60:\n",
    "        return 'Middle-aged'\n",
    "    elif 60 < row['AGE']:\n",
    "        return 'Elderly'\n",
    "    else:\n",
    "        return 'Unknown'\n",
    "    \n",
    "\n",
    "df['age_bins'] = df.apply(age_bins,axis=1)"
   ]
  },
  {
   "cell_type": "code",
   "execution_count": 43,
   "metadata": {},
   "outputs": [
    {
     "data": {
      "text/plain": [
       "Adult          4551\n",
       "Middle-aged    1884\n",
       "Adolescent     1847\n",
       "Unknown        1550\n",
       "Elderly         562\n",
       "Name: age_bins, dtype: int64"
      ]
     },
     "execution_count": 43,
     "metadata": {},
     "output_type": "execute_result"
    }
   ],
   "source": [
    "df['age_bins'].value_counts()"
   ]
  },
  {
   "cell_type": "code",
   "execution_count": 16,
   "metadata": {},
   "outputs": [
    {
     "data": {
      "text/plain": [
       "NORMAL                          7741\n",
       "UNKNOWN                         1912\n",
       "REMOVED BY EMS                   302\n",
       "IMPAIRED - ALCOHOL                72\n",
       "OTHER                             54\n",
       "HAD BEEN DRINKING                 45\n",
       "EMOTIONAL                         41\n",
       "IMPAIRED - DRUGS                  16\n",
       "FATIGUED/ASLEEP                   11\n",
       "IMPAIRED - ALCOHOL AND DRUGS       6\n",
       "MEDICATED                          3\n",
       "ILLNESS/FAINTED                    1\n",
       "Name: PHYSICAL_CONDITION, dtype: int64"
      ]
     },
     "execution_count": 16,
     "metadata": {},
     "output_type": "execute_result"
    }
   ],
   "source": [
    "df['PHYSICAL_CONDITION'].value_counts()"
   ]
  },
  {
   "cell_type": "code",
   "execution_count": 17,
   "metadata": {},
   "outputs": [],
   "source": [
    "df.loc[df['INJURY_CLASSIFICATION'] == 'INCAPACITATING INJURY', 'INJURY_BAD'] = 1\n",
    "df.loc[df['INJURY_CLASSIFICATION'] == 'FATAL', 'INJURY_BAD'] = 1\n",
    "\n",
    "df.loc[df['INJURY_CLASSIFICATION'] == 'REPORTED, NOT EVIDENT', 'INJURY_BAD'] = 0\n",
    "df.loc[df['INJURY_CLASSIFICATION'] == 'NO INDICATION OF INJURY', 'INJURY_BAD'] = 0\n",
    "df.loc[df['INJURY_CLASSIFICATION'] == 'NONINCAPACITATING INJURY', 'INJURY_BAD'] = 0\n"
   ]
  },
  {
   "cell_type": "code",
   "execution_count": 18,
   "metadata": {},
   "outputs": [
    {
     "data": {
      "text/plain": [
       "0.0    9393\n",
       "1.0     999\n",
       "Name: INJURY_BAD, dtype: int64"
      ]
     },
     "execution_count": 18,
     "metadata": {},
     "output_type": "execute_result"
    }
   ],
   "source": [
    "df['INJURY_BAD'].value_counts()"
   ]
  },
  {
   "cell_type": "code",
   "execution_count": 38,
   "metadata": {},
   "outputs": [
    {
     "data": {
      "image/png": "[encoded data removed]",
      "text/plain": [
       "<Figure size 432x288 with 1 Axes>"
      ]
     },
     "metadata": {
      "needs_background": "light"
     },
     "output_type": "display_data"
    }
   ],
   "source": [
    "df.groupby(by=['PHYSICAL_CONDITION'])['INJURY_BAD'].mean().sort_values().plot(kind='barh');"
   ]
  },
  {
   "cell_type": "code",
   "execution_count": 44,
   "metadata": {},
   "outputs": [
    {
     "data": {
      "image/png": "[encoded data removed]",
      "text/plain": [
       "<Figure size 432x288 with 1 Axes>"
      ]
     },
     "metadata": {
      "needs_background": "light"
     },
     "output_type": "display_data"
    }
   ],
   "source": [
    "df.groupby(by=['age_bins'])['INJURY_BAD'].mean().sort_values().plot(kind='barh');"
   ]
  },
  {
   "cell_type": "code",
   "execution_count": 40,
   "metadata": {},
   "outputs": [
    {
     "data": {
      "text/plain": [
       "array(['NORMAL', 'UNKNOWN', 'REMOVED BY EMS', 'HAD BEEN DRINKING',\n",
       "       'OTHER', nan, 'FATIGUED/ASLEEP', 'IMPAIRED - ALCOHOL', 'EMOTIONAL',\n",
       "       'IMPAIRED - DRUGS', 'MEDICATED', 'IMPAIRED - ALCOHOL AND DRUGS',\n",
       "       'ILLNESS/FAINTED'], dtype=object)"
      ]
     },
     "execution_count": 40,
     "metadata": {},
     "output_type": "execute_result"
    }
   ],
   "source": [
    "df['PHYSICAL_CONDITION'].unique()"
   ]
  },
  {
   "cell_type": "code",
   "execution_count": 45,
   "metadata": {},
   "outputs": [],
   "source": [
    "def physical_bins(row):\n",
    "    impaired = ['HAD BEEN DRINKING','FATIGUED/ASLEEP','IMPAIRED - ALCOHOL','IMPAIRED - DRUGS','MEDICATED','IMPAIRED - ALCOHOL AND DRUGS']\n",
    "    normal = ['NORMAL']\n",
    "    shaken = ['REMOVED BY EMS','ILLNESS/FAINTED','EMOTIONAL']\n",
    "    other = ['UNKNOWN','OTHER']\n",
    "    if row['PHYSICAL_CONDITION'] in impaired:\n",
    "        return 'Impaired'\n",
    "    if row['PHYSICAL_CONDITION'] in normal:\n",
    "        return 'Normal'\n",
    "    if row['PHYSICAL_CONDITION'] in shaken:\n",
    "        return 'Shaken'\n",
    "    if row['PHYSICAL_CONDITION'] in other:\n",
    "        return 'Other'\n",
    "    else:\n",
    "        return 'Unknown'\n",
    "    \n",
    "\n",
    "df['physical_bins'] = df.apply(physical_bins,axis=1)"
   ]
  },
  {
   "cell_type": "code",
   "execution_count": 46,
   "metadata": {},
   "outputs": [
    {
     "data": {
      "image/png": "[encoded data removed]",
      "text/plain": [
       "<Figure size 432x288 with 1 Axes>"
      ]
     },
     "metadata": {
      "needs_background": "light"
     },
     "output_type": "display_data"
    }
   ],
   "source": [
    "df.groupby(by=['physical_bins'])['INJURY_BAD'].mean().sort_values().plot(kind='barh');"
   ]
  },
  {
   "cell_type": "code",
   "execution_count": 47,
   "metadata": {},
   "outputs": [
    {
     "data": {
      "text/plain": [
       "DRY                8746\n",
       "WET                 975\n",
       "UNKNOWN             581\n",
       "SNOW OR SLUSH        58\n",
       "OTHER                17\n",
       "ICE                  15\n",
       "SAND, MUD, DIRT       2\n",
       "Name: ROADWAY_SURFACE_COND, dtype: int64"
      ]
     },
     "execution_count": 47,
     "metadata": {},
     "output_type": "execute_result"
    }
   ],
   "source": [
    "df['ROADWAY_SURFACE_COND'].value_counts()"
   ]
  },
  {
   "cell_type": "code",
   "execution_count": 48,
   "metadata": {},
   "outputs": [
    {
     "data": {
      "image/png": "[encoded data removed]",
      "text/plain": [
       "<Figure size 432x288 with 1 Axes>"
      ]
     },
     "metadata": {
      "needs_background": "light"
     },
     "output_type": "display_data"
    }
   ],
   "source": [
    "df.groupby(by=['ROADWAY_SURFACE_COND'])['INJURY_BAD'].mean().sort_values().plot(kind='barh');"
   ]
  },
  {
   "cell_type": "code",
   "execution_count": 49,
   "metadata": {},
   "outputs": [],
   "source": [
    "def road_surf_bins(row):\n",
    "    other = ['OTHER', 'SAND,MUD,DIRT']\n",
    "    dry = ['DRY']\n",
    "    wet = ['WET']\n",
    "    snow = ['SNOW OR SLUSH','ICE']\n",
    "    unknown = ['UNKNOWN']\n",
    "    if row['ROADWAY_SURFACE_COND'] in other:\n",
    "        return 'Other'\n",
    "    if row['ROADWAY_SURFACE_COND'] in dry:\n",
    "        return 'Dry'\n",
    "    if row['ROADWAY_SURFACE_COND'] in wet:\n",
    "        return 'Wet'\n",
    "    if row['ROADWAY_SURFACE_COND'] in snow:\n",
    "        return 'Snow'\n",
    "    if row['ROADWAY_SURFACE_COND'] in unknown:\n",
    "        return 'Unknown'\n",
    "    else:\n",
    "        return 'Unknown'\n",
    "    \n",
    "\n",
    "df['road_surf_bins'] = df.apply(road_surf_bins,axis=1)"
   ]
  },
  {
   "cell_type": "code",
   "execution_count": 50,
   "metadata": {},
   "outputs": [
    {
     "data": {
      "image/png": "[encoded data removed]",
      "text/plain": [
       "<Figure size 432x288 with 1 Axes>"
      ]
     },
     "metadata": {
      "needs_background": "light"
     },
     "output_type": "display_data"
    }
   ],
   "source": [
    "df.groupby(by=['road_surf_bins'])['INJURY_BAD'].mean().sort_values().plot(kind='barh');"
   ]
  },
  {
   "cell_type": "code",
   "execution_count": 51,
   "metadata": {},
   "outputs": [
    {
     "data": {
      "image/png": "[encoded data removed]",
      "text/plain": [
       "<Figure size 432x288 with 1 Axes>"
      ]
     },
     "metadata": {
      "needs_background": "light"
     },
     "output_type": "display_data"
    }
   ],
   "source": [
    "df.groupby(by=['FIRST_CONTACT_POINT'])['INJURY_BAD'].mean().sort_values().plot(kind='barh');"
   ]
  },
  {
   "cell_type": "code",
   "execution_count": 52,
   "metadata": {},
   "outputs": [
    {
     "data": {
      "image/png": "[encoded data removed]",
      "text/plain": [
       "<Figure size 432x288 with 1 Axes>"
      ]
     },
     "metadata": {
      "needs_background": "light"
     },
     "output_type": "display_data"
    }
   ],
   "source": [
    "df.groupby(by=['CRASH_HOUR'])['INJURY_BAD'].mean().sort_values().plot(kind='barh');"
   ]
  },
  {
   "cell_type": "code",
   "execution_count": 53,
   "metadata": {},
   "outputs": [],
   "source": [
    "def hour_bins(row):\n",
    "    if 1 <= row['CRASH_HOUR'] <= 6:\n",
    "        return 'Early Morning'\n",
    "    if 7 <= row['CRASH_HOUR'] <= 12:\n",
    "        return 'Morning'\n",
    "    if 13 <= row['CRASH_HOUR'] <= 18:\n",
    "        return 'Afternoon'\n",
    "    if 19 <= row['CRASH_HOUR'] <= 23 or row['CRASH_HOUR'] == 0:\n",
    "        return 'Night'\n",
    "    else:\n",
    "        return 'Unknown'\n",
    "    \n",
    "\n",
    "df['hour_bins'] = df.apply(hour_bins,axis=1)"
   ]
  },
  {
   "cell_type": "code",
   "execution_count": 54,
   "metadata": {},
   "outputs": [
    {
     "data": {
      "image/png": "[encoded data removed]",
      "text/plain": [
       "<Figure size 432x288 with 1 Axes>"
      ]
     },
     "metadata": {
      "needs_background": "light"
     },
     "output_type": "display_data"
    }
   ],
   "source": [
    "df.groupby(by=['hour_bins'])['INJURY_BAD'].mean().sort_values().plot(kind='barh');"
   ]
  },
  {
   "cell_type": "code",
   "execution_count": 56,
   "metadata": {},
   "outputs": [
    {
     "data": {
      "image/png": "[encoded data removed]",
      "text/plain": [
       "<Figure size 432x288 with 1 Axes>"
      ]
     },
     "metadata": {
      "needs_background": "light"
     },
     "output_type": "display_data"
    }
   ],
   "source": [
    "df.groupby(by=['LANE_CNT'])['INJURY_BAD'].mean().sort_values().plot(kind='barh');"
   ]
  },
  {
   "cell_type": "code",
   "execution_count": 57,
   "metadata": {},
   "outputs": [
    {
     "data": {
      "text/plain": [
       "2.0     1639\n",
       "4.0      618\n",
       "1.0      377\n",
       "0.0      122\n",
       "3.0       93\n",
       "6.0       42\n",
       "5.0       16\n",
       "8.0        8\n",
       "99.0       2\n",
       "11.0       1\n",
       "14.0       1\n",
       "12.0       1\n",
       "10.0       1\n",
       "Name: LANE_CNT, dtype: int64"
      ]
     },
     "execution_count": 57,
     "metadata": {},
     "output_type": "execute_result"
    }
   ],
   "source": [
    "df['LANE_CNT'].value_counts()"
   ]
  },
  {
   "cell_type": "code",
   "execution_count": null,
   "metadata": {},
   "outputs": [],
   "source": []
  }
 ],
 "metadata": {
  "kernelspec": {
   "display_name": "Python (learn-env)",
   "language": "python",
   "name": "learn-env"
  },
  "language_info": {
   "codemirror_mode": {
    "name": "ipython",
    "version": 3
   },
   "file_extension": ".py",
   "mimetype": "text/x-python",
   "name": "python",
   "nbconvert_exporter": "python",
   "pygments_lexer": "ipython3",
   "version": "3.8.5"
  }
 },
 "nbformat": 4,
 "nbformat_minor": 4
}
