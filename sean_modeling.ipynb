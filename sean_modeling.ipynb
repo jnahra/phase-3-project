{
 "cells": [
  {
   "cell_type": "code",
   "execution_count": null,
   "metadata": {},
   "outputs": [],
   "source": [
    "### Importing packages for data analysis\n",
    "\n",
    "import numpy as np\n",
    "import pandas as pd\n",
    "import matplotlib.pyplot as plt\n",
    "import seaborn as sns\n",
    "pd.set_option('display.max_rows', None)"
   ]
  },
  {
   "cell_type": "code",
   "execution_count": null,
   "metadata": {},
   "outputs": [],
   "source": [
    "df = pd.read_csv('bikers_semi_final.csv', low_memory=False)"
   ]
  },
  {
   "cell_type": "code",
   "execution_count": null,
   "metadata": {},
   "outputs": [],
   "source": [
    "pd.set_option('display.max_columns', None)"
   ]
  },
  {
   "cell_type": "code",
   "execution_count": null,
   "metadata": {},
   "outputs": [],
   "source": [
    "df.head()"
   ]
  },
  {
   "cell_type": "code",
   "execution_count": null,
   "metadata": {},
   "outputs": [],
   "source": [
    "pd.reset_option('max_columns')"
   ]
  },
  {
   "cell_type": "code",
   "execution_count": null,
   "metadata": {},
   "outputs": [],
   "source": [
    "df_clean = df[['INJURY_BAD','HELMET_USED','age_bins','SAFE_PEDAL_ACTION','PROTECTIVE_CLOTHING','SAFE_LOCATION','WEATHER_CAT','road_surf_bins','DAYTIME','SPEED_RATING','UNSAFE_ACTION','DRIVER_BLIND','cause_bins','driver_maneuver_bins','physical_bins','hour_bins']]\n",
    "\n",
    "#y = df['INJURY_BAD']"
   ]
  },
  {
   "cell_type": "code",
   "execution_count": null,
   "metadata": {},
   "outputs": [],
   "source": [
    "X.head()"
   ]
  },
  {
   "cell_type": "code",
   "execution_count": null,
   "metadata": {},
   "outputs": [],
   "source": [
    "X = X.replace(('0.0'),0.0)\n",
    "X = X.replace(('1.0'),1.0)\n",
    "\n",
    "\n",
    "X.head()"
   ]
  },
  {
   "cell_type": "code",
   "execution_count": null,
   "metadata": {
    "scrolled": true
   },
   "outputs": [],
   "source": [
    "X[['HELMET_USED','SAFE_PEDAL_ACTION','PROTECTIVE_CLOTHING','SAFE_LOCATION','DRIVER_BLIND']] = X[['HELMET_USED','SAFE_PEDAL_ACTION','PROTECTIVE_CLOTHING','SAFE_LOCATION','DRIVER_BLIND']].replace('Unknown',100).fillna(100).astype(int)\n"
   ]
  },
  {
   "cell_type": "code",
   "execution_count": null,
   "metadata": {},
   "outputs": [],
   "source": [
    "#X[['age_bins','PEDAL_ACTION','WEATHER_CAT','road_surf_bins','SPEED_RATING','cause_bins','driver_maneuver_bins','physical_bins','hour_bins']]\n",
    "\n",
    "X = pd.get_dummies(X, columns=['age_bins','SAFE_PEDAL_ACTION','WEATHER_CAT','road_surf_bins','SPEED_RATING','cause_bins','driver_maneuver_bins','physical_bins','hour_bins','UNSAFE_ACTION'])\n",
    "\n",
    "\n",
    "X.head()"
   ]
  },
  {
   "cell_type": "code",
   "execution_count": null,
   "metadata": {},
   "outputs": [],
   "source": [
    "from sklearn.model_selection import train_test_split\n",
    "\n",
    "X_train, X_test, y_train, y_test = train_test_split(X, y, test_size=0.4, random_state=312)\n",
    "\n"
   ]
  },
  {
   "cell_type": "code",
   "execution_count": null,
   "metadata": {},
   "outputs": [],
   "source": [
    "#df = df.drop(df[df.eq('Unknown').any(axis=1)].index) \n"
   ]
  },
  {
   "cell_type": "code",
   "execution_count": null,
   "metadata": {
    "scrolled": true
   },
   "outputs": [],
   "source": [
    "X.isna().sum()\n"
   ]
  },
  {
   "cell_type": "code",
   "execution_count": null,
   "metadata": {},
   "outputs": [],
   "source": [
    "import numpy as np\n",
    "\n",
    "X.replace([np.inf, -np.inf], np.nan, inplace=True)\n"
   ]
  },
  {
   "cell_type": "code",
   "execution_count": null,
   "metadata": {},
   "outputs": [],
   "source": [
    "from sklearn.preprocessing import StandardScaler\n",
    "\n",
    "scaler = StandardScaler()\n",
    "\n",
    "X_train_scaled = scaler.fit_transform(X_train)\n",
    "\n",
    "X_test_scaled = scaler.transform(X_test)"
   ]
  },
  {
   "cell_type": "code",
   "execution_count": null,
   "metadata": {},
   "outputs": [],
   "source": [
    "print(\"Train: \", y_train.value_counts(normalize=True)[1])\n",
    "\n",
    "print(\"Test: \", y_test.value_counts(normalize=True)[1])"
   ]
  },
  {
   "cell_type": "code",
   "execution_count": null,
   "metadata": {
    "scrolled": true
   },
   "outputs": [],
   "source": [
    "X.isna().sum()\n"
   ]
  },
  {
   "cell_type": "code",
   "execution_count": null,
   "metadata": {},
   "outputs": [],
   "source": []
  },
  {
   "cell_type": "code",
   "execution_count": null,
   "metadata": {
    "scrolled": false
   },
   "outputs": [],
   "source": [
    "from sklearn.tree import DecisionTreeClassifier\n",
    "\n",
    "dtc_baseline = DecisionTreeClassifier(max_depth=2,random_state=310)\n",
    "\n",
    "dtc_baseline"
   ]
  },
  {
   "cell_type": "code",
   "execution_count": null,
   "metadata": {
    "scrolled": true
   },
   "outputs": [],
   "source": [
    "dtc_baseline.fit(X_train, y_train)\n",
    "\n",
    "plot_tree(dtc_baseline)"
   ]
  },
  {
   "cell_type": "code",
   "execution_count": null,
   "metadata": {},
   "outputs": [],
   "source": []
  },
  {
   "cell_type": "code",
   "execution_count": null,
   "metadata": {
    "scrolled": true
   },
   "outputs": [],
   "source": [
    "from sklearn.metrics import accuracy_score, precision_score, recall_score, log_loss\n",
    "\n",
    "dtc_baseline.fit(X_train_scaled, y_train)\n",
    "\n",
    "preds = dtc_baseline.predict(X_test_scaled)\n",
    "\n",
    "probs = dtc_baseline.predict_proba(X_test_scaled)\n"
   ]
  },
  {
   "cell_type": "code",
   "execution_count": null,
   "metadata": {},
   "outputs": [],
   "source": [
    "print(\"log loss: \", log_loss(y_test, probs))\n",
    "\n",
    "print(\"accuracy: \", accuracy_score(y_test, preds))\n",
    "\n",
    "print(\"precision:\", precision_score(y_test, preds))\n",
    "\n",
    "print(\"recall:   \", recall_score(y_test, preds))"
   ]
  },
  {
   "cell_type": "code",
   "execution_count": null,
   "metadata": {},
   "outputs": [],
   "source": [
    "df = df.replace(('Unknown','UNKNOWN'), None)"
   ]
  },
  {
   "cell_type": "code",
   "execution_count": null,
   "metadata": {
    "scrolled": true
   },
   "outputs": [],
   "source": [
    "df.isna().sum()"
   ]
  },
  {
   "cell_type": "code",
   "execution_count": null,
   "metadata": {},
   "outputs": [],
   "source": [
    "df = df.dropna()"
   ]
  },
  {
   "cell_type": "code",
   "execution_count": null,
   "metadata": {
    "scrolled": true
   },
   "outputs": [],
   "source": [
    "df.info()"
   ]
  },
  {
   "cell_type": "code",
   "execution_count": null,
   "metadata": {},
   "outputs": [],
   "source": [
    "df['UNSAFE_ACTION'].value_counts()"
   ]
  },
  {
   "cell_type": "code",
   "execution_count": null,
   "metadata": {},
   "outputs": [],
   "source": []
  },
  {
   "cell_type": "code",
   "execution_count": null,
   "metadata": {},
   "outputs": [],
   "source": []
  },
  {
   "cell_type": "code",
   "execution_count": null,
   "metadata": {},
   "outputs": [],
   "source": []
  },
  {
   "cell_type": "code",
   "execution_count": null,
   "metadata": {},
   "outputs": [],
   "source": [
    "df_clean = df_clean.replace('Unknown',None)\n"
   ]
  },
  {
   "cell_type": "code",
   "execution_count": null,
   "metadata": {},
   "outputs": [],
   "source": [
    "df_clean = df_clean.replace('Unknown ',None)\n",
    "df_clean = df_clean.replace(' Unknown',None)"
   ]
  },
  {
   "cell_type": "code",
   "execution_count": null,
   "metadata": {},
   "outputs": [],
   "source": [
    "#for col in df_clean.columns:\n",
    "#    count = (df_clean[col] == 'Unknown').sum()\n",
    "#    print(f\"{col}: {count}\") "
   ]
  },
  {
   "cell_type": "code",
   "execution_count": null,
   "metadata": {
    "scrolled": false
   },
   "outputs": [],
   "source": [
    "df_clean.isna().sum()"
   ]
  },
  {
   "cell_type": "code",
   "execution_count": null,
   "metadata": {
    "scrolled": true
   },
   "outputs": [],
   "source": [
    "df_clean['UNSAFE_ACTION'].value_counts()"
   ]
  },
  {
   "cell_type": "code",
   "execution_count": null,
   "metadata": {},
   "outputs": [],
   "source": [
    "df_clean = df_clean.drop(range(8))"
   ]
  },
  {
   "cell_type": "code",
   "execution_count": null,
   "metadata": {},
   "outputs": [],
   "source": [
    "df['UNSAFE_ACTION']"
   ]
  },
  {
   "cell_type": "code",
   "execution_count": null,
   "metadata": {
    "scrolled": true
   },
   "outputs": [],
   "source": [
    "len(df['UNSAFE_ACTION'])"
   ]
  },
  {
   "cell_type": "code",
   "execution_count": null,
   "metadata": {},
   "outputs": [],
   "source": [
    "len(df_clean['UNSAFE_ACTION'])"
   ]
  },
  {
   "cell_type": "code",
   "execution_count": null,
   "metadata": {},
   "outputs": [],
   "source": [
    "df_clean.isna().sum()"
   ]
  },
  {
   "cell_type": "code",
   "execution_count": null,
   "metadata": {
    "scrolled": true
   },
   "outputs": [],
   "source": [
    "df_clean['UNSAFE_ACTION'].value_counts()"
   ]
  },
  {
   "cell_type": "code",
   "execution_count": null,
   "metadata": {},
   "outputs": [],
   "source": [
    "#df_clean = df_clean.dropna()"
   ]
  },
  {
   "cell_type": "code",
   "execution_count": null,
   "metadata": {
    "scrolled": false
   },
   "outputs": [],
   "source": [
    "df_clean.info()"
   ]
  },
  {
   "cell_type": "code",
   "execution_count": null,
   "metadata": {},
   "outputs": [],
   "source": [
    "#df_clean = df_clean.replace(('Unknown','UNKNOWN'), None)"
   ]
  },
  {
   "cell_type": "code",
   "execution_count": null,
   "metadata": {},
   "outputs": [],
   "source": [
    "df_clean = df_clean.drop('cause_bins', axis=1)"
   ]
  },
  {
   "cell_type": "code",
   "execution_count": null,
   "metadata": {
    "scrolled": false
   },
   "outputs": [],
   "source": [
    "df_clean.info()"
   ]
  },
  {
   "cell_type": "code",
   "execution_count": null,
   "metadata": {},
   "outputs": [],
   "source": [
    "df_clean = df_clean.dropna()"
   ]
  },
  {
   "cell_type": "code",
   "execution_count": null,
   "metadata": {},
   "outputs": [],
   "source": [
    "df_clean.info()"
   ]
  },
  {
   "cell_type": "code",
   "execution_count": null,
   "metadata": {},
   "outputs": [],
   "source": [
    "from sklearn.model_selection import train_test_split\n",
    "from sklearn.tree import DecisionTreeClassifier\n",
    "\n",
    "y = df_clean['INJURY_BAD']\n",
    "X = df_clean.drop('INJURY_BAD',axis=1)\n",
    "\n",
    "\n",
    "X_train,X_test,y_train,y_test = train_test_split(X,y,test_size=0.2,random_state=312)\n",
    "\n",
    "from sklearn.preprocessing import OneHotEncoder\n",
    "\n",
    "ohe = OneHotEncoder()\n",
    "\n",
    "X_encoded = ohe.fit_transform(X_train)\n",
    "\n",
    "dt = DecisionTreeClassifier(max_depth=3,random_state=312,class_weight='balanced')\n",
    "\n",
    "dt.fit(X_encoded,y_train)\n",
    "DecisionTreeClassifier(class_weight='balanced', max_depth=3, random_state=312)"
   ]
  },
  {
   "cell_type": "code",
   "execution_count": null,
   "metadata": {},
   "outputs": [],
   "source": [
    "from sklearn.tree import plot_tree\n",
    "import matplotlib.pyplot as plt\n",
    "\n",
    "plt.figure(figsize=(16, 12))\n",
    "plot_tree(dt, filled=True)\n",
    "plt.show()"
   ]
  },
  {
   "cell_type": "code",
   "execution_count": 1,
   "metadata": {},
   "outputs": [],
   "source": [
    "import numpy as np\n",
    "import pandas as pd\n",
    "import matplotlib.pyplot as plt\n",
    "import seaborn as sns\n",
    "pd.set_option('display.max_rows', None)"
   ]
  },
  {
   "cell_type": "code",
   "execution_count": 3,
   "metadata": {},
   "outputs": [],
   "source": [
    "df = pd.read_csv('bikers_semi_final_v2.csv')"
   ]
  },
  {
   "cell_type": "code",
   "execution_count": 4,
   "metadata": {},
   "outputs": [],
   "source": [
    "pd.set_option('display.max_columns', None)"
   ]
  },
  {
   "cell_type": "code",
   "execution_count": 5,
   "metadata": {},
   "outputs": [
    {
     "data": {
      "text/html": [
       "<div>\n",
       "<style scoped>\n",
       "    .dataframe tbody tr th:only-of-type {\n",
       "        vertical-align: middle;\n",
       "    }\n",
       "\n",
       "    .dataframe tbody tr th {\n",
       "        vertical-align: top;\n",
       "    }\n",
       "\n",
       "    .dataframe thead th {\n",
       "        text-align: right;\n",
       "    }\n",
       "</style>\n",
       "<table border=\"1\" class=\"dataframe\">\n",
       "  <thead>\n",
       "    <tr style=\"text-align: right;\">\n",
       "      <th></th>\n",
       "      <th>Unnamed: 0</th>\n",
       "      <th>INJURY_BAD</th>\n",
       "      <th>HELMET_USED</th>\n",
       "      <th>age_bins</th>\n",
       "      <th>SAFE_PEDAL_ACTION</th>\n",
       "      <th>PROTECTIVE_CLOTHING</th>\n",
       "      <th>SAFE_LOCATION</th>\n",
       "      <th>WEATHER_CAT</th>\n",
       "      <th>road_surf_bins</th>\n",
       "      <th>DAYTIME</th>\n",
       "      <th>SPEED_RATING</th>\n",
       "      <th>UNSAFE_ACTION</th>\n",
       "      <th>DRIVER_BLIND</th>\n",
       "      <th>cause_bins</th>\n",
       "      <th>driver_maneuver_bins</th>\n",
       "      <th>physical_bins</th>\n",
       "      <th>hour_bins</th>\n",
       "      <th>SEX</th>\n",
       "    </tr>\n",
       "  </thead>\n",
       "  <tbody>\n",
       "    <tr>\n",
       "      <th>0</th>\n",
       "      <td>0</td>\n",
       "      <td>0.0</td>\n",
       "      <td>0.0</td>\n",
       "      <td>Middle-aged</td>\n",
       "      <td>Neutral</td>\n",
       "      <td>0.0</td>\n",
       "      <td>1.0</td>\n",
       "      <td>Clear Weather</td>\n",
       "      <td>Dry</td>\n",
       "      <td>1</td>\n",
       "      <td>Average Speed</td>\n",
       "      <td>Unknown</td>\n",
       "      <td>0.0</td>\n",
       "      <td>Skill</td>\n",
       "      <td>Turning Maneuver</td>\n",
       "      <td>Normal</td>\n",
       "      <td>Afternoon</td>\n",
       "      <td>F</td>\n",
       "    </tr>\n",
       "    <tr>\n",
       "      <th>1</th>\n",
       "      <td>1</td>\n",
       "      <td>0.0</td>\n",
       "      <td>0.0</td>\n",
       "      <td>Adult</td>\n",
       "      <td>Neutral</td>\n",
       "      <td>0.0</td>\n",
       "      <td>0.0</td>\n",
       "      <td>Clear Weather</td>\n",
       "      <td>Dry</td>\n",
       "      <td>1</td>\n",
       "      <td>Average Speed</td>\n",
       "      <td>Unknown</td>\n",
       "      <td>0.0</td>\n",
       "      <td>Skill</td>\n",
       "      <td>Turning Maneuver</td>\n",
       "      <td>Normal</td>\n",
       "      <td>Morning</td>\n",
       "      <td>M</td>\n",
       "    </tr>\n",
       "    <tr>\n",
       "      <th>2</th>\n",
       "      <td>2</td>\n",
       "      <td>0.0</td>\n",
       "      <td>1.0</td>\n",
       "      <td>Adult</td>\n",
       "      <td>Safe</td>\n",
       "      <td>1.0</td>\n",
       "      <td>1.0</td>\n",
       "      <td>Clear Weather</td>\n",
       "      <td>Unknown</td>\n",
       "      <td>0</td>\n",
       "      <td>Average Speed</td>\n",
       "      <td>Unknown</td>\n",
       "      <td>Unknown</td>\n",
       "      <td>Reckless</td>\n",
       "      <td>Traffic Maneuver</td>\n",
       "      <td>Other</td>\n",
       "      <td>Night</td>\n",
       "      <td>M</td>\n",
       "    </tr>\n",
       "    <tr>\n",
       "      <th>3</th>\n",
       "      <td>3</td>\n",
       "      <td>1.0</td>\n",
       "      <td>1.0</td>\n",
       "      <td>Adult</td>\n",
       "      <td>Neutral</td>\n",
       "      <td>1.0</td>\n",
       "      <td>Unknown</td>\n",
       "      <td>Clear Weather</td>\n",
       "      <td>Dry</td>\n",
       "      <td>1</td>\n",
       "      <td>Below Average Speed</td>\n",
       "      <td>Unknown</td>\n",
       "      <td>Unknown</td>\n",
       "      <td>Unknown</td>\n",
       "      <td>Stationary Object Maneuver</td>\n",
       "      <td>Shaken</td>\n",
       "      <td>Afternoon</td>\n",
       "      <td>M</td>\n",
       "    </tr>\n",
       "    <tr>\n",
       "      <th>4</th>\n",
       "      <td>4</td>\n",
       "      <td>0.0</td>\n",
       "      <td>0.0</td>\n",
       "      <td>Adult</td>\n",
       "      <td>Neutral</td>\n",
       "      <td>0.0</td>\n",
       "      <td>0.0</td>\n",
       "      <td>Clear Weather</td>\n",
       "      <td>Dry</td>\n",
       "      <td>1</td>\n",
       "      <td>Average Speed</td>\n",
       "      <td>Unknown</td>\n",
       "      <td>Unknown</td>\n",
       "      <td>Skill</td>\n",
       "      <td>Unknown</td>\n",
       "      <td>Other</td>\n",
       "      <td>Afternoon</td>\n",
       "      <td>M</td>\n",
       "    </tr>\n",
       "  </tbody>\n",
       "</table>\n",
       "</div>"
      ],
      "text/plain": [
       "   Unnamed: 0  INJURY_BAD HELMET_USED     age_bins SAFE_PEDAL_ACTION  \\\n",
       "0           0         0.0         0.0  Middle-aged           Neutral   \n",
       "1           1         0.0         0.0        Adult           Neutral   \n",
       "2           2         0.0         1.0        Adult              Safe   \n",
       "3           3         1.0         1.0        Adult           Neutral   \n",
       "4           4         0.0         0.0        Adult           Neutral   \n",
       "\n",
       "   PROTECTIVE_CLOTHING SAFE_LOCATION    WEATHER_CAT road_surf_bins  DAYTIME  \\\n",
       "0                  0.0           1.0  Clear Weather            Dry        1   \n",
       "1                  0.0           0.0  Clear Weather            Dry        1   \n",
       "2                  1.0           1.0  Clear Weather        Unknown        0   \n",
       "3                  1.0       Unknown  Clear Weather            Dry        1   \n",
       "4                  0.0           0.0  Clear Weather            Dry        1   \n",
       "\n",
       "          SPEED_RATING UNSAFE_ACTION DRIVER_BLIND cause_bins  \\\n",
       "0        Average Speed       Unknown          0.0      Skill   \n",
       "1        Average Speed       Unknown          0.0      Skill   \n",
       "2        Average Speed       Unknown      Unknown   Reckless   \n",
       "3  Below Average Speed       Unknown      Unknown    Unknown   \n",
       "4        Average Speed       Unknown      Unknown      Skill   \n",
       "\n",
       "         driver_maneuver_bins physical_bins  hour_bins SEX  \n",
       "0            Turning Maneuver        Normal  Afternoon   F  \n",
       "1            Turning Maneuver        Normal    Morning   M  \n",
       "2            Traffic Maneuver         Other      Night   M  \n",
       "3  Stationary Object Maneuver        Shaken  Afternoon   M  \n",
       "4                     Unknown         Other  Afternoon   M  "
      ]
     },
     "execution_count": 5,
     "metadata": {},
     "output_type": "execute_result"
    }
   ],
   "source": [
    "df.head()"
   ]
  },
  {
   "cell_type": "code",
   "execution_count": 7,
   "metadata": {},
   "outputs": [],
   "source": [
    "df = pd.get_dummies(df, columns=['age_bins','SAFE_PEDAL_ACTION','WEATHER_CAT','road_surf_bins','SPEED_RATING','cause_bins','driver_maneuver_bins','physical_bins','hour_bins','UNSAFE_ACTION'])\n"
   ]
  },
  {
   "cell_type": "code",
   "execution_count": 8,
   "metadata": {},
   "outputs": [
    {
     "data": {
      "text/html": [
       "<div>\n",
       "<style scoped>\n",
       "    .dataframe tbody tr th:only-of-type {\n",
       "        vertical-align: middle;\n",
       "    }\n",
       "\n",
       "    .dataframe tbody tr th {\n",
       "        vertical-align: top;\n",
       "    }\n",
       "\n",
       "    .dataframe thead th {\n",
       "        text-align: right;\n",
       "    }\n",
       "</style>\n",
       "<table border=\"1\" class=\"dataframe\">\n",
       "  <thead>\n",
       "    <tr style=\"text-align: right;\">\n",
       "      <th></th>\n",
       "      <th>Unnamed: 0</th>\n",
       "      <th>INJURY_BAD</th>\n",
       "      <th>HELMET_USED</th>\n",
       "      <th>PROTECTIVE_CLOTHING</th>\n",
       "      <th>SAFE_LOCATION</th>\n",
       "      <th>DAYTIME</th>\n",
       "      <th>DRIVER_BLIND</th>\n",
       "      <th>SEX</th>\n",
       "      <th>age_bins_Adolescent</th>\n",
       "      <th>age_bins_Adult</th>\n",
       "      <th>age_bins_Elderly</th>\n",
       "      <th>age_bins_Middle-aged</th>\n",
       "      <th>age_bins_Unknown</th>\n",
       "      <th>SAFE_PEDAL_ACTION_Neutral</th>\n",
       "      <th>SAFE_PEDAL_ACTION_Safe</th>\n",
       "      <th>SAFE_PEDAL_ACTION_Unknown</th>\n",
       "      <th>SAFE_PEDAL_ACTION_Unsafe</th>\n",
       "      <th>WEATHER_CAT_Adverse Weather</th>\n",
       "      <th>WEATHER_CAT_Clear Weather</th>\n",
       "      <th>WEATHER_CAT_Unknown</th>\n",
       "      <th>road_surf_bins_Dry</th>\n",
       "      <th>road_surf_bins_Other</th>\n",
       "      <th>road_surf_bins_Snow</th>\n",
       "      <th>road_surf_bins_Unknown</th>\n",
       "      <th>road_surf_bins_Wet</th>\n",
       "      <th>SPEED_RATING_Above Average Speed</th>\n",
       "      <th>SPEED_RATING_Average Speed</th>\n",
       "      <th>SPEED_RATING_Below Average Speed</th>\n",
       "      <th>cause_bins_Obstruction</th>\n",
       "      <th>cause_bins_Reckless</th>\n",
       "      <th>cause_bins_Skill</th>\n",
       "      <th>cause_bins_Speed</th>\n",
       "      <th>cause_bins_Unknown</th>\n",
       "      <th>cause_bins_Visibility</th>\n",
       "      <th>driver_maneuver_bins_Stationary Object Maneuver</th>\n",
       "      <th>driver_maneuver_bins_Straight Ahead</th>\n",
       "      <th>driver_maneuver_bins_Traffic Maneuver</th>\n",
       "      <th>driver_maneuver_bins_Turning Maneuver</th>\n",
       "      <th>driver_maneuver_bins_Unknown</th>\n",
       "      <th>physical_bins_Impaired</th>\n",
       "      <th>physical_bins_Normal</th>\n",
       "      <th>physical_bins_Other</th>\n",
       "      <th>physical_bins_Shaken</th>\n",
       "      <th>physical_bins_Unknown</th>\n",
       "      <th>hour_bins_Afternoon</th>\n",
       "      <th>hour_bins_Early Morning</th>\n",
       "      <th>hour_bins_Morning</th>\n",
       "      <th>hour_bins_Night</th>\n",
       "      <th>UNSAFE_ACTION_DISTRACTION</th>\n",
       "      <th>UNSAFE_ACTION_DRIVER ERROR</th>\n",
       "      <th>UNSAFE_ACTION_RECKLESS</th>\n",
       "      <th>UNSAFE_ACTION_Unknown</th>\n",
       "    </tr>\n",
       "  </thead>\n",
       "  <tbody>\n",
       "    <tr>\n",
       "      <th>0</th>\n",
       "      <td>0</td>\n",
       "      <td>0.0</td>\n",
       "      <td>0.0</td>\n",
       "      <td>0.0</td>\n",
       "      <td>1.0</td>\n",
       "      <td>1</td>\n",
       "      <td>0.0</td>\n",
       "      <td>F</td>\n",
       "      <td>0</td>\n",
       "      <td>0</td>\n",
       "      <td>0</td>\n",
       "      <td>1</td>\n",
       "      <td>0</td>\n",
       "      <td>1</td>\n",
       "      <td>0</td>\n",
       "      <td>0</td>\n",
       "      <td>0</td>\n",
       "      <td>0</td>\n",
       "      <td>1</td>\n",
       "      <td>0</td>\n",
       "      <td>1</td>\n",
       "      <td>0</td>\n",
       "      <td>0</td>\n",
       "      <td>0</td>\n",
       "      <td>0</td>\n",
       "      <td>0</td>\n",
       "      <td>1</td>\n",
       "      <td>0</td>\n",
       "      <td>0</td>\n",
       "      <td>0</td>\n",
       "      <td>1</td>\n",
       "      <td>0</td>\n",
       "      <td>0</td>\n",
       "      <td>0</td>\n",
       "      <td>0</td>\n",
       "      <td>0</td>\n",
       "      <td>0</td>\n",
       "      <td>1</td>\n",
       "      <td>0</td>\n",
       "      <td>0</td>\n",
       "      <td>1</td>\n",
       "      <td>0</td>\n",
       "      <td>0</td>\n",
       "      <td>0</td>\n",
       "      <td>1</td>\n",
       "      <td>0</td>\n",
       "      <td>0</td>\n",
       "      <td>0</td>\n",
       "      <td>0</td>\n",
       "      <td>0</td>\n",
       "      <td>0</td>\n",
       "      <td>1</td>\n",
       "    </tr>\n",
       "    <tr>\n",
       "      <th>1</th>\n",
       "      <td>1</td>\n",
       "      <td>0.0</td>\n",
       "      <td>0.0</td>\n",
       "      <td>0.0</td>\n",
       "      <td>0.0</td>\n",
       "      <td>1</td>\n",
       "      <td>0.0</td>\n",
       "      <td>M</td>\n",
       "      <td>0</td>\n",
       "      <td>1</td>\n",
       "      <td>0</td>\n",
       "      <td>0</td>\n",
       "      <td>0</td>\n",
       "      <td>1</td>\n",
       "      <td>0</td>\n",
       "      <td>0</td>\n",
       "      <td>0</td>\n",
       "      <td>0</td>\n",
       "      <td>1</td>\n",
       "      <td>0</td>\n",
       "      <td>1</td>\n",
       "      <td>0</td>\n",
       "      <td>0</td>\n",
       "      <td>0</td>\n",
       "      <td>0</td>\n",
       "      <td>0</td>\n",
       "      <td>1</td>\n",
       "      <td>0</td>\n",
       "      <td>0</td>\n",
       "      <td>0</td>\n",
       "      <td>1</td>\n",
       "      <td>0</td>\n",
       "      <td>0</td>\n",
       "      <td>0</td>\n",
       "      <td>0</td>\n",
       "      <td>0</td>\n",
       "      <td>0</td>\n",
       "      <td>1</td>\n",
       "      <td>0</td>\n",
       "      <td>0</td>\n",
       "      <td>1</td>\n",
       "      <td>0</td>\n",
       "      <td>0</td>\n",
       "      <td>0</td>\n",
       "      <td>0</td>\n",
       "      <td>0</td>\n",
       "      <td>1</td>\n",
       "      <td>0</td>\n",
       "      <td>0</td>\n",
       "      <td>0</td>\n",
       "      <td>0</td>\n",
       "      <td>1</td>\n",
       "    </tr>\n",
       "    <tr>\n",
       "      <th>2</th>\n",
       "      <td>2</td>\n",
       "      <td>0.0</td>\n",
       "      <td>1.0</td>\n",
       "      <td>1.0</td>\n",
       "      <td>1.0</td>\n",
       "      <td>0</td>\n",
       "      <td>Unknown</td>\n",
       "      <td>M</td>\n",
       "      <td>0</td>\n",
       "      <td>1</td>\n",
       "      <td>0</td>\n",
       "      <td>0</td>\n",
       "      <td>0</td>\n",
       "      <td>0</td>\n",
       "      <td>1</td>\n",
       "      <td>0</td>\n",
       "      <td>0</td>\n",
       "      <td>0</td>\n",
       "      <td>1</td>\n",
       "      <td>0</td>\n",
       "      <td>0</td>\n",
       "      <td>0</td>\n",
       "      <td>0</td>\n",
       "      <td>1</td>\n",
       "      <td>0</td>\n",
       "      <td>0</td>\n",
       "      <td>1</td>\n",
       "      <td>0</td>\n",
       "      <td>0</td>\n",
       "      <td>1</td>\n",
       "      <td>0</td>\n",
       "      <td>0</td>\n",
       "      <td>0</td>\n",
       "      <td>0</td>\n",
       "      <td>0</td>\n",
       "      <td>0</td>\n",
       "      <td>1</td>\n",
       "      <td>0</td>\n",
       "      <td>0</td>\n",
       "      <td>0</td>\n",
       "      <td>0</td>\n",
       "      <td>1</td>\n",
       "      <td>0</td>\n",
       "      <td>0</td>\n",
       "      <td>0</td>\n",
       "      <td>0</td>\n",
       "      <td>0</td>\n",
       "      <td>1</td>\n",
       "      <td>0</td>\n",
       "      <td>0</td>\n",
       "      <td>0</td>\n",
       "      <td>1</td>\n",
       "    </tr>\n",
       "    <tr>\n",
       "      <th>3</th>\n",
       "      <td>3</td>\n",
       "      <td>1.0</td>\n",
       "      <td>1.0</td>\n",
       "      <td>1.0</td>\n",
       "      <td>Unknown</td>\n",
       "      <td>1</td>\n",
       "      <td>Unknown</td>\n",
       "      <td>M</td>\n",
       "      <td>0</td>\n",
       "      <td>1</td>\n",
       "      <td>0</td>\n",
       "      <td>0</td>\n",
       "      <td>0</td>\n",
       "      <td>1</td>\n",
       "      <td>0</td>\n",
       "      <td>0</td>\n",
       "      <td>0</td>\n",
       "      <td>0</td>\n",
       "      <td>1</td>\n",
       "      <td>0</td>\n",
       "      <td>1</td>\n",
       "      <td>0</td>\n",
       "      <td>0</td>\n",
       "      <td>0</td>\n",
       "      <td>0</td>\n",
       "      <td>0</td>\n",
       "      <td>0</td>\n",
       "      <td>1</td>\n",
       "      <td>0</td>\n",
       "      <td>0</td>\n",
       "      <td>0</td>\n",
       "      <td>0</td>\n",
       "      <td>1</td>\n",
       "      <td>0</td>\n",
       "      <td>1</td>\n",
       "      <td>0</td>\n",
       "      <td>0</td>\n",
       "      <td>0</td>\n",
       "      <td>0</td>\n",
       "      <td>0</td>\n",
       "      <td>0</td>\n",
       "      <td>0</td>\n",
       "      <td>1</td>\n",
       "      <td>0</td>\n",
       "      <td>1</td>\n",
       "      <td>0</td>\n",
       "      <td>0</td>\n",
       "      <td>0</td>\n",
       "      <td>0</td>\n",
       "      <td>0</td>\n",
       "      <td>0</td>\n",
       "      <td>1</td>\n",
       "    </tr>\n",
       "    <tr>\n",
       "      <th>4</th>\n",
       "      <td>4</td>\n",
       "      <td>0.0</td>\n",
       "      <td>0.0</td>\n",
       "      <td>0.0</td>\n",
       "      <td>0.0</td>\n",
       "      <td>1</td>\n",
       "      <td>Unknown</td>\n",
       "      <td>M</td>\n",
       "      <td>0</td>\n",
       "      <td>1</td>\n",
       "      <td>0</td>\n",
       "      <td>0</td>\n",
       "      <td>0</td>\n",
       "      <td>1</td>\n",
       "      <td>0</td>\n",
       "      <td>0</td>\n",
       "      <td>0</td>\n",
       "      <td>0</td>\n",
       "      <td>1</td>\n",
       "      <td>0</td>\n",
       "      <td>1</td>\n",
       "      <td>0</td>\n",
       "      <td>0</td>\n",
       "      <td>0</td>\n",
       "      <td>0</td>\n",
       "      <td>0</td>\n",
       "      <td>1</td>\n",
       "      <td>0</td>\n",
       "      <td>0</td>\n",
       "      <td>0</td>\n",
       "      <td>1</td>\n",
       "      <td>0</td>\n",
       "      <td>0</td>\n",
       "      <td>0</td>\n",
       "      <td>0</td>\n",
       "      <td>0</td>\n",
       "      <td>0</td>\n",
       "      <td>0</td>\n",
       "      <td>1</td>\n",
       "      <td>0</td>\n",
       "      <td>0</td>\n",
       "      <td>1</td>\n",
       "      <td>0</td>\n",
       "      <td>0</td>\n",
       "      <td>1</td>\n",
       "      <td>0</td>\n",
       "      <td>0</td>\n",
       "      <td>0</td>\n",
       "      <td>0</td>\n",
       "      <td>0</td>\n",
       "      <td>0</td>\n",
       "      <td>1</td>\n",
       "    </tr>\n",
       "  </tbody>\n",
       "</table>\n",
       "</div>"
      ],
      "text/plain": [
       "   Unnamed: 0  INJURY_BAD HELMET_USED  PROTECTIVE_CLOTHING SAFE_LOCATION  \\\n",
       "0           0         0.0         0.0                  0.0           1.0   \n",
       "1           1         0.0         0.0                  0.0           0.0   \n",
       "2           2         0.0         1.0                  1.0           1.0   \n",
       "3           3         1.0         1.0                  1.0       Unknown   \n",
       "4           4         0.0         0.0                  0.0           0.0   \n",
       "\n",
       "   DAYTIME DRIVER_BLIND SEX  age_bins_Adolescent  age_bins_Adult  \\\n",
       "0        1          0.0   F                    0               0   \n",
       "1        1          0.0   M                    0               1   \n",
       "2        0      Unknown   M                    0               1   \n",
       "3        1      Unknown   M                    0               1   \n",
       "4        1      Unknown   M                    0               1   \n",
       "\n",
       "   age_bins_Elderly  age_bins_Middle-aged  age_bins_Unknown  \\\n",
       "0                 0                     1                 0   \n",
       "1                 0                     0                 0   \n",
       "2                 0                     0                 0   \n",
       "3                 0                     0                 0   \n",
       "4                 0                     0                 0   \n",
       "\n",
       "   SAFE_PEDAL_ACTION_Neutral  SAFE_PEDAL_ACTION_Safe  \\\n",
       "0                          1                       0   \n",
       "1                          1                       0   \n",
       "2                          0                       1   \n",
       "3                          1                       0   \n",
       "4                          1                       0   \n",
       "\n",
       "   SAFE_PEDAL_ACTION_Unknown  SAFE_PEDAL_ACTION_Unsafe  \\\n",
       "0                          0                         0   \n",
       "1                          0                         0   \n",
       "2                          0                         0   \n",
       "3                          0                         0   \n",
       "4                          0                         0   \n",
       "\n",
       "   WEATHER_CAT_Adverse Weather  WEATHER_CAT_Clear Weather  \\\n",
       "0                            0                          1   \n",
       "1                            0                          1   \n",
       "2                            0                          1   \n",
       "3                            0                          1   \n",
       "4                            0                          1   \n",
       "\n",
       "   WEATHER_CAT_Unknown  road_surf_bins_Dry  road_surf_bins_Other  \\\n",
       "0                    0                   1                     0   \n",
       "1                    0                   1                     0   \n",
       "2                    0                   0                     0   \n",
       "3                    0                   1                     0   \n",
       "4                    0                   1                     0   \n",
       "\n",
       "   road_surf_bins_Snow  road_surf_bins_Unknown  road_surf_bins_Wet  \\\n",
       "0                    0                       0                   0   \n",
       "1                    0                       0                   0   \n",
       "2                    0                       1                   0   \n",
       "3                    0                       0                   0   \n",
       "4                    0                       0                   0   \n",
       "\n",
       "   SPEED_RATING_Above Average Speed  SPEED_RATING_Average Speed  \\\n",
       "0                                 0                           1   \n",
       "1                                 0                           1   \n",
       "2                                 0                           1   \n",
       "3                                 0                           0   \n",
       "4                                 0                           1   \n",
       "\n",
       "   SPEED_RATING_Below Average Speed  cause_bins_Obstruction  \\\n",
       "0                                 0                       0   \n",
       "1                                 0                       0   \n",
       "2                                 0                       0   \n",
       "3                                 1                       0   \n",
       "4                                 0                       0   \n",
       "\n",
       "   cause_bins_Reckless  cause_bins_Skill  cause_bins_Speed  \\\n",
       "0                    0                 1                 0   \n",
       "1                    0                 1                 0   \n",
       "2                    1                 0                 0   \n",
       "3                    0                 0                 0   \n",
       "4                    0                 1                 0   \n",
       "\n",
       "   cause_bins_Unknown  cause_bins_Visibility  \\\n",
       "0                   0                      0   \n",
       "1                   0                      0   \n",
       "2                   0                      0   \n",
       "3                   1                      0   \n",
       "4                   0                      0   \n",
       "\n",
       "   driver_maneuver_bins_Stationary Object Maneuver  \\\n",
       "0                                                0   \n",
       "1                                                0   \n",
       "2                                                0   \n",
       "3                                                1   \n",
       "4                                                0   \n",
       "\n",
       "   driver_maneuver_bins_Straight Ahead  driver_maneuver_bins_Traffic Maneuver  \\\n",
       "0                                    0                                      0   \n",
       "1                                    0                                      0   \n",
       "2                                    0                                      1   \n",
       "3                                    0                                      0   \n",
       "4                                    0                                      0   \n",
       "\n",
       "   driver_maneuver_bins_Turning Maneuver  driver_maneuver_bins_Unknown  \\\n",
       "0                                      1                             0   \n",
       "1                                      1                             0   \n",
       "2                                      0                             0   \n",
       "3                                      0                             0   \n",
       "4                                      0                             1   \n",
       "\n",
       "   physical_bins_Impaired  physical_bins_Normal  physical_bins_Other  \\\n",
       "0                       0                     1                    0   \n",
       "1                       0                     1                    0   \n",
       "2                       0                     0                    1   \n",
       "3                       0                     0                    0   \n",
       "4                       0                     0                    1   \n",
       "\n",
       "   physical_bins_Shaken  physical_bins_Unknown  hour_bins_Afternoon  \\\n",
       "0                     0                      0                    1   \n",
       "1                     0                      0                    0   \n",
       "2                     0                      0                    0   \n",
       "3                     1                      0                    1   \n",
       "4                     0                      0                    1   \n",
       "\n",
       "   hour_bins_Early Morning  hour_bins_Morning  hour_bins_Night  \\\n",
       "0                        0                  0                0   \n",
       "1                        0                  1                0   \n",
       "2                        0                  0                1   \n",
       "3                        0                  0                0   \n",
       "4                        0                  0                0   \n",
       "\n",
       "   UNSAFE_ACTION_DISTRACTION  UNSAFE_ACTION_DRIVER ERROR  \\\n",
       "0                          0                           0   \n",
       "1                          0                           0   \n",
       "2                          0                           0   \n",
       "3                          0                           0   \n",
       "4                          0                           0   \n",
       "\n",
       "   UNSAFE_ACTION_RECKLESS  UNSAFE_ACTION_Unknown  \n",
       "0                       0                      1  \n",
       "1                       0                      1  \n",
       "2                       0                      1  \n",
       "3                       0                      1  \n",
       "4                       0                      1  "
      ]
     },
     "execution_count": 8,
     "metadata": {},
     "output_type": "execute_result"
    }
   ],
   "source": [
    "df.head()"
   ]
  },
  {
   "cell_type": "code",
   "execution_count": null,
   "metadata": {},
   "outputs": [],
   "source": []
  }
 ],
 "metadata": {
  "kernelspec": {
   "display_name": "Python (learn-env)",
   "language": "python",
   "name": "learn-env"
  },
  "language_info": {
   "codemirror_mode": {
    "name": "ipython",
    "version": 3
   },
   "file_extension": ".py",
   "mimetype": "text/x-python",
   "name": "python",
   "nbconvert_exporter": "python",
   "pygments_lexer": "ipython3",
   "version": "3.8.5"
  }
 },
 "nbformat": 4,
 "nbformat_minor": 4
}
