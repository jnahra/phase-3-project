{
 "cells": [
  {
   "cell_type": "markdown",
   "metadata": {},
   "source": [
    "### Packages and Import"
   ]
  },
  {
   "cell_type": "code",
   "execution_count": 1,
   "metadata": {},
   "outputs": [],
   "source": [
    "### Importing packages for data analysis\n",
    "\n",
    "import pandas as pd\n",
    "import numpy as np\n",
    "from imblearn.over_sampling import SMOTE\n",
    "from sklearn.tree import DecisionTreeClassifier, plot_tree\n",
    "from sklearn.preprocessing import OneHotEncoder\n",
    "from sklearn.model_selection import train_test_split\n",
    "import matplotlib.pyplot as plt\n",
    "from sklearn.metrics import accuracy_score, recall_score, precision_score, f1_score, precision_recall_curve, auc\n",
    "import seaborn as sns\n",
    "\n",
    "df_big = pd.read_csv(\"big_data.csv\")\n",
    "df_big = df_big.drop(columns=['Unnamed: 0'])\n",
    "df_small = pd.read_csv(\"small_data.csv\")\n",
    "df_small = df_small.drop(columns=['Unnamed: 0'])"
   ]
  },
  {
   "cell_type": "markdown",
   "metadata": {},
   "source": [
    "### Define X and Y, prep variables for OHE"
   ]
  },
  {
   "cell_type": "code",
   "execution_count": 2,
   "metadata": {},
   "outputs": [],
   "source": [
    "X = df_big.drop(columns=['INJURY_BAD'])\n",
    "y = df_big['INJURY_BAD']"
   ]
  },
  {
   "cell_type": "code",
   "execution_count": 3,
   "metadata": {},
   "outputs": [],
   "source": [
    "cat_columns = ['age_bins', 'SAFE_PEDAL_ACTION', 'WEATHER_CAT', 'road_surf_bins',\n",
    "              'SPEED_RATING', 'physical_bins', 'hour_bins', 'SEX']"
   ]
  },
  {
   "cell_type": "markdown",
   "metadata": {},
   "source": [
    "### Train/Test Split"
   ]
  },
  {
   "cell_type": "code",
   "execution_count": 4,
   "metadata": {},
   "outputs": [],
   "source": [
    "X_train, X_test, y_train, y_test = train_test_split(X, y, random_state=312)"
   ]
  },
  {
   "cell_type": "markdown",
   "metadata": {},
   "source": [
    "### Preprocessing - OHE and SMOTEing"
   ]
  },
  {
   "cell_type": "code",
   "execution_count": 5,
   "metadata": {},
   "outputs": [],
   "source": [
    "### OHE Encoding\n",
    "\n",
    "ohe = OneHotEncoder(sparse=False, handle_unknown='ignore')\n",
    "X_train_encoded = ohe.fit_transform(X_train[cat_columns])\n",
    "X_test_encoded = ohe.transform(X_test[cat_columns])\n",
    "\n",
    "### Combine back together\n",
    "\n",
    "X_train_processed = np.concatenate([X_train_encoded, X_train.drop(cat_columns, axis=1)], axis=1)\n",
    "X_test_processed = np.concatenate([X_test_encoded, X_test.drop(cat_columns, axis=1)], axis=1)\n",
    "\n",
    "### SMOTE the minority class\n",
    "\n",
    "smote = SMOTE(random_state=312)\n",
    "X_train_resampled, y_train_resampled = smote.fit_resample(X_train_processed, y_train)"
   ]
  },
  {
   "cell_type": "markdown",
   "metadata": {},
   "source": [
    "### Fit to a decision tree"
   ]
  },
  {
   "cell_type": "code",
   "execution_count": 17,
   "metadata": {
    "scrolled": true
   },
   "outputs": [
    {
     "data": {
      "text/plain": [
       "DecisionTreeClassifier(max_depth=10, random_state=312)"
      ]
     },
     "execution_count": 17,
     "metadata": {},
     "output_type": "execute_result"
    }
   ],
   "source": [
    "# Fit a decision tree classifier\n",
    "tree = DecisionTreeClassifier(random_state=312, max_depth=10)\n",
    "tree.fit(X_train_resampled, y_train_resampled)"
   ]
  },
  {
   "cell_type": "markdown",
   "metadata": {},
   "source": [
    "### Vizualizing Tree"
   ]
  },
  {
   "cell_type": "code",
   "execution_count": 20,
   "metadata": {},
   "outputs": [
    {
     "name": "stdout",
     "output_type": "stream",
     "text": [
      "0.7883227640498579\n",
      "0.6166630220861579\n",
      "0.939060939060939\n",
      "0.744456177402323\n"
     ]
    }
   ],
   "source": [
    "y_pred_train = tree.predict(X_train_resampled)\n",
    "\n",
    "print(accuracy_score(y_train_resampled, y_pred_train))\n",
    "print(recall_score(y_train_resampled, y_pred_train))\n",
    "print(precision_score(y_train_resampled, y_pred_train))\n",
    "print(f1_score(y_train_resampled, y_pred_train))"
   ]
  },
  {
   "cell_type": "code",
   "execution_count": 21,
   "metadata": {
    "scrolled": true
   },
   "outputs": [
    {
     "name": "stdout",
     "output_type": "stream",
     "text": [
      "0.854876615746181\n",
      "0.07262569832402235\n",
      "0.13829787234042554\n",
      "0.09523809523809525\n"
     ]
    }
   ],
   "source": [
    "y_pred_test = tree.predict(X_test_processed)\n",
    "\n",
    "print(accuracy_score(y_test, y_pred_test))\n",
    "print(recall_score(y_test, y_pred_test))\n",
    "print(precision_score(y_test, y_pred_test))\n",
    "print(f1_score(y_test, y_pred_test))"
   ]
  },
  {
   "cell_type": "markdown",
   "metadata": {},
   "source": [
    "### Feature Importances\n"
   ]
  },
  {
   "cell_type": "code",
   "execution_count": null,
   "metadata": {},
   "outputs": [],
   "source": []
  }
 ],
 "metadata": {
  "kernelspec": {
   "display_name": "Python 3",
   "language": "python",
   "name": "python3"
  },
  "language_info": {
   "codemirror_mode": {
    "name": "ipython",
    "version": 3
   },
   "file_extension": ".py",
   "mimetype": "text/x-python",
   "name": "python",
   "nbconvert_exporter": "python",
   "pygments_lexer": "ipython3",
   "version": "3.8.5"
  }
 },
 "nbformat": 4,
 "nbformat_minor": 4
}
