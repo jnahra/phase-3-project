{
 "cells": [
  {
   "cell_type": "code",
   "execution_count": 1,
   "metadata": {},
   "outputs": [],
   "source": [
    "import pandas as pd"
   ]
  },
  {
   "cell_type": "code",
   "execution_count": 3,
   "metadata": {},
   "outputs": [],
   "source": [
    "df = pd.read_csv('bikers_semi_final.csv',low_memory=False)"
   ]
  },
  {
   "cell_type": "code",
   "execution_count": 5,
   "metadata": {},
   "outputs": [
    {
     "name": "stdout",
     "output_type": "stream",
     "text": [
      "<class 'pandas.core.frame.DataFrame'>\n",
      "RangeIndex: 10238 entries, 0 to 10237\n",
      "Data columns (total 152 columns):\n",
      " #   Column                         Non-Null Count  Dtype  \n",
      "---  ------                         --------------  -----  \n",
      " 0   Unnamed: 0                     10238 non-null  int64  \n",
      " 1   Unnamed: 0.1                   10238 non-null  int64  \n",
      " 2   PERSON_ID                      10238 non-null  object \n",
      " 3   PERSON_TYPE                    10238 non-null  object \n",
      " 4   CRASH_RECORD_ID                10238 non-null  object \n",
      " 5   RD_NO_x                        10217 non-null  object \n",
      " 6   CRASH_DATE_x                   10238 non-null  object \n",
      " 7   CITY                           8802 non-null   object \n",
      " 8   STATE                          8700 non-null   object \n",
      " 9   ZIPCODE                        7320 non-null   object \n",
      " 10  SEX                            10094 non-null  object \n",
      " 11  AGE                            8717 non-null   float64\n",
      " 12  SAFETY_EQUIPMENT               10104 non-null  object \n",
      " 13  EJECTION                       9920 non-null   object \n",
      " 14  INJURY_CLASSIFICATION          10236 non-null  object \n",
      " 15  HOSPITAL                       5176 non-null   object \n",
      " 16  EMS_AGENCY                     4318 non-null   object \n",
      " 17  DRIVER_ACTION                  10040 non-null  object \n",
      " 18  DRIVER_VISION                  10003 non-null  object \n",
      " 19  PHYSICAL_CONDITION             10053 non-null  object \n",
      " 20  PEDPEDAL_ACTION                10236 non-null  object \n",
      " 21  PEDPEDAL_VISIBILITY            10236 non-null  object \n",
      " 22  PEDPEDAL_LOCATION              10236 non-null  object \n",
      " 23  BAC_RESULT                     9885 non-null   object \n",
      " 24  BAC_RESULT VALUE               2 non-null      float64\n",
      " 25  CELL_PHONE_USE                 14 non-null     object \n",
      " 26  RD_NO_y                        10217 non-null  object \n",
      " 27  CRASH_DATE_EST_I               511 non-null    object \n",
      " 28  CRASH_DATE_y                   10238 non-null  object \n",
      " 29  POSTED_SPEED_LIMIT             10238 non-null  int64  \n",
      " 30  TRAFFIC_CONTROL_DEVICE         10238 non-null  object \n",
      " 31  DEVICE_CONDITION               10238 non-null  object \n",
      " 32  WEATHER_CONDITION              10238 non-null  object \n",
      " 33  LIGHTING_CONDITION             10238 non-null  object \n",
      " 34  FIRST_CRASH_TYPE               10238 non-null  object \n",
      " 35  TRAFFICWAY_TYPE                10238 non-null  object \n",
      " 36  LANE_CNT                       2864 non-null   float64\n",
      " 37  ALIGNMENT                      10238 non-null  object \n",
      " 38  ROADWAY_SURFACE_COND           10238 non-null  object \n",
      " 39  ROAD_DEFECT                    10238 non-null  object \n",
      " 40  REPORT_TYPE                    9867 non-null   object \n",
      " 41  CRASH_TYPE                     10238 non-null  object \n",
      " 42  INTERSECTION_RELATED_I         3844 non-null   object \n",
      " 43  NOT_RIGHT_OF_WAY_I             70 non-null     object \n",
      " 44  HIT_AND_RUN_I                  2756 non-null   object \n",
      " 45  DAMAGE                         10238 non-null  object \n",
      " 46  DATE_POLICE_NOTIFIED           10238 non-null  object \n",
      " 47  PRIM_CONTRIBUTORY_CAUSE        10238 non-null  object \n",
      " 48  SEC_CONTRIBUTORY_CAUSE         10238 non-null  object \n",
      " 49  STREET_NO                      10238 non-null  int64  \n",
      " 50  STREET_DIRECTION               10238 non-null  object \n",
      " 51  STREET_NAME                    10238 non-null  object \n",
      " 52  BEAT_OF_OCCURRENCE             10238 non-null  float64\n",
      " 53  PHOTOS_TAKEN_I                 93 non-null     object \n",
      " 54  STATEMENTS_TAKEN_I             338 non-null    object \n",
      " 55  DOORING_I                      1673 non-null   object \n",
      " 56  WORK_ZONE_I                    58 non-null     object \n",
      " 57  WORK_ZONE_TYPE                 40 non-null     object \n",
      " 58  WORKERS_PRESENT_I              13 non-null     object \n",
      " 59  NUM_UNITS                      10238 non-null  int64  \n",
      " 60  MOST_SEVERE_INJURY             10238 non-null  object \n",
      " 61  INJURIES_TOTAL                 10238 non-null  float64\n",
      " 62  INJURIES_FATAL                 10238 non-null  float64\n",
      " 63  INJURIES_INCAPACITATING        10238 non-null  float64\n",
      " 64  INJURIES_NON_INCAPACITATING    10238 non-null  float64\n",
      " 65  INJURIES_REPORTED_NOT_EVIDENT  10238 non-null  float64\n",
      " 66  INJURIES_NO_INDICATION         10238 non-null  float64\n",
      " 67  INJURIES_UNKNOWN               10238 non-null  float64\n",
      " 68  CRASH_HOUR                     10238 non-null  int64  \n",
      " 69  CRASH_DAY_OF_WEEK              10238 non-null  int64  \n",
      " 70  CRASH_MONTH                    10238 non-null  int64  \n",
      " 71  LATITUDE                       10222 non-null  float64\n",
      " 72  LONGITUDE                      10222 non-null  float64\n",
      " 73  LOCATION                       10222 non-null  object \n",
      " 74  CRASH_UNIT_ID                  10238 non-null  int64  \n",
      " 75  RD_NO                          10217 non-null  object \n",
      " 76  CRASH_DATE                     10238 non-null  object \n",
      " 77  UNIT_NO                        10238 non-null  int64  \n",
      " 78  UNIT_TYPE                      10215 non-null  object \n",
      " 79  NUM_PASSENGERS                 1133 non-null   float64\n",
      " 80  VEHICLE_ID_y                   6726 non-null   float64\n",
      " 81  CMRC_VEH_I                     87 non-null     object \n",
      " 82  MAKE                           6726 non-null   object \n",
      " 83  MODEL                          6726 non-null   object \n",
      " 84  LIC_PLATE_STATE                5856 non-null   object \n",
      " 85  VEHICLE_YEAR                   4834 non-null   float64\n",
      " 86  VEHICLE_DEFECT                 6726 non-null   object \n",
      " 87  VEHICLE_TYPE                   6726 non-null   object \n",
      " 88  VEHICLE_USE                    6726 non-null   object \n",
      " 89  TRAVEL_DIRECTION               6726 non-null   object \n",
      " 90  MANEUVER                       6726 non-null   object \n",
      " 91  TOWED_I                        123 non-null    object \n",
      " 92  FIRE_I                         3 non-null      object \n",
      " 93  OCCUPANT_CNT                   6726 non-null   float64\n",
      " 94  EXCEED_SPEED_LIMIT_I           7 non-null      object \n",
      " 95  TOWED_BY                       69 non-null     object \n",
      " 96  TOWED_TO                       52 non-null     object \n",
      " 97  AREA_00_I                      1148 non-null   object \n",
      " 98  AREA_01_I                      1353 non-null   object \n",
      " 99  AREA_02_I                      693 non-null    object \n",
      " 100 AREA_03_I                      534 non-null    object \n",
      " 101 AREA_04_I                      244 non-null    object \n",
      " 102 AREA_05_I                      115 non-null    object \n",
      " 103 AREA_06_I                      77 non-null     object \n",
      " 104 AREA_07_I                      372 non-null    object \n",
      " 105 AREA_08_I                      347 non-null    object \n",
      " 106 AREA_09_I                      344 non-null    object \n",
      " 107 AREA_10_I                      285 non-null    object \n",
      " 108 AREA_11_I                      583 non-null    object \n",
      " 109 AREA_12_I                      972 non-null    object \n",
      " 110 AREA_99_I                      1546 non-null   object \n",
      " 111 FIRST_CONTACT_POINT            6659 non-null   object \n",
      " 112 CMV_ID                         29 non-null     float64\n",
      " 113 USDOT_NO                       13 non-null     object \n",
      " 114 CCMC_NO                        6 non-null      object \n",
      " 115 ILCC_NO                        6 non-null      object \n",
      " 116 COMMERCIAL_SRC                 18 non-null     object \n",
      " 117 GVWR                           15 non-null     float64\n",
      " 118 CARRIER_NAME                   27 non-null     object \n",
      " 119 CARRIER_STATE                  24 non-null     object \n",
      " 120 CARRIER_CITY                   24 non-null     object \n",
      " 121 HAZMAT_PRESENT_I               22 non-null     object \n",
      " 122 HAZMAT_REPORT_I                22 non-null     object \n",
      " 123 MCS_REPORT_I                   21 non-null     object \n",
      " 124 HAZMAT_VIO_CAUSE_CRASH_I       22 non-null     object \n",
      " 125 MCS_VIO_CAUSE_CRASH_I          21 non-null     object \n",
      " 126 TRAILER1_WIDTH                 2 non-null      object \n",
      " 127 TRAILER1_LENGTH                2 non-null      float64\n",
      " 128 TOTAL_VEHICLE_LENGTH           5 non-null      float64\n",
      " 129 AXLE_CNT                       7 non-null      float64\n",
      " 130 VEHICLE_CONFIG                 23 non-null     object \n",
      " 131 CARGO_BODY_TYPE                21 non-null     object \n",
      " 132 LOAD_TYPE                      21 non-null     object \n",
      " 133 HAZMAT_OUT_OF_SERVICE_I        21 non-null     object \n",
      " 134 MCS_OUT_OF_SERVICE_I           21 non-null     object \n",
      " 135 HAZMAT_CLASS                   1 non-null      object \n",
      " 136 INJURY_BAD                     10236 non-null  float64\n",
      " 137 HELMET_USED                    10104 non-null  object \n",
      " 138 age_bins                       10238 non-null  object \n",
      " 139 SAFE_PEDAL_ACTION              10236 non-null  object \n",
      " 140 PROTECTIVE_CLOTHING            10236 non-null  float64\n",
      " 141 SAFE_LOCATION                  10236 non-null  object \n",
      " 142 WEATHER_CAT                    10238 non-null  object \n",
      " 143 road_surf_bins                 10238 non-null  object \n",
      " 144 DAYTIME                        10238 non-null  int64  \n",
      " 145 SPEED_RATING                   10238 non-null  object \n",
      " 146 UNSAFE_ACTION                  10040 non-null  object \n",
      " 147 DRIVER_BLIND                   10003 non-null  object \n",
      " 148 cause_bins                     5935 non-null   object \n",
      " 149 driver_maneuver_bins           10238 non-null  object \n",
      " 150 physical_bins                  10238 non-null  object \n",
      " 151 hour_bins                      10238 non-null  object \n",
      "dtypes: float64(24), int64(11), object(117)\n",
      "memory usage: 11.9+ MB\n"
     ]
    }
   ],
   "source": [
    "df.info(verbose=True,null_counts=True)"
   ]
  },
  {
   "cell_type": "code",
   "execution_count": 6,
   "metadata": {
    "scrolled": true
   },
   "outputs": [
    {
     "data": {
      "image/png": "[encoded data removed]",
      "text/plain": [
       "<Figure size 432x288 with 1 Axes>"
      ]
     },
     "metadata": {
      "needs_background": "light"
     },
     "output_type": "display_data"
    }
   ],
   "source": [
    "df.groupby(by=['PEDPEDAL_ACTION'])['INJURY_BAD'].mean().sort_values().plot(kind='barh');"
   ]
  },
  {
   "cell_type": "code",
   "execution_count": 7,
   "metadata": {},
   "outputs": [
    {
     "data": {
      "text/plain": [
       "WITH TRAFFIC                                         3582\n",
       "UNKNOWN/NA                                           1165\n",
       "OTHER ACTION                                         1045\n",
       "CROSSING - WITH SIGNAL                                983\n",
       "NO ACTION                                             678\n",
       "CROSSING - AGAINST SIGNAL                             514\n",
       "AGAINST TRAFFIC                                       505\n",
       "CROSSING - NO CONTROLS (AT INTERSECTION)              397\n",
       "TURNING LEFT                                          369\n",
       "CROSSING - NO CONTROLS (NOT AT INTERSECTION)          244\n",
       "ENTER FROM DRIVE/ALLEY                                180\n",
       "CROSSING - CONTROLS PRESENT (NOT AT INTERSECTION)     160\n",
       "TURNING RIGHT                                         157\n",
       "NOT AT INTERSECTION                                   134\n",
       "INTOXICATED PED/PEDAL                                  38\n",
       "STANDING IN ROADWAY                                    33\n",
       "PARKED VEHICLE                                         27\n",
       "PLAYING IN ROADWAY                                     10\n",
       "WORKING IN ROADWAY                                      6\n",
       "TO/FROM DISABLED VEHICLE                                3\n",
       "PLAYING/WORKING ON VEHICLE                              2\n",
       "WAITING FOR SCHOOL BUS                                  2\n",
       "SCHOOL BUS (WITHIN 50 FT.)                              2\n",
       "Name: PEDPEDAL_ACTION, dtype: int64"
      ]
     },
     "execution_count": 7,
     "metadata": {},
     "output_type": "execute_result"
    }
   ],
   "source": [
    "df['PEDPEDAL_ACTION'].value_counts()"
   ]
  },
  {
   "cell_type": "code",
   "execution_count": 8,
   "metadata": {},
   "outputs": [
    {
     "data": {
      "image/png": "[encoded data removed]",
      "text/plain": [
       "<Figure size 432x288 with 1 Axes>"
      ]
     },
     "metadata": {
      "needs_background": "light"
     },
     "output_type": "display_data"
    }
   ],
   "source": [
    "df.loc[df['PEDPEDAL_ACTION'] == 'WITH TRAFFIC', 'SAFE_PEDAL_ACTION'] = 'Safe'\n",
    "df.loc[df['PEDPEDAL_ACTION'] == 'TURNING LEFT', 'SAFE_PEDAL_ACTION'] = 'Safe'\n",
    "df.loc[df['PEDPEDAL_ACTION'] == 'TURNING RIGHT', 'SAFE_PEDAL_ACTION'] = 'Safe'\n",
    "df.loc[df['PEDPEDAL_ACTION'] == 'CROSSING - WITH SIGNAL', 'SAFE_PEDAL_ACTION'] = 'Safe'\n",
    "df.loc[df['PEDPEDAL_ACTION'] == 'ENTER FROM DRIVE/ALLEY', 'SAFE_PEDAL_ACTION'] = 'Safe'\n",
    "df.loc[df['PEDPEDAL_ACTION'] == 'CROSSING - NO CONTROLS (AT INTERSECTION)', 'SAFE_PEDAL_ACTION'] = 'Safe'\n",
    "\n",
    "df.loc[df['PEDPEDAL_ACTION'] == 'NO ACTION', 'SAFE_PEDAL_ACTION'] = 'Neutral'\n",
    "df.loc[df['PEDPEDAL_ACTION'] == 'OTHER ACTION', 'SAFE_PEDAL_ACTION'] = 'Neutral'\n",
    "df.loc[df['PEDPEDAL_ACTION'] == 'STANDING IN ROADWAY', 'SAFE_PEDAL_ACTION'] = 'Neutral'\n",
    "df.loc[df['PEDPEDAL_ACTION'] == 'PARKED VEHICLE', 'SAFE_PEDAL_ACTION'] = 'Neutral'\n",
    "df.loc[df['PEDPEDAL_ACTION'] == 'WAITING FOR SCHOOL BUS', 'SAFE_PEDAL_ACTION'] = 'Neutral'\n",
    "df.loc[df['PEDPEDAL_ACTION'] == 'SCHOOL BUS (WITHIN 50 FT.)', 'SAFE_PEDAL_ACTION'] = 'Neutral'\n",
    "\n",
    "df.loc[df['PEDPEDAL_ACTION'] == 'CROSSING - CONTROLS PRESENT (NOT AT INTERSECTION)', 'SAFE_PEDAL_ACTION'] = 'Unsafe'\n",
    "df.loc[df['PEDPEDAL_ACTION'] == 'AGAINST TRAFFIC', 'SAFE_PEDAL_ACTION'] = 'Unsafe'\n",
    "df.loc[df['PEDPEDAL_ACTION'] == 'CROSSING - AGAINST SIGNAL', 'SAFE_PEDAL_ACTION'] = 'Unsafe'\n",
    "df.loc[df['PEDPEDAL_ACTION'] == 'CROSSING - NO CONTROLS (NOT AT INTERSECTION)', 'SAFE_PEDAL_ACTION'] = 'Unsafe'\n",
    "df.loc[df['PEDPEDAL_ACTION'] == 'NOT AT INTERSECTION', 'SAFE_PEDAL_ACTION'] = 'Unsafe'\n",
    "df.loc[df['PEDPEDAL_ACTION'] == 'INTOXICATED PED/PEDAL', 'SAFE_PEDAL_ACTION'] = 'Unsafe'\n",
    "df.loc[df['PEDPEDAL_ACTION'] == 'PLAYING IN ROADWAY', 'SAFE_PEDAL_ACTION'] = 'Unsafe'\n",
    "df.loc[df['PEDPEDAL_ACTION'] == 'WORKING IN ROADWAY', 'SAFE_PEDAL_ACTION'] = 'Unsafe'\n",
    "df.loc[df['PEDPEDAL_ACTION'] == 'PLAYING/WORKING ON VEHICLE', 'SAFE_PEDAL_ACTION'] = 'Unsafe'\n",
    "df.loc[df['PEDPEDAL_ACTION'] == 'TO/FROM DISABLED VEHICLE', 'SAFE_PEDAL_ACTION'] = 'Unsafe'\n",
    "\n",
    "df.loc[df['PEDPEDAL_ACTION'] == 'UNKNOWN/NA', 'SAFE_PEDAL_ACTION'] = 'Unknown'\n",
    "\n",
    "df.groupby(by=['SAFE_PEDAL_ACTION'])['INJURY_BAD'].mean().sort_values().plot(kind='barh');"
   ]
  },
  {
   "cell_type": "code",
   "execution_count": 17,
   "metadata": {},
   "outputs": [],
   "source": [
    "bf = df.iloc[:,-16:]"
   ]
  },
  {
   "cell_type": "code",
   "execution_count": 18,
   "metadata": {},
   "outputs": [
    {
     "name": "stdout",
     "output_type": "stream",
     "text": [
      "<class 'pandas.core.frame.DataFrame'>\n",
      "RangeIndex: 10238 entries, 0 to 10237\n",
      "Data columns (total 16 columns):\n",
      " #   Column                Non-Null Count  Dtype  \n",
      "---  ------                --------------  -----  \n",
      " 0   INJURY_BAD            10236 non-null  float64\n",
      " 1   HELMET_USED           10104 non-null  object \n",
      " 2   age_bins              10238 non-null  object \n",
      " 3   SAFE_PEDAL_ACTION     10236 non-null  object \n",
      " 4   PROTECTIVE_CLOTHING   10236 non-null  float64\n",
      " 5   SAFE_LOCATION         10236 non-null  object \n",
      " 6   WEATHER_CAT           10238 non-null  object \n",
      " 7   road_surf_bins        10238 non-null  object \n",
      " 8   DAYTIME               10238 non-null  int64  \n",
      " 9   SPEED_RATING          10238 non-null  object \n",
      " 10  UNSAFE_ACTION         10040 non-null  object \n",
      " 11  DRIVER_BLIND          10003 non-null  object \n",
      " 12  cause_bins            5935 non-null   object \n",
      " 13  driver_maneuver_bins  10238 non-null  object \n",
      " 14  physical_bins         10238 non-null  object \n",
      " 15  hour_bins             10238 non-null  object \n",
      "dtypes: float64(2), int64(1), object(13)\n",
      "memory usage: 1.2+ MB\n"
     ]
    }
   ],
   "source": [
    "bf.info(verbose=True,null_counts=True)"
   ]
  },
  {
   "cell_type": "code",
   "execution_count": 23,
   "metadata": {},
   "outputs": [],
   "source": [
    "bf['SEX'] = df['SEX']"
   ]
  },
  {
   "cell_type": "code",
   "execution_count": 24,
   "metadata": {
    "scrolled": true
   },
   "outputs": [
    {
     "name": "stdout",
     "output_type": "stream",
     "text": [
      "<class 'pandas.core.frame.DataFrame'>\n",
      "RangeIndex: 10238 entries, 0 to 10237\n",
      "Data columns (total 17 columns):\n",
      " #   Column                Non-Null Count  Dtype  \n",
      "---  ------                --------------  -----  \n",
      " 0   INJURY_BAD            10236 non-null  float64\n",
      " 1   HELMET_USED           10104 non-null  object \n",
      " 2   age_bins              10238 non-null  object \n",
      " 3   SAFE_PEDAL_ACTION     10236 non-null  object \n",
      " 4   PROTECTIVE_CLOTHING   10236 non-null  float64\n",
      " 5   SAFE_LOCATION         10236 non-null  object \n",
      " 6   WEATHER_CAT           10238 non-null  object \n",
      " 7   road_surf_bins        10238 non-null  object \n",
      " 8   DAYTIME               10238 non-null  int64  \n",
      " 9   SPEED_RATING          10238 non-null  object \n",
      " 10  UNSAFE_ACTION         10040 non-null  object \n",
      " 11  DRIVER_BLIND          10003 non-null  object \n",
      " 12  cause_bins            5935 non-null   object \n",
      " 13  driver_maneuver_bins  10238 non-null  object \n",
      " 14  physical_bins         10238 non-null  object \n",
      " 15  hour_bins             10238 non-null  object \n",
      " 16  SEX                   10094 non-null  object \n",
      "dtypes: float64(2), int64(1), object(14)\n",
      "memory usage: 1.3+ MB\n"
     ]
    }
   ],
   "source": [
    "bf.info(verbose=True,null_counts=True)"
   ]
  },
  {
   "cell_type": "code",
   "execution_count": 34,
   "metadata": {},
   "outputs": [
    {
     "data": {
      "text/plain": [
       "INJURY_BAD                 2\n",
       "HELMET_USED              134\n",
       "age_bins                   0\n",
       "SAFE_PEDAL_ACTION          2\n",
       "PROTECTIVE_CLOTHING        2\n",
       "SAFE_LOCATION              2\n",
       "WEATHER_CAT                0\n",
       "road_surf_bins             0\n",
       "DAYTIME                    0\n",
       "SPEED_RATING               0\n",
       "UNSAFE_ACTION            198\n",
       "DRIVER_BLIND             235\n",
       "cause_bins              4303\n",
       "driver_maneuver_bins       0\n",
       "physical_bins              0\n",
       "hour_bins                  0\n",
       "SEX                      144\n",
       "dtype: int64"
      ]
     },
     "execution_count": 34,
     "metadata": {},
     "output_type": "execute_result"
    }
   ],
   "source": [
    "bf.isna().sum()"
   ]
  },
  {
   "cell_type": "code",
   "execution_count": 37,
   "metadata": {
    "scrolled": true
   },
   "outputs": [],
   "source": [
    "bf = bf.fillna('Unknown')"
   ]
  },
  {
   "cell_type": "code",
   "execution_count": 38,
   "metadata": {
    "scrolled": true
   },
   "outputs": [
    {
     "data": {
      "text/plain": [
       "INJURY_BAD              0\n",
       "HELMET_USED             0\n",
       "age_bins                0\n",
       "SAFE_PEDAL_ACTION       0\n",
       "PROTECTIVE_CLOTHING     0\n",
       "SAFE_LOCATION           0\n",
       "WEATHER_CAT             0\n",
       "road_surf_bins          0\n",
       "DAYTIME                 0\n",
       "SPEED_RATING            0\n",
       "UNSAFE_ACTION           0\n",
       "DRIVER_BLIND            0\n",
       "cause_bins              0\n",
       "driver_maneuver_bins    0\n",
       "physical_bins           0\n",
       "hour_bins               0\n",
       "SEX                     0\n",
       "dtype: int64"
      ]
     },
     "execution_count": 38,
     "metadata": {},
     "output_type": "execute_result"
    }
   ],
   "source": [
    "bf.isna().sum()"
   ]
  },
  {
   "cell_type": "code",
   "execution_count": 42,
   "metadata": {},
   "outputs": [
    {
     "data": {
      "text/plain": [
       "Index(['INJURY_BAD', 'HELMET_USED', 'age_bins', 'SAFE_PEDAL_ACTION',\n",
       "       'PROTECTIVE_CLOTHING', 'SAFE_LOCATION', 'WEATHER_CAT', 'road_surf_bins',\n",
       "       'DAYTIME', 'SPEED_RATING', 'UNSAFE_ACTION', 'DRIVER_BLIND',\n",
       "       'cause_bins', 'driver_maneuver_bins', 'physical_bins', 'hour_bins',\n",
       "       'SEX'],\n",
       "      dtype='object')"
      ]
     },
     "execution_count": 42,
     "metadata": {},
     "output_type": "execute_result"
    }
   ],
   "source": [
    "bf.columns"
   ]
  },
  {
   "cell_type": "code",
   "execution_count": 76,
   "metadata": {},
   "outputs": [
    {
     "data": {
      "text/plain": [
       "0.0    9253\n",
       "1.0     985\n",
       "Name: INJURY_BAD, dtype: int64"
      ]
     },
     "execution_count": 76,
     "metadata": {},
     "output_type": "execute_result"
    }
   ],
   "source": [
    "bf['INJURY_BAD'].value_counts()"
   ]
  },
  {
   "cell_type": "code",
   "execution_count": 46,
   "metadata": {},
   "outputs": [],
   "source": [
    "bf['INJURY_BAD'].replace('Unknown',0,inplace=True)"
   ]
  },
  {
   "cell_type": "code",
   "execution_count": 81,
   "metadata": {},
   "outputs": [
    {
     "data": {
      "text/plain": [
       "0.0    6010\n",
       "1.0    3205\n",
       "100    1023\n",
       "Name: HELMET_USED, dtype: int64"
      ]
     },
     "execution_count": 81,
     "metadata": {},
     "output_type": "execute_result"
    }
   ],
   "source": [
    "bf['HELMET_USED'].value_counts()"
   ]
  },
  {
   "cell_type": "code",
   "execution_count": 49,
   "metadata": {},
   "outputs": [],
   "source": [
    "bf['HELMET_USED'].replace('Unknown',100,inplace=True)"
   ]
  },
  {
   "cell_type": "code",
   "execution_count": 71,
   "metadata": {},
   "outputs": [
    {
     "data": {
      "text/plain": [
       "M          8084\n",
       "F          1944\n",
       "Unknown     144\n",
       "X            66\n",
       "Name: SEX, dtype: int64"
      ]
     },
     "execution_count": 71,
     "metadata": {},
     "output_type": "execute_result"
    }
   ],
   "source": [
    "bf['SEX'].value_counts()"
   ]
  },
  {
   "cell_type": "code",
   "execution_count": 54,
   "metadata": {},
   "outputs": [],
   "source": [
    "bf['PROTECTIVE_CLOTHING'].replace('Unknown',100,inplace=True)"
   ]
  },
  {
   "cell_type": "code",
   "execution_count": 57,
   "metadata": {},
   "outputs": [],
   "source": [
    "bf['SAFE_LOCATION'].replace('Unknown',100,inplace=True)"
   ]
  },
  {
   "cell_type": "code",
   "execution_count": 65,
   "metadata": {},
   "outputs": [],
   "source": [
    "bf['DRIVER_BLIND'].replace('Unknown',100,inplace=True)"
   ]
  },
  {
   "cell_type": "code",
   "execution_count": 74,
   "metadata": {},
   "outputs": [
    {
     "name": "stdout",
     "output_type": "stream",
     "text": [
      "<class 'pandas.core.frame.DataFrame'>\n",
      "RangeIndex: 10238 entries, 0 to 10237\n",
      "Data columns (total 17 columns):\n",
      " #   Column                Non-Null Count  Dtype  \n",
      "---  ------                --------------  -----  \n",
      " 0   INJURY_BAD            10238 non-null  float64\n",
      " 1   HELMET_USED           10238 non-null  object \n",
      " 2   age_bins              10238 non-null  object \n",
      " 3   SAFE_PEDAL_ACTION     10238 non-null  object \n",
      " 4   PROTECTIVE_CLOTHING   10238 non-null  float64\n",
      " 5   SAFE_LOCATION         10238 non-null  object \n",
      " 6   WEATHER_CAT           10238 non-null  object \n",
      " 7   road_surf_bins        10238 non-null  object \n",
      " 8   DAYTIME               10238 non-null  int64  \n",
      " 9   SPEED_RATING          10238 non-null  object \n",
      " 10  UNSAFE_ACTION         10238 non-null  object \n",
      " 11  DRIVER_BLIND          10238 non-null  object \n",
      " 12  cause_bins            10238 non-null  object \n",
      " 13  driver_maneuver_bins  10238 non-null  object \n",
      " 14  physical_bins         10238 non-null  object \n",
      " 15  hour_bins             10238 non-null  object \n",
      " 16  SEX                   10238 non-null  object \n",
      "dtypes: float64(2), int64(1), object(14)\n",
      "memory usage: 1.3+ MB\n"
     ]
    }
   ],
   "source": [
    "bf.info(verbose=True,null_counts=True)"
   ]
  },
  {
   "cell_type": "code",
   "execution_count": 85,
   "metadata": {},
   "outputs": [],
   "source": [
    "bf['INJURY_BAD'] = bf['INJURY_BAD'].astype(float)"
   ]
  },
  {
   "cell_type": "code",
   "execution_count": 84,
   "metadata": {},
   "outputs": [],
   "source": [
    "bf['HELMET_USED'] = bf['HELMET_USED'].astype(float)"
   ]
  },
  {
   "cell_type": "code",
   "execution_count": 88,
   "metadata": {},
   "outputs": [],
   "source": [
    "bf['PROTECTIVE_CLOTHING'] = bf['PROTECTIVE_CLOTHING'].astype(float)"
   ]
  },
  {
   "cell_type": "code",
   "execution_count": 90,
   "metadata": {},
   "outputs": [],
   "source": [
    "bf['SAFE_LOCATION'] = bf['SAFE_LOCATION'].astype(float)"
   ]
  },
  {
   "cell_type": "code",
   "execution_count": 97,
   "metadata": {},
   "outputs": [],
   "source": [
    "bf['DRIVER_BLIND'] = bf['DRIVER_BLIND'].astype(float)"
   ]
  },
  {
   "cell_type": "code",
   "execution_count": 25,
   "metadata": {},
   "outputs": [],
   "source": [
    "from sklearn.model_selection import train_test_split\n",
    "from sklearn.tree import DecisionTreeClassifier"
   ]
  },
  {
   "cell_type": "code",
   "execution_count": 105,
   "metadata": {},
   "outputs": [],
   "source": [
    "y = bf['INJURY_BAD']\n",
    "X = bf.drop('INJURY_BAD',axis=1)\n",
    "\n",
    "X_train,X_test,y_train,y_test = train_test_split(X,y,test_size=0.2,random_state=312)"
   ]
  },
  {
   "cell_type": "code",
   "execution_count": 32,
   "metadata": {},
   "outputs": [],
   "source": [
    "from sklearn.preprocessing import OneHotEncoder"
   ]
  },
  {
   "cell_type": "code",
   "execution_count": 106,
   "metadata": {},
   "outputs": [],
   "source": [
    "ohe = OneHotEncoder()\n",
    "X_encoded = ohe.fit_transform(X_train)"
   ]
  },
  {
   "cell_type": "code",
   "execution_count": 116,
   "metadata": {},
   "outputs": [
    {
     "data": {
      "text/plain": [
       "DecisionTreeClassifier(class_weight='balanced', max_depth=3, random_state=312)"
      ]
     },
     "execution_count": 116,
     "metadata": {},
     "output_type": "execute_result"
    }
   ],
   "source": [
    "dt = DecisionTreeClassifier(max_depth=3,random_state=312,class_weight='balanced')\n",
    "dt.fit(X_encoded,y_train)"
   ]
  },
  {
   "cell_type": "code",
   "execution_count": 118,
   "metadata": {},
   "outputs": [
    {
     "data": {
      "image/png": "[encoded data removed]",
      "text/plain": [
       "<Figure size 1152x864 with 1 Axes>"
      ]
     },
     "metadata": {
      "needs_background": "light"
     },
     "output_type": "display_data"
    }
   ],
   "source": [
    "from sklearn.tree import plot_tree\n",
    "import matplotlib.pyplot as plt\n",
    "\n",
    "plt.figure(figsize=(16, 12))\n",
    "plot_tree(dt, filled=True)\n",
    "plt.show()"
   ]
  },
  {
   "cell_type": "code",
   "execution_count": null,
   "metadata": {},
   "outputs": [],
   "source": [
    "from imblearn.under_sampling import R"
   ]
  }
 ],
 "metadata": {
  "kernelspec": {
   "display_name": "Python (learn-env)",
   "language": "python",
   "name": "learn-env"
  },
  "language_info": {
   "codemirror_mode": {
    "name": "ipython",
    "version": 3
   },
   "file_extension": ".py",
   "mimetype": "text/x-python",
   "name": "python",
   "nbconvert_exporter": "python",
   "pygments_lexer": "ipython3",
   "version": "3.8.5"
  }
 },
 "nbformat": 4,
 "nbformat_minor": 4
}
