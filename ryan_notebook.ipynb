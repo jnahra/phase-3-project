{
 "cells": [
  {
   "cell_type": "markdown",
   "metadata": {},
   "source": [
    "### Pre-Processing"
   ]
  },
  {
   "cell_type": "code",
   "execution_count": 1,
   "metadata": {},
   "outputs": [],
   "source": [
    "### Importing packages for data analysis\n",
    "\n",
    "import numpy as np\n",
    "import pandas as pd\n",
    "import matplotlib.pyplot as plt\n",
    "import seaborn as sns\n",
    "pd.set_option('display.max_rows', None)"
   ]
  },
  {
   "cell_type": "code",
   "execution_count": 2,
   "metadata": {},
   "outputs": [],
   "source": [
    "columns_to_drop = ['HOSPITAL', 'EMS_AGENCY', 'BAC_RESULT VALUE', \n",
    "                   'CELL_PHONE_USE', 'DATE_POLICE_NOTIFIED', 'PHOTOS_TAKEN_I',\n",
    "                  'STATEMENTS_TAKEN_I', 'LATITUDE', 'LONGITUDE', 'LOCATION', 'CMRC_VEH_I', 'MAKE', 'MODEL', 'LIC_PLATE_STATE', \n",
    "                   'VEHICLE_USE', 'TOWED_I', 'FIRE_I',\n",
    "                  'EXCEED_SPEED_LIMIT_I', 'TOWED_BY', 'TOWED_TO', 'AREA_00_I', 'AREA_01_I',\n",
    "                  'AREA_02_I', 'AREA_03_I', 'AREA_04_I', 'AREA_05_I', 'AREA_06_I', 'AREA_07_I',\n",
    "                  'AREA_08_I', 'AREA_09_I', 'AREA_10_I', 'AREA_11_I', 'AREA_12_I', 'AREA_99_I',\n",
    "                  'CMV_ID', 'USDOT_NO', 'CCMC_NO', 'ILCC_NO', 'COMMERCIAL_SRC', 'GVWR', 'CARRIER_NAME',\n",
    "                  'HAZMAT_PRESENT_I', 'HAZMAT_REPORT_I', 'MCS_VIO_CAUSE_CRASH_I', 'TRAILER1_WIDTH',\n",
    "                  'TRAILER1_LENGTH', 'TOTAL_VEHICLE_LENGTH', 'AXLE_CNT', 'VEHICLE_CONFIG', \n",
    "                  'CARGO_BODY_TYPE', 'LOAD_TYPE', 'HAZMAT_OUT_OF_SERVICE_I', 'MCS_OUT_OF_SERVICE_I',\n",
    "                  'HAZMAT_CLASS', 'INJURIES_TOTAL', 'INJURIES_FATAL', 'INJURIES_INCAPACITATING', \n",
    "                   'INJURIES_NON_INCAPACITATING', 'INJURIES_REPORTED_NOT_EVIDENT', 'INJURIES_NO_INDICATION',\n",
    "                  'INJURIES_UNKNOWN', 'CARRIER_STATE', 'CARRIER_CITY', 'MCS_REPORT_I',\n",
    "                  'HAZMAT_VIO_CAUSE_CRASH_I'] \n",
    "\n",
    "df = pd.read_csv('bikers.csv', low_memory=False)\n",
    "df = df.drop(columns = columns_to_drop)"
   ]
  },
  {
   "cell_type": "markdown",
   "metadata": {},
   "source": [
    "### Encoding Categorical Variables"
   ]
  },
  {
   "cell_type": "code",
   "execution_count": 14,
   "metadata": {},
   "outputs": [],
   "source": [
    "### Encoding INJURY CLASSIFICATION (target) as INJURY_BAD binary\n",
    "df.loc[df['INJURY_CLASSIFICATION'] == 'INCAPACITATING INJURY', 'INJURY_BAD'] = 1\n",
    "df.loc[df['INJURY_CLASSIFICATION'] == 'FATAL', 'INJURY_BAD'] = 1\n",
    "df.loc[df['INJURY_CLASSIFICATION'] == 'REPORTED, NOT EVIDENT', 'INJURY_BAD'] = 0\n",
    "df.loc[df['INJURY_CLASSIFICATION'] == 'NO INDICATION OF INJURY', 'INJURY_BAD'] = 0\n",
    "df.loc[df['INJURY_CLASSIFICATION'] == 'NONINCAPACITATING INJURY', 'INJURY_BAD'] = 0\n",
    "\n",
    "\n",
    "### Encoding SAFETY EQUIPMENT (feature) as HELMET USED binary\n",
    "df.loc[df['SAFETY_EQUIPMENT'] == 'HELMET USED', 'HELMET_USED'] = 1\n",
    "df.loc[df['SAFETY_EQUIPMENT'] == 'BICYCLE HELMET (PEDACYCLIST INVOLVED ONLY)', 'HELMET_USED'] = 1\n",
    "df.loc[df['SAFETY_EQUIPMENT'] == 'HELMET NOT USED', 'HELMET_USED'] = 0\n",
    "df.loc[df['SAFETY_EQUIPMENT'] == 'NONE PRESENT', 'HELMET_USED'] = 0\n",
    "\n",
    "### Encoding PEDPEAL VISIBILITY as PROTECTIVE CLOTHING binary\n",
    "df.loc[df['PEDPEDAL_VISIBILITY'] == 'REFLECTIVE MATERIAL', 'PROTECTIVE_CLOTHING'] = 1\n",
    "df.loc[df['PEDPEDAL_VISIBILITY'] == 'OTHER LIGHT SOURCE USED', 'PROTECTIVE_CLOTHING'] = 1\n",
    "df.loc[df['PEDPEDAL_VISIBILITY'] == 'CONTRASTING CLOTHING', 'PROTECTIVE_CLOTHING'] = 1\n",
    "df.loc[df['PEDPEDAL_VISIBILITY'] == 'NO CONTRASTING CLOTHING', 'PROTECTIVE_CLOTHING'] = 0\n",
    "\n",
    "### Encoding POSTED_SPEED_LIMIT as SPEED_RATING w/ ordinal values with 30 as the threshold\n",
    "\n",
    "def speed_rating(row):  \n",
    "    if row['POSTED_SPEED_LIMIT'] < 30:\n",
    "        return 'Below Average Speed'\n",
    "    elif row['POSTED_SPEED_LIMIT'] == 30:\n",
    "        return 'Average Speed'\n",
    "    elif row['POSTED_SPEED_LIMIT'] > 30:\n",
    "        return 'Above Average Speed'\n",
    "    return 'Not Available'\n",
    "\n",
    "df['SPEED_RATING'] = df.apply(lambda row: speed_rating(row), axis=1)\n",
    "\n",
    "### Encoding LIGHTING_CONDITION as binary values (DAYTIME vs. NIGHTTIME)\n",
    "\n",
    "df['DAYTIME'] = 1\n",
    "df.loc[df['LIGHTING_CONDITION'] != 'DAYLIGHT'] = 0\n",
    "\n",
    "### Encoding WEATHER_CONDITION as categorical variables\n",
    "\n",
    "def weather_rating(row):  \n",
    "    if (row['WEATHER_CONDITION'] == 'CLEAR' or row['WEATHER_CONDITION'] == 'CLOUDY/OVERCAST'):\n",
    "        return 'Clear Weather'\n",
    "    elif row['WEATHER_CONDITION'] != 'UNKNOWN':\n",
    "        return 'Adverse Weather'\n",
    "    return 'Not Available'\n",
    "\n",
    "df['WEATHER_CAT'] = df.apply(lambda row: weather_rating(row), axis=1)\n",
    "\n",
    "### Encoding PEDPEDAL_LOCATION as Bike Lane binary\n",
    "\n",
    "def bike_lane(row):  \n",
    "    if (row['PEDPEDAL_LOCATION'] == 'BIKEWAY' or row['PEDPEDAL_LOCATION'] == 'BIKE LANE'):\n",
    "        return 1\n",
    "    return 0\n",
    "\n",
    "df['BIKE_LANE'] = df.apply(lambda row: bike_lane(row), axis=1)\n",
    "\n",
    "\n",
    "\n",
    "### Dropping duplicate variables now that new encoded columns have been used\n",
    "\n"
   ]
  },
  {
   "cell_type": "code",
   "execution_count": null,
   "metadata": {},
   "outputs": [],
   "source": []
  }
 ],
 "metadata": {
  "kernelspec": {
   "display_name": "Python 3",
   "language": "python",
   "name": "python3"
  },
  "language_info": {
   "codemirror_mode": {
    "name": "ipython",
    "version": 3
   },
   "file_extension": ".py",
   "mimetype": "text/x-python",
   "name": "python",
   "nbconvert_exporter": "python",
   "pygments_lexer": "ipython3",
   "version": "3.8.5"
  }
 },
 "nbformat": 4,
 "nbformat_minor": 4
}
