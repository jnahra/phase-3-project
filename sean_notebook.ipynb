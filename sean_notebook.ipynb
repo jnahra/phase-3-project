{
 "cells": [
  {
   "cell_type": "code",
   "execution_count": 2,
   "metadata": {},
   "outputs": [],
   "source": [
    "import pandas as pd"
   ]
  },
  {
   "cell_type": "code",
   "execution_count": 3,
   "metadata": {},
   "outputs": [],
   "source": [
    "df = pd.read_csv(\"bikers.csv\", low_memory=False)"
   ]
  },
  {
   "cell_type": "code",
   "execution_count": 4,
   "metadata": {},
   "outputs": [
    {
     "data": {
      "text/html": [
       "<div>\n",
       "<style scoped>\n",
       "    .dataframe tbody tr th:only-of-type {\n",
       "        vertical-align: middle;\n",
       "    }\n",
       "\n",
       "    .dataframe tbody tr th {\n",
       "        vertical-align: top;\n",
       "    }\n",
       "\n",
       "    .dataframe thead th {\n",
       "        text-align: right;\n",
       "    }\n",
       "</style>\n",
       "<table border=\"1\" class=\"dataframe\">\n",
       "  <thead>\n",
       "    <tr style=\"text-align: right;\">\n",
       "      <th></th>\n",
       "      <th>Unnamed: 0</th>\n",
       "      <th>PERSON_ID</th>\n",
       "      <th>PERSON_TYPE</th>\n",
       "      <th>CRASH_RECORD_ID</th>\n",
       "      <th>RD_NO_x</th>\n",
       "      <th>CRASH_DATE_x</th>\n",
       "      <th>CITY</th>\n",
       "      <th>STATE</th>\n",
       "      <th>ZIPCODE</th>\n",
       "      <th>SEX</th>\n",
       "      <th>...</th>\n",
       "      <th>TRAILER1_WIDTH</th>\n",
       "      <th>TRAILER1_LENGTH</th>\n",
       "      <th>TOTAL_VEHICLE_LENGTH</th>\n",
       "      <th>AXLE_CNT</th>\n",
       "      <th>VEHICLE_CONFIG</th>\n",
       "      <th>CARGO_BODY_TYPE</th>\n",
       "      <th>LOAD_TYPE</th>\n",
       "      <th>HAZMAT_OUT_OF_SERVICE_I</th>\n",
       "      <th>MCS_OUT_OF_SERVICE_I</th>\n",
       "      <th>HAZMAT_CLASS</th>\n",
       "    </tr>\n",
       "  </thead>\n",
       "  <tbody>\n",
       "    <tr>\n",
       "      <th>0</th>\n",
       "      <td>0</td>\n",
       "      <td>O838337</td>\n",
       "      <td>BICYCLE</td>\n",
       "      <td>03204df22743eb4559749b8e3966c471a544228aa0fe9c...</td>\n",
       "      <td>JD144885</td>\n",
       "      <td>02/08/2020 05:04:00 PM</td>\n",
       "      <td>CHICAGO</td>\n",
       "      <td>IL</td>\n",
       "      <td>60628</td>\n",
       "      <td>F</td>\n",
       "      <td>...</td>\n",
       "      <td>NaN</td>\n",
       "      <td>NaN</td>\n",
       "      <td>NaN</td>\n",
       "      <td>NaN</td>\n",
       "      <td>NaN</td>\n",
       "      <td>NaN</td>\n",
       "      <td>NaN</td>\n",
       "      <td>NaN</td>\n",
       "      <td>NaN</td>\n",
       "      <td>NaN</td>\n",
       "    </tr>\n",
       "    <tr>\n",
       "      <th>1</th>\n",
       "      <td>2</td>\n",
       "      <td>O874505</td>\n",
       "      <td>BICYCLE</td>\n",
       "      <td>0d5d0bebc62e6653d10db0187013c73349440dd237356b...</td>\n",
       "      <td>JD214394</td>\n",
       "      <td>04/22/2020 09:32:00 AM</td>\n",
       "      <td>CHICAGO</td>\n",
       "      <td>IL</td>\n",
       "      <td>60632</td>\n",
       "      <td>M</td>\n",
       "      <td>...</td>\n",
       "      <td>NaN</td>\n",
       "      <td>NaN</td>\n",
       "      <td>NaN</td>\n",
       "      <td>NaN</td>\n",
       "      <td>NaN</td>\n",
       "      <td>NaN</td>\n",
       "      <td>NaN</td>\n",
       "      <td>NaN</td>\n",
       "      <td>NaN</td>\n",
       "      <td>NaN</td>\n",
       "    </tr>\n",
       "    <tr>\n",
       "      <th>2</th>\n",
       "      <td>4</td>\n",
       "      <td>O849077</td>\n",
       "      <td>BICYCLE</td>\n",
       "      <td>5a16c6b44a53cc000fa17d7150b714e7b03a0b567ec602...</td>\n",
       "      <td>JD163465</td>\n",
       "      <td>02/23/2020 09:15:00 PM</td>\n",
       "      <td>CHICAGO</td>\n",
       "      <td>IL</td>\n",
       "      <td>60657</td>\n",
       "      <td>M</td>\n",
       "      <td>...</td>\n",
       "      <td>NaN</td>\n",
       "      <td>NaN</td>\n",
       "      <td>NaN</td>\n",
       "      <td>NaN</td>\n",
       "      <td>NaN</td>\n",
       "      <td>NaN</td>\n",
       "      <td>NaN</td>\n",
       "      <td>NaN</td>\n",
       "      <td>NaN</td>\n",
       "      <td>NaN</td>\n",
       "    </tr>\n",
       "    <tr>\n",
       "      <th>3</th>\n",
       "      <td>6</td>\n",
       "      <td>O1305166</td>\n",
       "      <td>BICYCLE</td>\n",
       "      <td>f6530ba62b5c98c25065dae4779f0303b6a201c5735a9c...</td>\n",
       "      <td>JF186366</td>\n",
       "      <td>03/25/2022 03:22:00 PM</td>\n",
       "      <td>EVANSTON</td>\n",
       "      <td>IL</td>\n",
       "      <td>60202</td>\n",
       "      <td>M</td>\n",
       "      <td>...</td>\n",
       "      <td>NaN</td>\n",
       "      <td>NaN</td>\n",
       "      <td>NaN</td>\n",
       "      <td>NaN</td>\n",
       "      <td>NaN</td>\n",
       "      <td>NaN</td>\n",
       "      <td>NaN</td>\n",
       "      <td>NaN</td>\n",
       "      <td>NaN</td>\n",
       "      <td>NaN</td>\n",
       "    </tr>\n",
       "    <tr>\n",
       "      <th>4</th>\n",
       "      <td>8</td>\n",
       "      <td>O1305176</td>\n",
       "      <td>BICYCLE</td>\n",
       "      <td>af832f1ac5d658f789ec5aafbeaa9f8e85f77397f8e8b6...</td>\n",
       "      <td>JF186444</td>\n",
       "      <td>03/25/2022 03:20:00 PM</td>\n",
       "      <td>EVANSTON</td>\n",
       "      <td>IL</td>\n",
       "      <td>60202</td>\n",
       "      <td>M</td>\n",
       "      <td>...</td>\n",
       "      <td>NaN</td>\n",
       "      <td>NaN</td>\n",
       "      <td>NaN</td>\n",
       "      <td>NaN</td>\n",
       "      <td>NaN</td>\n",
       "      <td>NaN</td>\n",
       "      <td>NaN</td>\n",
       "      <td>NaN</td>\n",
       "      <td>NaN</td>\n",
       "      <td>NaN</td>\n",
       "    </tr>\n",
       "  </tbody>\n",
       "</table>\n",
       "<p>5 rows × 135 columns</p>\n",
       "</div>"
      ],
      "text/plain": [
       "   Unnamed: 0 PERSON_ID PERSON_TYPE  \\\n",
       "0           0   O838337     BICYCLE   \n",
       "1           2   O874505     BICYCLE   \n",
       "2           4   O849077     BICYCLE   \n",
       "3           6  O1305166     BICYCLE   \n",
       "4           8  O1305176     BICYCLE   \n",
       "\n",
       "                                     CRASH_RECORD_ID   RD_NO_x  \\\n",
       "0  03204df22743eb4559749b8e3966c471a544228aa0fe9c...  JD144885   \n",
       "1  0d5d0bebc62e6653d10db0187013c73349440dd237356b...  JD214394   \n",
       "2  5a16c6b44a53cc000fa17d7150b714e7b03a0b567ec602...  JD163465   \n",
       "3  f6530ba62b5c98c25065dae4779f0303b6a201c5735a9c...  JF186366   \n",
       "4  af832f1ac5d658f789ec5aafbeaa9f8e85f77397f8e8b6...  JF186444   \n",
       "\n",
       "             CRASH_DATE_x      CITY STATE ZIPCODE SEX  ...  TRAILER1_WIDTH  \\\n",
       "0  02/08/2020 05:04:00 PM   CHICAGO    IL   60628   F  ...             NaN   \n",
       "1  04/22/2020 09:32:00 AM   CHICAGO    IL   60632   M  ...             NaN   \n",
       "2  02/23/2020 09:15:00 PM   CHICAGO    IL   60657   M  ...             NaN   \n",
       "3  03/25/2022 03:22:00 PM  EVANSTON    IL   60202   M  ...             NaN   \n",
       "4  03/25/2022 03:20:00 PM  EVANSTON    IL   60202   M  ...             NaN   \n",
       "\n",
       "  TRAILER1_LENGTH TOTAL_VEHICLE_LENGTH AXLE_CNT VEHICLE_CONFIG  \\\n",
       "0             NaN                  NaN      NaN            NaN   \n",
       "1             NaN                  NaN      NaN            NaN   \n",
       "2             NaN                  NaN      NaN            NaN   \n",
       "3             NaN                  NaN      NaN            NaN   \n",
       "4             NaN                  NaN      NaN            NaN   \n",
       "\n",
       "  CARGO_BODY_TYPE LOAD_TYPE HAZMAT_OUT_OF_SERVICE_I MCS_OUT_OF_SERVICE_I  \\\n",
       "0             NaN       NaN                     NaN                  NaN   \n",
       "1             NaN       NaN                     NaN                  NaN   \n",
       "2             NaN       NaN                     NaN                  NaN   \n",
       "3             NaN       NaN                     NaN                  NaN   \n",
       "4             NaN       NaN                     NaN                  NaN   \n",
       "\n",
       "  HAZMAT_CLASS  \n",
       "0          NaN  \n",
       "1          NaN  \n",
       "2          NaN  \n",
       "3          NaN  \n",
       "4          NaN  \n",
       "\n",
       "[5 rows x 135 columns]"
      ]
     },
     "execution_count": 4,
     "metadata": {},
     "output_type": "execute_result"
    }
   ],
   "source": [
    "df.head()"
   ]
  },
  {
   "cell_type": "code",
   "execution_count": 5,
   "metadata": {
    "scrolled": true
   },
   "outputs": [
    {
     "name": "stdout",
     "output_type": "stream",
     "text": [
      "<class 'pandas.core.frame.DataFrame'>\n",
      "RangeIndex: 10394 entries, 0 to 10393\n",
      "Data columns (total 135 columns):\n",
      " #   Column                         Non-Null Count  Dtype  \n",
      "---  ------                         --------------  -----  \n",
      " 0   Unnamed: 0                     10394 non-null  int64  \n",
      " 1   PERSON_ID                      10394 non-null  object \n",
      " 2   PERSON_TYPE                    10394 non-null  object \n",
      " 3   CRASH_RECORD_ID                10394 non-null  object \n",
      " 4   RD_NO_x                        10371 non-null  object \n",
      " 5   CRASH_DATE_x                   10394 non-null  object \n",
      " 6   CITY                           8934 non-null   object \n",
      " 7   STATE                          8832 non-null   object \n",
      " 8   ZIPCODE                        7421 non-null   object \n",
      " 9   SEX                            10249 non-null  object \n",
      " 10  AGE                            8844 non-null   float64\n",
      " 11  SAFETY_EQUIPMENT               10256 non-null  object \n",
      " 12  EJECTION                       10069 non-null  object \n",
      " 13  INJURY_CLASSIFICATION          10392 non-null  object \n",
      " 14  HOSPITAL                       5251 non-null   object \n",
      " 15  EMS_AGENCY                     4377 non-null   object \n",
      " 16  DRIVER_ACTION                  10191 non-null  object \n",
      " 17  DRIVER_VISION                  10152 non-null  object \n",
      " 18  PHYSICAL_CONDITION             10204 non-null  object \n",
      " 19  PEDPEDAL_ACTION                10392 non-null  object \n",
      " 20  PEDPEDAL_VISIBILITY            10392 non-null  object \n",
      " 21  PEDPEDAL_LOCATION              10392 non-null  object \n",
      " 22  BAC_RESULT                     10036 non-null  object \n",
      " 23  BAC_RESULT VALUE               2 non-null      float64\n",
      " 24  CELL_PHONE_USE                 14 non-null     object \n",
      " 25  RD_NO_y                        10371 non-null  object \n",
      " 26  CRASH_DATE_EST_I               519 non-null    object \n",
      " 27  CRASH_DATE_y                   10394 non-null  object \n",
      " 28  POSTED_SPEED_LIMIT             10394 non-null  int64  \n",
      " 29  TRAFFIC_CONTROL_DEVICE         10394 non-null  object \n",
      " 30  DEVICE_CONDITION               10394 non-null  object \n",
      " 31  WEATHER_CONDITION              10394 non-null  object \n",
      " 32  LIGHTING_CONDITION             10394 non-null  object \n",
      " 33  FIRST_CRASH_TYPE               10394 non-null  object \n",
      " 34  TRAFFICWAY_TYPE                10394 non-null  object \n",
      " 35  LANE_CNT                       2921 non-null   float64\n",
      " 36  ALIGNMENT                      10394 non-null  object \n",
      " 37  ROADWAY_SURFACE_COND           10394 non-null  object \n",
      " 38  ROAD_DEFECT                    10394 non-null  object \n",
      " 39  REPORT_TYPE                    10015 non-null  object \n",
      " 40  CRASH_TYPE                     10394 non-null  object \n",
      " 41  INTERSECTION_RELATED_I         3879 non-null   object \n",
      " 42  NOT_RIGHT_OF_WAY_I             88 non-null     object \n",
      " 43  HIT_AND_RUN_I                  2795 non-null   object \n",
      " 44  DAMAGE                         10394 non-null  object \n",
      " 45  DATE_POLICE_NOTIFIED           10394 non-null  object \n",
      " 46  PRIM_CONTRIBUTORY_CAUSE        10394 non-null  object \n",
      " 47  SEC_CONTRIBUTORY_CAUSE         10394 non-null  object \n",
      " 48  STREET_NO                      10394 non-null  int64  \n",
      " 49  STREET_DIRECTION               10394 non-null  object \n",
      " 50  STREET_NAME                    10394 non-null  object \n",
      " 51  BEAT_OF_OCCURRENCE             10394 non-null  float64\n",
      " 52  PHOTOS_TAKEN_I                 94 non-null     object \n",
      " 53  STATEMENTS_TAKEN_I             340 non-null    object \n",
      " 54  DOORING_I                      1690 non-null   object \n",
      " 55  WORK_ZONE_I                    59 non-null     object \n",
      " 56  WORK_ZONE_TYPE                 41 non-null     object \n",
      " 57  WORKERS_PRESENT_I              14 non-null     object \n",
      " 58  NUM_UNITS                      10394 non-null  int64  \n",
      " 59  MOST_SEVERE_INJURY             10394 non-null  object \n",
      " 60  INJURIES_TOTAL                 10394 non-null  float64\n",
      " 61  INJURIES_FATAL                 10394 non-null  float64\n",
      " 62  INJURIES_INCAPACITATING        10394 non-null  float64\n",
      " 63  INJURIES_NON_INCAPACITATING    10394 non-null  float64\n",
      " 64  INJURIES_REPORTED_NOT_EVIDENT  10394 non-null  float64\n",
      " 65  INJURIES_NO_INDICATION         10394 non-null  float64\n",
      " 66  INJURIES_UNKNOWN               10394 non-null  float64\n",
      " 67  CRASH_HOUR                     10394 non-null  int64  \n",
      " 68  CRASH_DAY_OF_WEEK              10394 non-null  int64  \n",
      " 69  CRASH_MONTH                    10394 non-null  int64  \n",
      " 70  LATITUDE                       10378 non-null  float64\n",
      " 71  LONGITUDE                      10378 non-null  float64\n",
      " 72  LOCATION                       10378 non-null  object \n",
      " 73  CRASH_UNIT_ID                  10394 non-null  int64  \n",
      " 74  RD_NO                          10371 non-null  object \n",
      " 75  CRASH_DATE                     10394 non-null  object \n",
      " 76  UNIT_NO                        10394 non-null  int64  \n",
      " 77  UNIT_TYPE                      10370 non-null  object \n",
      " 78  NUM_PASSENGERS                 1151 non-null   float64\n",
      " 79  VEHICLE_ID_y                   6829 non-null   float64\n",
      " 80  CMRC_VEH_I                     88 non-null     object \n",
      " 81  MAKE                           6829 non-null   object \n",
      " 82  MODEL                          6829 non-null   object \n",
      " 83  LIC_PLATE_STATE                5944 non-null   object \n",
      " 84  VEHICLE_YEAR                   4911 non-null   float64\n",
      " 85  VEHICLE_DEFECT                 6829 non-null   object \n",
      " 86  VEHICLE_TYPE                   6829 non-null   object \n",
      " 87  VEHICLE_USE                    6829 non-null   object \n",
      " 88  TRAVEL_DIRECTION               6829 non-null   object \n",
      " 89  MANEUVER                       6829 non-null   object \n",
      " 90  TOWED_I                        125 non-null    object \n",
      " 91  FIRE_I                         3 non-null      object \n",
      " 92  OCCUPANT_CNT                   6829 non-null   float64\n",
      " 93  EXCEED_SPEED_LIMIT_I           8 non-null      object \n",
      " 94  TOWED_BY                       71 non-null     object \n",
      " 95  TOWED_TO                       54 non-null     object \n",
      " 96  AREA_00_I                      1171 non-null   object \n",
      " 97  AREA_01_I                      1368 non-null   object \n",
      " 98  AREA_02_I                      700 non-null    object \n",
      " 99  AREA_03_I                      542 non-null    object \n",
      " 100 AREA_04_I                      247 non-null    object \n",
      " 101 AREA_05_I                      118 non-null    object \n",
      " 102 AREA_06_I                      81 non-null     object \n",
      " 103 AREA_07_I                      379 non-null    object \n",
      " 104 AREA_08_I                      353 non-null    object \n",
      " 105 AREA_09_I                      344 non-null    object \n",
      " 106 AREA_10_I                      285 non-null    object \n",
      " 107 AREA_11_I                      589 non-null    object \n",
      " 108 AREA_12_I                      990 non-null    object \n",
      " 109 AREA_99_I                      1567 non-null   object \n",
      " 110 FIRST_CONTACT_POINT            6762 non-null   object \n",
      " 111 CMV_ID                         30 non-null     float64\n",
      " 112 USDOT_NO                       13 non-null     object \n",
      " 113 CCMC_NO                        6 non-null      object \n",
      " 114 ILCC_NO                        6 non-null      object \n",
      " 115 COMMERCIAL_SRC                 18 non-null     object \n",
      " 116 GVWR                           16 non-null     float64\n",
      " 117 CARRIER_NAME                   28 non-null     object \n",
      " 118 CARRIER_STATE                  25 non-null     object \n",
      " 119 CARRIER_CITY                   25 non-null     object \n",
      " 120 HAZMAT_PRESENT_I               22 non-null     object \n",
      " 121 HAZMAT_REPORT_I                22 non-null     object \n",
      " 122 MCS_REPORT_I                   21 non-null     object \n",
      " 123 HAZMAT_VIO_CAUSE_CRASH_I       22 non-null     object \n",
      " 124 MCS_VIO_CAUSE_CRASH_I          21 non-null     object \n",
      " 125 TRAILER1_WIDTH                 2 non-null      object \n",
      " 126 TRAILER1_LENGTH                2 non-null      float64\n",
      " 127 TOTAL_VEHICLE_LENGTH           5 non-null      float64\n",
      " 128 AXLE_CNT                       7 non-null      float64\n",
      " 129 VEHICLE_CONFIG                 24 non-null     object \n",
      " 130 CARGO_BODY_TYPE                22 non-null     object \n",
      " 131 LOAD_TYPE                      22 non-null     object \n",
      " 132 HAZMAT_OUT_OF_SERVICE_I        21 non-null     object \n",
      " 133 MCS_OUT_OF_SERVICE_I           21 non-null     object \n",
      " 134 HAZMAT_CLASS                   1 non-null      object \n",
      "dtypes: float64(22), int64(9), object(104)\n",
      "memory usage: 10.7+ MB\n"
     ]
    }
   ],
   "source": [
    "df.info(verbose=True, null_counts=True)"
   ]
  },
  {
   "cell_type": "markdown",
   "metadata": {},
   "source": [
    "## DROP EM"
   ]
  },
  {
   "cell_type": "code",
   "execution_count": 6,
   "metadata": {},
   "outputs": [],
   "source": [
    "df = df.drop(['HOSPITAL', 'EMS_AGENCY', 'BAC_RESULT VALUE','CELL_PHONE_USE', 'DATE_POLICE_NOTIFIED', 'PHOTOS_TAKEN_I','STATEMENTS_TAKEN_I', 'LATITUDE', 'LONGITUDE', 'LOCATION', 'CMRC_VEH_I', 'MAKE', 'MODEL', 'LIC_PLATE_STATE', 'VEHICLE_USE', 'TOWED_I', 'FIRE_I','EXCEED_SPEED_LIMIT_I', 'TOWED_BY', 'TOWED_TO', 'AREA_00_I', 'AREA_01_I','AREA_02_I', 'AREA_03_I', 'AREA_04_I', 'AREA_05_I', 'AREA_06_I', 'AREA_07_I','AREA_08_I', 'AREA_09_I', 'AREA_10_I', 'AREA_11_I', 'AREA_12_I', 'AREA_99_I','CMV_ID', 'USDOT_NO', 'CCMC_NO', 'ILCC_NO', 'COMMERCIAL_SRC', 'GVWR', 'CARRIER_NAME','HAZMAT_PRESENT_I', 'HAZMAT_REPORT_I', 'MCS_VIO_CAUSE_CRASH_I', 'TRAILER1_WIDTH','TRAILER1_LENGTH', 'TOTAL_VEHICLE_LENGTH', 'AXLE_CNT', 'VEHICLE_CONFIG','CARGO_BODY_TYPE', 'LOAD_TYPE', 'HAZMAT_OUT_OF_SERVICE_I', 'MCS_OUT_OF_SERVICE_I','HAZMAT_CLASS', 'INJURIES_TOTAL', 'INJURIES_FATAL', 'INJURIES_INCAPACITATING','INJURIES_NON_INCAPACITATING', 'INJURIES_REPORTED_NOT_EVIDENT', 'INJURIES_NO_INDICATION','INJURIES_UNKNOWN', 'CARRIER_STATE', 'CARRIER_CITY', 'MCS_REPORT_I','HAZMAT_VIO_CAUSE_CRASH_I'] ,axis=1)\n",
    "\n"
   ]
  },
  {
   "cell_type": "code",
   "execution_count": 7,
   "metadata": {
    "scrolled": true
   },
   "outputs": [
    {
     "name": "stdout",
     "output_type": "stream",
     "text": [
      "<class 'pandas.core.frame.DataFrame'>\n",
      "RangeIndex: 10394 entries, 0 to 10393\n",
      "Data columns (total 70 columns):\n",
      " #   Column                   Non-Null Count  Dtype  \n",
      "---  ------                   --------------  -----  \n",
      " 0   Unnamed: 0               10394 non-null  int64  \n",
      " 1   PERSON_ID                10394 non-null  object \n",
      " 2   PERSON_TYPE              10394 non-null  object \n",
      " 3   CRASH_RECORD_ID          10394 non-null  object \n",
      " 4   RD_NO_x                  10371 non-null  object \n",
      " 5   CRASH_DATE_x             10394 non-null  object \n",
      " 6   CITY                     8934 non-null   object \n",
      " 7   STATE                    8832 non-null   object \n",
      " 8   ZIPCODE                  7421 non-null   object \n",
      " 9   SEX                      10249 non-null  object \n",
      " 10  AGE                      8844 non-null   float64\n",
      " 11  SAFETY_EQUIPMENT         10256 non-null  object \n",
      " 12  EJECTION                 10069 non-null  object \n",
      " 13  INJURY_CLASSIFICATION    10392 non-null  object \n",
      " 14  DRIVER_ACTION            10191 non-null  object \n",
      " 15  DRIVER_VISION            10152 non-null  object \n",
      " 16  PHYSICAL_CONDITION       10204 non-null  object \n",
      " 17  PEDPEDAL_ACTION          10392 non-null  object \n",
      " 18  PEDPEDAL_VISIBILITY      10392 non-null  object \n",
      " 19  PEDPEDAL_LOCATION        10392 non-null  object \n",
      " 20  BAC_RESULT               10036 non-null  object \n",
      " 21  RD_NO_y                  10371 non-null  object \n",
      " 22  CRASH_DATE_EST_I         519 non-null    object \n",
      " 23  CRASH_DATE_y             10394 non-null  object \n",
      " 24  POSTED_SPEED_LIMIT       10394 non-null  int64  \n",
      " 25  TRAFFIC_CONTROL_DEVICE   10394 non-null  object \n",
      " 26  DEVICE_CONDITION         10394 non-null  object \n",
      " 27  WEATHER_CONDITION        10394 non-null  object \n",
      " 28  LIGHTING_CONDITION       10394 non-null  object \n",
      " 29  FIRST_CRASH_TYPE         10394 non-null  object \n",
      " 30  TRAFFICWAY_TYPE          10394 non-null  object \n",
      " 31  LANE_CNT                 2921 non-null   float64\n",
      " 32  ALIGNMENT                10394 non-null  object \n",
      " 33  ROADWAY_SURFACE_COND     10394 non-null  object \n",
      " 34  ROAD_DEFECT              10394 non-null  object \n",
      " 35  REPORT_TYPE              10015 non-null  object \n",
      " 36  CRASH_TYPE               10394 non-null  object \n",
      " 37  INTERSECTION_RELATED_I   3879 non-null   object \n",
      " 38  NOT_RIGHT_OF_WAY_I       88 non-null     object \n",
      " 39  HIT_AND_RUN_I            2795 non-null   object \n",
      " 40  DAMAGE                   10394 non-null  object \n",
      " 41  PRIM_CONTRIBUTORY_CAUSE  10394 non-null  object \n",
      " 42  SEC_CONTRIBUTORY_CAUSE   10394 non-null  object \n",
      " 43  STREET_NO                10394 non-null  int64  \n",
      " 44  STREET_DIRECTION         10394 non-null  object \n",
      " 45  STREET_NAME              10394 non-null  object \n",
      " 46  BEAT_OF_OCCURRENCE       10394 non-null  float64\n",
      " 47  DOORING_I                1690 non-null   object \n",
      " 48  WORK_ZONE_I              59 non-null     object \n",
      " 49  WORK_ZONE_TYPE           41 non-null     object \n",
      " 50  WORKERS_PRESENT_I        14 non-null     object \n",
      " 51  NUM_UNITS                10394 non-null  int64  \n",
      " 52  MOST_SEVERE_INJURY       10394 non-null  object \n",
      " 53  CRASH_HOUR               10394 non-null  int64  \n",
      " 54  CRASH_DAY_OF_WEEK        10394 non-null  int64  \n",
      " 55  CRASH_MONTH              10394 non-null  int64  \n",
      " 56  CRASH_UNIT_ID            10394 non-null  int64  \n",
      " 57  RD_NO                    10371 non-null  object \n",
      " 58  CRASH_DATE               10394 non-null  object \n",
      " 59  UNIT_NO                  10394 non-null  int64  \n",
      " 60  UNIT_TYPE                10370 non-null  object \n",
      " 61  NUM_PASSENGERS           1151 non-null   float64\n",
      " 62  VEHICLE_ID_y             6829 non-null   float64\n",
      " 63  VEHICLE_YEAR             4911 non-null   float64\n",
      " 64  VEHICLE_DEFECT           6829 non-null   object \n",
      " 65  VEHICLE_TYPE             6829 non-null   object \n",
      " 66  TRAVEL_DIRECTION         6829 non-null   object \n",
      " 67  MANEUVER                 6829 non-null   object \n",
      " 68  OCCUPANT_CNT             6829 non-null   float64\n",
      " 69  FIRST_CONTACT_POINT      6762 non-null   object \n",
      "dtypes: float64(7), int64(9), object(54)\n",
      "memory usage: 5.6+ MB\n"
     ]
    }
   ],
   "source": [
    "df.info(verbose=True, null_counts=True)"
   ]
  },
  {
   "cell_type": "code",
   "execution_count": 8,
   "metadata": {
    "scrolled": true
   },
   "outputs": [
    {
     "data": {
      "text/plain": [
       "HELMET NOT USED                               4792\n",
       "BICYCLE HELMET (PEDACYCLIST INVOLVED ONLY)    2415\n",
       "NONE PRESENT                                  1305\n",
       "USAGE UNKNOWN                                  869\n",
       "HELMET USED                                    831\n",
       "SAFETY BELT USED                                27\n",
       "SAFETY BELT NOT USED                            17\n",
       "Name: SAFETY_EQUIPMENT, dtype: int64"
      ]
     },
     "execution_count": 8,
     "metadata": {},
     "output_type": "execute_result"
    }
   ],
   "source": [
    "df['SAFETY_EQUIPMENT'].value_counts()"
   ]
  },
  {
   "cell_type": "code",
   "execution_count": 9,
   "metadata": {
    "scrolled": true
   },
   "outputs": [
    {
     "data": {
      "text/html": [
       "<div>\n",
       "<style scoped>\n",
       "    .dataframe tbody tr th:only-of-type {\n",
       "        vertical-align: middle;\n",
       "    }\n",
       "\n",
       "    .dataframe tbody tr th {\n",
       "        vertical-align: top;\n",
       "    }\n",
       "\n",
       "    .dataframe thead th {\n",
       "        text-align: right;\n",
       "    }\n",
       "</style>\n",
       "<table border=\"1\" class=\"dataframe\">\n",
       "  <thead>\n",
       "    <tr style=\"text-align: right;\">\n",
       "      <th></th>\n",
       "      <th>Unnamed: 0</th>\n",
       "      <th>PERSON_ID</th>\n",
       "      <th>PERSON_TYPE</th>\n",
       "      <th>CRASH_RECORD_ID</th>\n",
       "      <th>RD_NO_x</th>\n",
       "      <th>CRASH_DATE_x</th>\n",
       "      <th>CITY</th>\n",
       "      <th>STATE</th>\n",
       "      <th>ZIPCODE</th>\n",
       "      <th>SEX</th>\n",
       "      <th>...</th>\n",
       "      <th>UNIT_TYPE</th>\n",
       "      <th>NUM_PASSENGERS</th>\n",
       "      <th>VEHICLE_ID_y</th>\n",
       "      <th>VEHICLE_YEAR</th>\n",
       "      <th>VEHICLE_DEFECT</th>\n",
       "      <th>VEHICLE_TYPE</th>\n",
       "      <th>TRAVEL_DIRECTION</th>\n",
       "      <th>MANEUVER</th>\n",
       "      <th>OCCUPANT_CNT</th>\n",
       "      <th>FIRST_CONTACT_POINT</th>\n",
       "    </tr>\n",
       "  </thead>\n",
       "  <tbody>\n",
       "    <tr>\n",
       "      <th>0</th>\n",
       "      <td>0</td>\n",
       "      <td>O838337</td>\n",
       "      <td>BICYCLE</td>\n",
       "      <td>03204df22743eb4559749b8e3966c471a544228aa0fe9c...</td>\n",
       "      <td>JD144885</td>\n",
       "      <td>02/08/2020 05:04:00 PM</td>\n",
       "      <td>CHICAGO</td>\n",
       "      <td>IL</td>\n",
       "      <td>60628</td>\n",
       "      <td>F</td>\n",
       "      <td>...</td>\n",
       "      <td>DRIVER</td>\n",
       "      <td>NaN</td>\n",
       "      <td>795558.0</td>\n",
       "      <td>2002.0</td>\n",
       "      <td>NONE</td>\n",
       "      <td>VAN/MINI-VAN</td>\n",
       "      <td>S</td>\n",
       "      <td>TURNING LEFT</td>\n",
       "      <td>1.0</td>\n",
       "      <td>OTHER</td>\n",
       "    </tr>\n",
       "    <tr>\n",
       "      <th>1</th>\n",
       "      <td>2</td>\n",
       "      <td>O874505</td>\n",
       "      <td>BICYCLE</td>\n",
       "      <td>0d5d0bebc62e6653d10db0187013c73349440dd237356b...</td>\n",
       "      <td>JD214394</td>\n",
       "      <td>04/22/2020 09:32:00 AM</td>\n",
       "      <td>CHICAGO</td>\n",
       "      <td>IL</td>\n",
       "      <td>60632</td>\n",
       "      <td>M</td>\n",
       "      <td>...</td>\n",
       "      <td>DRIVER</td>\n",
       "      <td>1.0</td>\n",
       "      <td>829665.0</td>\n",
       "      <td>2008.0</td>\n",
       "      <td>NONE</td>\n",
       "      <td>SPORT UTILITY VEHICLE (SUV)</td>\n",
       "      <td>SW</td>\n",
       "      <td>TURNING RIGHT</td>\n",
       "      <td>2.0</td>\n",
       "      <td>TOTAL (ALL AREAS)</td>\n",
       "    </tr>\n",
       "    <tr>\n",
       "      <th>4</th>\n",
       "      <td>8</td>\n",
       "      <td>O1305176</td>\n",
       "      <td>BICYCLE</td>\n",
       "      <td>af832f1ac5d658f789ec5aafbeaa9f8e85f77397f8e8b6...</td>\n",
       "      <td>JF186444</td>\n",
       "      <td>03/25/2022 03:20:00 PM</td>\n",
       "      <td>EVANSTON</td>\n",
       "      <td>IL</td>\n",
       "      <td>60202</td>\n",
       "      <td>M</td>\n",
       "      <td>...</td>\n",
       "      <td>DRIVER</td>\n",
       "      <td>NaN</td>\n",
       "      <td>1239512.0</td>\n",
       "      <td>2018.0</td>\n",
       "      <td>UNKNOWN</td>\n",
       "      <td>PASSENGER</td>\n",
       "      <td>N</td>\n",
       "      <td>OTHER</td>\n",
       "      <td>1.0</td>\n",
       "      <td>ROOF</td>\n",
       "    </tr>\n",
       "    <tr>\n",
       "      <th>5</th>\n",
       "      <td>10</td>\n",
       "      <td>O840081</td>\n",
       "      <td>BICYCLE</td>\n",
       "      <td>fa17dd4143f4be2cb5971bc18db7f6ab284005f2430281...</td>\n",
       "      <td>JD148153</td>\n",
       "      <td>02/10/2020 05:00:00 PM</td>\n",
       "      <td>CHCIAGO</td>\n",
       "      <td>IL</td>\n",
       "      <td>60641</td>\n",
       "      <td>M</td>\n",
       "      <td>...</td>\n",
       "      <td>DRIVER</td>\n",
       "      <td>NaN</td>\n",
       "      <td>797231.0</td>\n",
       "      <td>2020.0</td>\n",
       "      <td>UNKNOWN</td>\n",
       "      <td>UNKNOWN/NA</td>\n",
       "      <td>N</td>\n",
       "      <td>STRAIGHT AHEAD</td>\n",
       "      <td>1.0</td>\n",
       "      <td>TOTAL (ALL AREAS)</td>\n",
       "    </tr>\n",
       "    <tr>\n",
       "      <th>7</th>\n",
       "      <td>14</td>\n",
       "      <td>O1306899</td>\n",
       "      <td>BICYCLE</td>\n",
       "      <td>839411bc45c294ee67415ba0b80064859239709a4d0b7b...</td>\n",
       "      <td>JF186513</td>\n",
       "      <td>03/25/2022 05:30:00 PM</td>\n",
       "      <td>CHICAGO</td>\n",
       "      <td>IL</td>\n",
       "      <td>60657</td>\n",
       "      <td>F</td>\n",
       "      <td>...</td>\n",
       "      <td>BICYCLE</td>\n",
       "      <td>NaN</td>\n",
       "      <td>NaN</td>\n",
       "      <td>NaN</td>\n",
       "      <td>NaN</td>\n",
       "      <td>NaN</td>\n",
       "      <td>NaN</td>\n",
       "      <td>NaN</td>\n",
       "      <td>NaN</td>\n",
       "      <td>NaN</td>\n",
       "    </tr>\n",
       "    <tr>\n",
       "      <th>...</th>\n",
       "      <td>...</td>\n",
       "      <td>...</td>\n",
       "      <td>...</td>\n",
       "      <td>...</td>\n",
       "      <td>...</td>\n",
       "      <td>...</td>\n",
       "      <td>...</td>\n",
       "      <td>...</td>\n",
       "      <td>...</td>\n",
       "      <td>...</td>\n",
       "      <td>...</td>\n",
       "      <td>...</td>\n",
       "      <td>...</td>\n",
       "      <td>...</td>\n",
       "      <td>...</td>\n",
       "      <td>...</td>\n",
       "      <td>...</td>\n",
       "      <td>...</td>\n",
       "      <td>...</td>\n",
       "      <td>...</td>\n",
       "      <td>...</td>\n",
       "    </tr>\n",
       "    <tr>\n",
       "      <th>10385</th>\n",
       "      <td>21591</td>\n",
       "      <td>O1526805</td>\n",
       "      <td>BICYCLE</td>\n",
       "      <td>fa52c081055aabfb54c482e1a7781f8ee42096e159eea7...</td>\n",
       "      <td>NaN</td>\n",
       "      <td>02/28/2023 06:20:00 PM</td>\n",
       "      <td>CHICAGO</td>\n",
       "      <td>IL</td>\n",
       "      <td>60637</td>\n",
       "      <td>M</td>\n",
       "      <td>...</td>\n",
       "      <td>DRIVER</td>\n",
       "      <td>NaN</td>\n",
       "      <td>1451779.0</td>\n",
       "      <td>2015.0</td>\n",
       "      <td>NONE</td>\n",
       "      <td>PASSENGER</td>\n",
       "      <td>N</td>\n",
       "      <td>TURNING LEFT</td>\n",
       "      <td>1.0</td>\n",
       "      <td>ROOF</td>\n",
       "    </tr>\n",
       "    <tr>\n",
       "      <th>10386</th>\n",
       "      <td>21593</td>\n",
       "      <td>O1521161</td>\n",
       "      <td>BICYCLE</td>\n",
       "      <td>a37ed39e0b8b9bc6f2c0e3f25ce9b73c62cd87a26ae935...</td>\n",
       "      <td>JF501025</td>\n",
       "      <td>12/07/2022 07:10:00 AM</td>\n",
       "      <td>CHICAGO</td>\n",
       "      <td>IL</td>\n",
       "      <td>60610</td>\n",
       "      <td>M</td>\n",
       "      <td>...</td>\n",
       "      <td>BICYCLE</td>\n",
       "      <td>NaN</td>\n",
       "      <td>NaN</td>\n",
       "      <td>NaN</td>\n",
       "      <td>NaN</td>\n",
       "      <td>NaN</td>\n",
       "      <td>NaN</td>\n",
       "      <td>NaN</td>\n",
       "      <td>NaN</td>\n",
       "      <td>NaN</td>\n",
       "    </tr>\n",
       "    <tr>\n",
       "      <th>10387</th>\n",
       "      <td>21595</td>\n",
       "      <td>O1527141</td>\n",
       "      <td>BICYCLE</td>\n",
       "      <td>b73a5a4cea14d09feea950c34fd0c9bc5d33e99955bfb2...</td>\n",
       "      <td>NaN</td>\n",
       "      <td>02/27/2023 05:15:00 PM</td>\n",
       "      <td>NaN</td>\n",
       "      <td>NaN</td>\n",
       "      <td>NaN</td>\n",
       "      <td>M</td>\n",
       "      <td>...</td>\n",
       "      <td>BICYCLE</td>\n",
       "      <td>NaN</td>\n",
       "      <td>NaN</td>\n",
       "      <td>NaN</td>\n",
       "      <td>NaN</td>\n",
       "      <td>NaN</td>\n",
       "      <td>NaN</td>\n",
       "      <td>NaN</td>\n",
       "      <td>NaN</td>\n",
       "      <td>NaN</td>\n",
       "    </tr>\n",
       "    <tr>\n",
       "      <th>10388</th>\n",
       "      <td>21597</td>\n",
       "      <td>O1527331</td>\n",
       "      <td>BICYCLE</td>\n",
       "      <td>9dc207cecf809ca42b02cd5b95d7bdfadda9ca3d1976c9...</td>\n",
       "      <td>NaN</td>\n",
       "      <td>03/01/2023 02:35:00 PM</td>\n",
       "      <td>CHICAGO</td>\n",
       "      <td>IL</td>\n",
       "      <td>60659</td>\n",
       "      <td>M</td>\n",
       "      <td>...</td>\n",
       "      <td>BICYCLE</td>\n",
       "      <td>NaN</td>\n",
       "      <td>NaN</td>\n",
       "      <td>NaN</td>\n",
       "      <td>NaN</td>\n",
       "      <td>NaN</td>\n",
       "      <td>NaN</td>\n",
       "      <td>NaN</td>\n",
       "      <td>NaN</td>\n",
       "      <td>NaN</td>\n",
       "    </tr>\n",
       "    <tr>\n",
       "      <th>10393</th>\n",
       "      <td>21607</td>\n",
       "      <td>O1527949</td>\n",
       "      <td>BICYCLE</td>\n",
       "      <td>84b1dce035d003fa89f75009619f1ed14c388ef5f616d2...</td>\n",
       "      <td>NaN</td>\n",
       "      <td>03/02/2023 05:16:00 PM</td>\n",
       "      <td>YORKVILLE</td>\n",
       "      <td>IL</td>\n",
       "      <td>60560</td>\n",
       "      <td>M</td>\n",
       "      <td>...</td>\n",
       "      <td>DRIVER</td>\n",
       "      <td>NaN</td>\n",
       "      <td>1452878.0</td>\n",
       "      <td>NaN</td>\n",
       "      <td>UNKNOWN</td>\n",
       "      <td>PASSENGER</td>\n",
       "      <td>W</td>\n",
       "      <td>UNKNOWN/NA</td>\n",
       "      <td>1.0</td>\n",
       "      <td>FRONT</td>\n",
       "    </tr>\n",
       "  </tbody>\n",
       "</table>\n",
       "<p>5623 rows × 70 columns</p>\n",
       "</div>"
      ],
      "text/plain": [
       "       Unnamed: 0 PERSON_ID PERSON_TYPE  \\\n",
       "0               0   O838337     BICYCLE   \n",
       "1               2   O874505     BICYCLE   \n",
       "4               8  O1305176     BICYCLE   \n",
       "5              10   O840081     BICYCLE   \n",
       "7              14  O1306899     BICYCLE   \n",
       "...           ...       ...         ...   \n",
       "10385       21591  O1526805     BICYCLE   \n",
       "10386       21593  O1521161     BICYCLE   \n",
       "10387       21595  O1527141     BICYCLE   \n",
       "10388       21597  O1527331     BICYCLE   \n",
       "10393       21607  O1527949     BICYCLE   \n",
       "\n",
       "                                         CRASH_RECORD_ID   RD_NO_x  \\\n",
       "0      03204df22743eb4559749b8e3966c471a544228aa0fe9c...  JD144885   \n",
       "1      0d5d0bebc62e6653d10db0187013c73349440dd237356b...  JD214394   \n",
       "4      af832f1ac5d658f789ec5aafbeaa9f8e85f77397f8e8b6...  JF186444   \n",
       "5      fa17dd4143f4be2cb5971bc18db7f6ab284005f2430281...  JD148153   \n",
       "7      839411bc45c294ee67415ba0b80064859239709a4d0b7b...  JF186513   \n",
       "...                                                  ...       ...   \n",
       "10385  fa52c081055aabfb54c482e1a7781f8ee42096e159eea7...       NaN   \n",
       "10386  a37ed39e0b8b9bc6f2c0e3f25ce9b73c62cd87a26ae935...  JF501025   \n",
       "10387  b73a5a4cea14d09feea950c34fd0c9bc5d33e99955bfb2...       NaN   \n",
       "10388  9dc207cecf809ca42b02cd5b95d7bdfadda9ca3d1976c9...       NaN   \n",
       "10393  84b1dce035d003fa89f75009619f1ed14c388ef5f616d2...       NaN   \n",
       "\n",
       "                 CRASH_DATE_x       CITY STATE ZIPCODE SEX  ...  UNIT_TYPE  \\\n",
       "0      02/08/2020 05:04:00 PM    CHICAGO    IL   60628   F  ...     DRIVER   \n",
       "1      04/22/2020 09:32:00 AM    CHICAGO    IL   60632   M  ...     DRIVER   \n",
       "4      03/25/2022 03:20:00 PM   EVANSTON    IL   60202   M  ...     DRIVER   \n",
       "5      02/10/2020 05:00:00 PM    CHCIAGO    IL   60641   M  ...     DRIVER   \n",
       "7      03/25/2022 05:30:00 PM    CHICAGO    IL   60657   F  ...    BICYCLE   \n",
       "...                       ...        ...   ...     ...  ..  ...        ...   \n",
       "10385  02/28/2023 06:20:00 PM    CHICAGO    IL   60637   M  ...     DRIVER   \n",
       "10386  12/07/2022 07:10:00 AM    CHICAGO    IL   60610   M  ...    BICYCLE   \n",
       "10387  02/27/2023 05:15:00 PM        NaN   NaN     NaN   M  ...    BICYCLE   \n",
       "10388  03/01/2023 02:35:00 PM    CHICAGO    IL   60659   M  ...    BICYCLE   \n",
       "10393  03/02/2023 05:16:00 PM  YORKVILLE    IL   60560   M  ...     DRIVER   \n",
       "\n",
       "      NUM_PASSENGERS VEHICLE_ID_y VEHICLE_YEAR VEHICLE_DEFECT  \\\n",
       "0                NaN     795558.0       2002.0           NONE   \n",
       "1                1.0     829665.0       2008.0           NONE   \n",
       "4                NaN    1239512.0       2018.0        UNKNOWN   \n",
       "5                NaN     797231.0       2020.0        UNKNOWN   \n",
       "7                NaN          NaN          NaN            NaN   \n",
       "...              ...          ...          ...            ...   \n",
       "10385            NaN    1451779.0       2015.0           NONE   \n",
       "10386            NaN          NaN          NaN            NaN   \n",
       "10387            NaN          NaN          NaN            NaN   \n",
       "10388            NaN          NaN          NaN            NaN   \n",
       "10393            NaN    1452878.0          NaN        UNKNOWN   \n",
       "\n",
       "                      VEHICLE_TYPE TRAVEL_DIRECTION        MANEUVER  \\\n",
       "0                     VAN/MINI-VAN                S    TURNING LEFT   \n",
       "1      SPORT UTILITY VEHICLE (SUV)               SW   TURNING RIGHT   \n",
       "4                        PASSENGER                N           OTHER   \n",
       "5                       UNKNOWN/NA                N  STRAIGHT AHEAD   \n",
       "7                              NaN              NaN             NaN   \n",
       "...                            ...              ...             ...   \n",
       "10385                    PASSENGER                N    TURNING LEFT   \n",
       "10386                          NaN              NaN             NaN   \n",
       "10387                          NaN              NaN             NaN   \n",
       "10388                          NaN              NaN             NaN   \n",
       "10393                    PASSENGER                W      UNKNOWN/NA   \n",
       "\n",
       "      OCCUPANT_CNT FIRST_CONTACT_POINT  \n",
       "0              1.0               OTHER  \n",
       "1              2.0   TOTAL (ALL AREAS)  \n",
       "4              1.0                ROOF  \n",
       "5              1.0   TOTAL (ALL AREAS)  \n",
       "7              NaN                 NaN  \n",
       "...            ...                 ...  \n",
       "10385          1.0                ROOF  \n",
       "10386          NaN                 NaN  \n",
       "10387          NaN                 NaN  \n",
       "10388          NaN                 NaN  \n",
       "10393          1.0               FRONT  \n",
       "\n",
       "[5623 rows x 70 columns]"
      ]
     },
     "execution_count": 9,
     "metadata": {},
     "output_type": "execute_result"
    }
   ],
   "source": [
    "df.loc[(df['SAFETY_EQUIPMENT'] == 'HELMET USED') | (df['SAFETY_EQUIPMENT'] == 'HELMET NOT USED')]\n"
   ]
  },
  {
   "cell_type": "markdown",
   "metadata": {},
   "source": [
    "## SAFETY_EQUIPMENT BINNING"
   ]
  },
  {
   "cell_type": "code",
   "execution_count": 10,
   "metadata": {
    "scrolled": true
   },
   "outputs": [
    {
     "data": {
      "text/plain": [
       "HELMET NOT USED                               4792\n",
       "BICYCLE HELMET (PEDACYCLIST INVOLVED ONLY)    2415\n",
       "NONE PRESENT                                  1305\n",
       "USAGE UNKNOWN                                  869\n",
       "HELMET USED                                    831\n",
       "SAFETY BELT USED                                27\n",
       "SAFETY BELT NOT USED                            17\n",
       "Name: SAFETY_EQUIPMENT, dtype: int64"
      ]
     },
     "execution_count": 10,
     "metadata": {},
     "output_type": "execute_result"
    }
   ],
   "source": [
    "df['SAFETY_EQUIPMENT'].value_counts()"
   ]
  },
  {
   "cell_type": "code",
   "execution_count": 11,
   "metadata": {},
   "outputs": [
    {
     "data": {
      "text/plain": [
       "10256"
      ]
     },
     "execution_count": 11,
     "metadata": {},
     "output_type": "execute_result"
    }
   ],
   "source": [
    "df['SAFETY_EQUIPMENT'].value_counts().sum()"
   ]
  },
  {
   "cell_type": "markdown",
   "metadata": {},
   "source": [
    "Creation of new columns of HELMET_USED and BELT_USED"
   ]
  },
  {
   "cell_type": "code",
   "execution_count": 12,
   "metadata": {},
   "outputs": [],
   "source": [
    "df.loc[df['SAFETY_EQUIPMENT'] == 'HELMET USED', 'HELMET_USED'] = 1\n",
    "df.loc[df['SAFETY_EQUIPMENT'] == 'BICYCLE HELMET (PEDACYCLIST INVOLVED ONLY)', 'HELMET_USED'] = 1\n",
    "\n",
    "df.loc[df['SAFETY_EQUIPMENT'] == 'HELMET NOT USED', 'HELMET_USED'] = 0\n",
    "df.loc[df['SAFETY_EQUIPMENT'] == 'NONE PRESENT', 'HELMET_USED'] = 0\n",
    "df.loc[df['SAFETY_EQUIPMENT'] == 'SAFETY BELT USED', 'HELMET_USED'] = 'Unknown'\n",
    "df.loc[df['SAFETY_EQUIPMENT'] == 'SAFETY BELT NOT USED', 'HELMET_USED'] = 'Unknown'\n",
    "\n",
    "df.loc[df['SAFETY_EQUIPMENT'] == 'USAGE UNKNOWN', 'HELMET_USED'] = 'Unknown'\n"
   ]
  },
  {
   "cell_type": "code",
   "execution_count": 13,
   "metadata": {
    "scrolled": true
   },
   "outputs": [
    {
     "data": {
      "text/plain": [
       "0.0        6097\n",
       "1.0        3246\n",
       "Unknown     913\n",
       "Name: HELMET_USED, dtype: int64"
      ]
     },
     "execution_count": 13,
     "metadata": {},
     "output_type": "execute_result"
    }
   ],
   "source": [
    "df['HELMET_USED'].value_counts()"
   ]
  },
  {
   "cell_type": "code",
   "execution_count": 14,
   "metadata": {
    "scrolled": true
   },
   "outputs": [
    {
     "data": {
      "text/plain": [
       "10256"
      ]
     },
     "execution_count": 14,
     "metadata": {},
     "output_type": "execute_result"
    }
   ],
   "source": [
    "df['HELMET_USED'].value_counts().sum()"
   ]
  },
  {
   "cell_type": "code",
   "execution_count": 15,
   "metadata": {},
   "outputs": [],
   "source": [
    "df.loc[df['SAFETY_EQUIPMENT'] == 'SAFETY BELT USED', 'BELT_USED'] = 1\n",
    "\n",
    "df.loc[df['SAFETY_EQUIPMENT'] == 'SAFETY BELT NOT USED', 'BELT_USED'] = 0\n",
    "df.loc[df['SAFETY_EQUIPMENT'] == 'NONE PRESENT', 'BELT_USED'] = 0\n",
    "df.loc[df['SAFETY_EQUIPMENT'] == 'BICYCLE HELMET (PEDACYCLIST INVOLVED ONLY)', 'BELT_USED'] = 0\n",
    "df.loc[df['SAFETY_EQUIPMENT'] == 'HELMET USED', 'BELT_USED'] = 0\n",
    "df.loc[df['SAFETY_EQUIPMENT'] == 'HELMET NOT USED', 'BELT_USED'] = 0\n",
    "\n",
    "df.loc[df['SAFETY_EQUIPMENT'] == 'USAGE UNKNOWN', 'BELT_USED'] = 'Unknown'\n"
   ]
  },
  {
   "cell_type": "code",
   "execution_count": 16,
   "metadata": {},
   "outputs": [
    {
     "data": {
      "text/plain": [
       "0.0        9360\n",
       "Unknown     869\n",
       "1.0          27\n",
       "Name: BELT_USED, dtype: int64"
      ]
     },
     "execution_count": 16,
     "metadata": {},
     "output_type": "execute_result"
    }
   ],
   "source": [
    "df['BELT_USED'].value_counts()"
   ]
  },
  {
   "cell_type": "code",
   "execution_count": 17,
   "metadata": {},
   "outputs": [
    {
     "data": {
      "text/plain": [
       "10256"
      ]
     },
     "execution_count": 17,
     "metadata": {},
     "output_type": "execute_result"
    }
   ],
   "source": [
    "df['BELT_USED'].value_counts().sum()"
   ]
  },
  {
   "cell_type": "code",
   "execution_count": 18,
   "metadata": {},
   "outputs": [
    {
     "data": {
      "text/html": [
       "<div>\n",
       "<style scoped>\n",
       "    .dataframe tbody tr th:only-of-type {\n",
       "        vertical-align: middle;\n",
       "    }\n",
       "\n",
       "    .dataframe tbody tr th {\n",
       "        vertical-align: top;\n",
       "    }\n",
       "\n",
       "    .dataframe thead th {\n",
       "        text-align: right;\n",
       "    }\n",
       "</style>\n",
       "<table border=\"1\" class=\"dataframe\">\n",
       "  <thead>\n",
       "    <tr style=\"text-align: right;\">\n",
       "      <th></th>\n",
       "      <th>Unnamed: 0</th>\n",
       "      <th>PERSON_ID</th>\n",
       "      <th>PERSON_TYPE</th>\n",
       "      <th>CRASH_RECORD_ID</th>\n",
       "      <th>RD_NO_x</th>\n",
       "      <th>CRASH_DATE_x</th>\n",
       "      <th>CITY</th>\n",
       "      <th>STATE</th>\n",
       "      <th>ZIPCODE</th>\n",
       "      <th>SEX</th>\n",
       "      <th>...</th>\n",
       "      <th>VEHICLE_ID_y</th>\n",
       "      <th>VEHICLE_YEAR</th>\n",
       "      <th>VEHICLE_DEFECT</th>\n",
       "      <th>VEHICLE_TYPE</th>\n",
       "      <th>TRAVEL_DIRECTION</th>\n",
       "      <th>MANEUVER</th>\n",
       "      <th>OCCUPANT_CNT</th>\n",
       "      <th>FIRST_CONTACT_POINT</th>\n",
       "      <th>HELMET_USED</th>\n",
       "      <th>BELT_USED</th>\n",
       "    </tr>\n",
       "  </thead>\n",
       "  <tbody>\n",
       "    <tr>\n",
       "      <th>0</th>\n",
       "      <td>0</td>\n",
       "      <td>O838337</td>\n",
       "      <td>BICYCLE</td>\n",
       "      <td>03204df22743eb4559749b8e3966c471a544228aa0fe9c...</td>\n",
       "      <td>JD144885</td>\n",
       "      <td>02/08/2020 05:04:00 PM</td>\n",
       "      <td>CHICAGO</td>\n",
       "      <td>IL</td>\n",
       "      <td>60628</td>\n",
       "      <td>F</td>\n",
       "      <td>...</td>\n",
       "      <td>795558.0</td>\n",
       "      <td>2002.0</td>\n",
       "      <td>NONE</td>\n",
       "      <td>VAN/MINI-VAN</td>\n",
       "      <td>S</td>\n",
       "      <td>TURNING LEFT</td>\n",
       "      <td>1.0</td>\n",
       "      <td>OTHER</td>\n",
       "      <td>0</td>\n",
       "      <td>0</td>\n",
       "    </tr>\n",
       "    <tr>\n",
       "      <th>1</th>\n",
       "      <td>2</td>\n",
       "      <td>O874505</td>\n",
       "      <td>BICYCLE</td>\n",
       "      <td>0d5d0bebc62e6653d10db0187013c73349440dd237356b...</td>\n",
       "      <td>JD214394</td>\n",
       "      <td>04/22/2020 09:32:00 AM</td>\n",
       "      <td>CHICAGO</td>\n",
       "      <td>IL</td>\n",
       "      <td>60632</td>\n",
       "      <td>M</td>\n",
       "      <td>...</td>\n",
       "      <td>829665.0</td>\n",
       "      <td>2008.0</td>\n",
       "      <td>NONE</td>\n",
       "      <td>SPORT UTILITY VEHICLE (SUV)</td>\n",
       "      <td>SW</td>\n",
       "      <td>TURNING RIGHT</td>\n",
       "      <td>2.0</td>\n",
       "      <td>TOTAL (ALL AREAS)</td>\n",
       "      <td>0</td>\n",
       "      <td>0</td>\n",
       "    </tr>\n",
       "    <tr>\n",
       "      <th>2</th>\n",
       "      <td>4</td>\n",
       "      <td>O849077</td>\n",
       "      <td>BICYCLE</td>\n",
       "      <td>5a16c6b44a53cc000fa17d7150b714e7b03a0b567ec602...</td>\n",
       "      <td>JD163465</td>\n",
       "      <td>02/23/2020 09:15:00 PM</td>\n",
       "      <td>CHICAGO</td>\n",
       "      <td>IL</td>\n",
       "      <td>60657</td>\n",
       "      <td>M</td>\n",
       "      <td>...</td>\n",
       "      <td>805796.0</td>\n",
       "      <td>NaN</td>\n",
       "      <td>UNKNOWN</td>\n",
       "      <td>PASSENGER</td>\n",
       "      <td>W</td>\n",
       "      <td>PASSING/OVERTAKING</td>\n",
       "      <td>2.0</td>\n",
       "      <td>ROOF</td>\n",
       "      <td>1</td>\n",
       "      <td>0</td>\n",
       "    </tr>\n",
       "    <tr>\n",
       "      <th>3</th>\n",
       "      <td>6</td>\n",
       "      <td>O1305166</td>\n",
       "      <td>BICYCLE</td>\n",
       "      <td>f6530ba62b5c98c25065dae4779f0303b6a201c5735a9c...</td>\n",
       "      <td>JF186366</td>\n",
       "      <td>03/25/2022 03:22:00 PM</td>\n",
       "      <td>EVANSTON</td>\n",
       "      <td>IL</td>\n",
       "      <td>60202</td>\n",
       "      <td>M</td>\n",
       "      <td>...</td>\n",
       "      <td>1239501.0</td>\n",
       "      <td>2018.0</td>\n",
       "      <td>UNKNOWN</td>\n",
       "      <td>PASSENGER</td>\n",
       "      <td>N</td>\n",
       "      <td>PARKED</td>\n",
       "      <td>0.0</td>\n",
       "      <td>UNKNOWN</td>\n",
       "      <td>1</td>\n",
       "      <td>0</td>\n",
       "    </tr>\n",
       "    <tr>\n",
       "      <th>4</th>\n",
       "      <td>8</td>\n",
       "      <td>O1305176</td>\n",
       "      <td>BICYCLE</td>\n",
       "      <td>af832f1ac5d658f789ec5aafbeaa9f8e85f77397f8e8b6...</td>\n",
       "      <td>JF186444</td>\n",
       "      <td>03/25/2022 03:20:00 PM</td>\n",
       "      <td>EVANSTON</td>\n",
       "      <td>IL</td>\n",
       "      <td>60202</td>\n",
       "      <td>M</td>\n",
       "      <td>...</td>\n",
       "      <td>1239512.0</td>\n",
       "      <td>2018.0</td>\n",
       "      <td>UNKNOWN</td>\n",
       "      <td>PASSENGER</td>\n",
       "      <td>N</td>\n",
       "      <td>OTHER</td>\n",
       "      <td>1.0</td>\n",
       "      <td>ROOF</td>\n",
       "      <td>0</td>\n",
       "      <td>0</td>\n",
       "    </tr>\n",
       "  </tbody>\n",
       "</table>\n",
       "<p>5 rows × 72 columns</p>\n",
       "</div>"
      ],
      "text/plain": [
       "   Unnamed: 0 PERSON_ID PERSON_TYPE  \\\n",
       "0           0   O838337     BICYCLE   \n",
       "1           2   O874505     BICYCLE   \n",
       "2           4   O849077     BICYCLE   \n",
       "3           6  O1305166     BICYCLE   \n",
       "4           8  O1305176     BICYCLE   \n",
       "\n",
       "                                     CRASH_RECORD_ID   RD_NO_x  \\\n",
       "0  03204df22743eb4559749b8e3966c471a544228aa0fe9c...  JD144885   \n",
       "1  0d5d0bebc62e6653d10db0187013c73349440dd237356b...  JD214394   \n",
       "2  5a16c6b44a53cc000fa17d7150b714e7b03a0b567ec602...  JD163465   \n",
       "3  f6530ba62b5c98c25065dae4779f0303b6a201c5735a9c...  JF186366   \n",
       "4  af832f1ac5d658f789ec5aafbeaa9f8e85f77397f8e8b6...  JF186444   \n",
       "\n",
       "             CRASH_DATE_x      CITY STATE ZIPCODE SEX  ...  VEHICLE_ID_y  \\\n",
       "0  02/08/2020 05:04:00 PM   CHICAGO    IL   60628   F  ...      795558.0   \n",
       "1  04/22/2020 09:32:00 AM   CHICAGO    IL   60632   M  ...      829665.0   \n",
       "2  02/23/2020 09:15:00 PM   CHICAGO    IL   60657   M  ...      805796.0   \n",
       "3  03/25/2022 03:22:00 PM  EVANSTON    IL   60202   M  ...     1239501.0   \n",
       "4  03/25/2022 03:20:00 PM  EVANSTON    IL   60202   M  ...     1239512.0   \n",
       "\n",
       "  VEHICLE_YEAR VEHICLE_DEFECT                 VEHICLE_TYPE TRAVEL_DIRECTION  \\\n",
       "0       2002.0           NONE                 VAN/MINI-VAN                S   \n",
       "1       2008.0           NONE  SPORT UTILITY VEHICLE (SUV)               SW   \n",
       "2          NaN        UNKNOWN                    PASSENGER                W   \n",
       "3       2018.0        UNKNOWN                    PASSENGER                N   \n",
       "4       2018.0        UNKNOWN                    PASSENGER                N   \n",
       "\n",
       "             MANEUVER OCCUPANT_CNT FIRST_CONTACT_POINT HELMET_USED BELT_USED  \n",
       "0        TURNING LEFT          1.0               OTHER           0         0  \n",
       "1       TURNING RIGHT          2.0   TOTAL (ALL AREAS)           0         0  \n",
       "2  PASSING/OVERTAKING          2.0                ROOF           1         0  \n",
       "3              PARKED          0.0             UNKNOWN           1         0  \n",
       "4               OTHER          1.0                ROOF           0         0  \n",
       "\n",
       "[5 rows x 72 columns]"
      ]
     },
     "execution_count": 18,
     "metadata": {},
     "output_type": "execute_result"
    }
   ],
   "source": [
    "df.head()"
   ]
  },
  {
   "cell_type": "code",
   "execution_count": 19,
   "metadata": {
    "scrolled": true
   },
   "outputs": [
    {
     "name": "stdout",
     "output_type": "stream",
     "text": [
      "<class 'pandas.core.frame.DataFrame'>\n",
      "RangeIndex: 10394 entries, 0 to 10393\n",
      "Data columns (total 72 columns):\n",
      " #   Column                   Non-Null Count  Dtype  \n",
      "---  ------                   --------------  -----  \n",
      " 0   Unnamed: 0               10394 non-null  int64  \n",
      " 1   PERSON_ID                10394 non-null  object \n",
      " 2   PERSON_TYPE              10394 non-null  object \n",
      " 3   CRASH_RECORD_ID          10394 non-null  object \n",
      " 4   RD_NO_x                  10371 non-null  object \n",
      " 5   CRASH_DATE_x             10394 non-null  object \n",
      " 6   CITY                     8934 non-null   object \n",
      " 7   STATE                    8832 non-null   object \n",
      " 8   ZIPCODE                  7421 non-null   object \n",
      " 9   SEX                      10249 non-null  object \n",
      " 10  AGE                      8844 non-null   float64\n",
      " 11  SAFETY_EQUIPMENT         10256 non-null  object \n",
      " 12  EJECTION                 10069 non-null  object \n",
      " 13  INJURY_CLASSIFICATION    10392 non-null  object \n",
      " 14  DRIVER_ACTION            10191 non-null  object \n",
      " 15  DRIVER_VISION            10152 non-null  object \n",
      " 16  PHYSICAL_CONDITION       10204 non-null  object \n",
      " 17  PEDPEDAL_ACTION          10392 non-null  object \n",
      " 18  PEDPEDAL_VISIBILITY      10392 non-null  object \n",
      " 19  PEDPEDAL_LOCATION        10392 non-null  object \n",
      " 20  BAC_RESULT               10036 non-null  object \n",
      " 21  RD_NO_y                  10371 non-null  object \n",
      " 22  CRASH_DATE_EST_I         519 non-null    object \n",
      " 23  CRASH_DATE_y             10394 non-null  object \n",
      " 24  POSTED_SPEED_LIMIT       10394 non-null  int64  \n",
      " 25  TRAFFIC_CONTROL_DEVICE   10394 non-null  object \n",
      " 26  DEVICE_CONDITION         10394 non-null  object \n",
      " 27  WEATHER_CONDITION        10394 non-null  object \n",
      " 28  LIGHTING_CONDITION       10394 non-null  object \n",
      " 29  FIRST_CRASH_TYPE         10394 non-null  object \n",
      " 30  TRAFFICWAY_TYPE          10394 non-null  object \n",
      " 31  LANE_CNT                 2921 non-null   float64\n",
      " 32  ALIGNMENT                10394 non-null  object \n",
      " 33  ROADWAY_SURFACE_COND     10394 non-null  object \n",
      " 34  ROAD_DEFECT              10394 non-null  object \n",
      " 35  REPORT_TYPE              10015 non-null  object \n",
      " 36  CRASH_TYPE               10394 non-null  object \n",
      " 37  INTERSECTION_RELATED_I   3879 non-null   object \n",
      " 38  NOT_RIGHT_OF_WAY_I       88 non-null     object \n",
      " 39  HIT_AND_RUN_I            2795 non-null   object \n",
      " 40  DAMAGE                   10394 non-null  object \n",
      " 41  PRIM_CONTRIBUTORY_CAUSE  10394 non-null  object \n",
      " 42  SEC_CONTRIBUTORY_CAUSE   10394 non-null  object \n",
      " 43  STREET_NO                10394 non-null  int64  \n",
      " 44  STREET_DIRECTION         10394 non-null  object \n",
      " 45  STREET_NAME              10394 non-null  object \n",
      " 46  BEAT_OF_OCCURRENCE       10394 non-null  float64\n",
      " 47  DOORING_I                1690 non-null   object \n",
      " 48  WORK_ZONE_I              59 non-null     object \n",
      " 49  WORK_ZONE_TYPE           41 non-null     object \n",
      " 50  WORKERS_PRESENT_I        14 non-null     object \n",
      " 51  NUM_UNITS                10394 non-null  int64  \n",
      " 52  MOST_SEVERE_INJURY       10394 non-null  object \n",
      " 53  CRASH_HOUR               10394 non-null  int64  \n",
      " 54  CRASH_DAY_OF_WEEK        10394 non-null  int64  \n",
      " 55  CRASH_MONTH              10394 non-null  int64  \n",
      " 56  CRASH_UNIT_ID            10394 non-null  int64  \n",
      " 57  RD_NO                    10371 non-null  object \n",
      " 58  CRASH_DATE               10394 non-null  object \n",
      " 59  UNIT_NO                  10394 non-null  int64  \n",
      " 60  UNIT_TYPE                10370 non-null  object \n",
      " 61  NUM_PASSENGERS           1151 non-null   float64\n",
      " 62  VEHICLE_ID_y             6829 non-null   float64\n",
      " 63  VEHICLE_YEAR             4911 non-null   float64\n",
      " 64  VEHICLE_DEFECT           6829 non-null   object \n",
      " 65  VEHICLE_TYPE             6829 non-null   object \n",
      " 66  TRAVEL_DIRECTION         6829 non-null   object \n",
      " 67  MANEUVER                 6829 non-null   object \n",
      " 68  OCCUPANT_CNT             6829 non-null   float64\n",
      " 69  FIRST_CONTACT_POINT      6762 non-null   object \n",
      " 70  HELMET_USED              10256 non-null  object \n",
      " 71  BELT_USED                10256 non-null  object \n",
      "dtypes: float64(7), int64(9), object(56)\n",
      "memory usage: 5.7+ MB\n"
     ]
    }
   ],
   "source": [
    "df.info()"
   ]
  },
  {
   "cell_type": "code",
   "execution_count": 20,
   "metadata": {
    "scrolled": true
   },
   "outputs": [
    {
     "data": {
      "text/plain": [
       "Unnamed: 0                0\n",
       "PERSON_ID                 0\n",
       "PERSON_TYPE               0\n",
       "CRASH_RECORD_ID           0\n",
       "RD_NO_x                  23\n",
       "                       ... \n",
       "MANEUVER               3565\n",
       "OCCUPANT_CNT           3565\n",
       "FIRST_CONTACT_POINT    3632\n",
       "HELMET_USED             138\n",
       "BELT_USED               138\n",
       "Length: 72, dtype: int64"
      ]
     },
     "execution_count": 20,
     "metadata": {},
     "output_type": "execute_result"
    }
   ],
   "source": [
    "df.isnull().sum()"
   ]
  },
  {
   "cell_type": "code",
   "execution_count": 21,
   "metadata": {},
   "outputs": [
    {
     "data": {
      "text/plain": [
       "NONINCAPACITATING INJURY    4998\n",
       "NO INDICATION OF INJURY     3228\n",
       "REPORTED, NOT EVIDENT       1167\n",
       "INCAPACITATING INJURY        968\n",
       "FATAL                         31\n",
       "Name: INJURY_CLASSIFICATION, dtype: int64"
      ]
     },
     "execution_count": 21,
     "metadata": {},
     "output_type": "execute_result"
    }
   ],
   "source": [
    "df['INJURY_CLASSIFICATION'].value_counts()"
   ]
  },
  {
   "cell_type": "markdown",
   "metadata": {},
   "source": [
    "## INJURY_CLASSIFICATION BINNING"
   ]
  },
  {
   "cell_type": "code",
   "execution_count": 22,
   "metadata": {},
   "outputs": [],
   "source": [
    "df.loc[df['INJURY_CLASSIFICATION'] == 'INCAPACITATING INJURY', 'INJURY_BAD'] = 1\n",
    "df.loc[df['INJURY_CLASSIFICATION'] == 'FATAL', 'INJURY_BAD'] = 1\n",
    "\n",
    "df.loc[df['INJURY_CLASSIFICATION'] == 'REPORTED, NOT EVIDENT', 'INJURY_BAD'] = 0\n",
    "df.loc[df['INJURY_CLASSIFICATION'] == 'NO INDICATION OF INJURY', 'INJURY_BAD'] = 0\n",
    "df.loc[df['INJURY_CLASSIFICATION'] == 'NONINCAPACITATING INJURY', 'INJURY_BAD'] = 0\n",
    "\n"
   ]
  },
  {
   "cell_type": "code",
   "execution_count": 23,
   "metadata": {
    "scrolled": true
   },
   "outputs": [
    {
     "data": {
      "text/plain": [
       "0.0    9393\n",
       "1.0     999\n",
       "Name: INJURY_BAD, dtype: int64"
      ]
     },
     "execution_count": 23,
     "metadata": {},
     "output_type": "execute_result"
    }
   ],
   "source": [
    "df['INJURY_BAD'].value_counts()"
   ]
  },
  {
   "cell_type": "code",
   "execution_count": 24,
   "metadata": {},
   "outputs": [
    {
     "data": {
      "text/plain": [
       "NO CONTRASTING CLOTHING    7582\n",
       "CONTRASTING CLOTHING       1597\n",
       "OTHER LIGHT SOURCE USED     773\n",
       "REFLECTIVE MATERIAL         440\n",
       "Name: PEDPEDAL_VISIBILITY, dtype: int64"
      ]
     },
     "execution_count": 24,
     "metadata": {},
     "output_type": "execute_result"
    }
   ],
   "source": [
    "df['PEDPEDAL_VISIBILITY'].value_counts()"
   ]
  },
  {
   "cell_type": "markdown",
   "metadata": {},
   "source": [
    "## PEDPEDAL_VISIBILITY BINNING"
   ]
  },
  {
   "cell_type": "code",
   "execution_count": 25,
   "metadata": {},
   "outputs": [],
   "source": [
    "df.loc[df['PEDPEDAL_VISIBILITY'] == 'REFLECTIVE MATERIAL', 'PROTECTIVE_CLOTHING'] = 1\n",
    "df.loc[df['PEDPEDAL_VISIBILITY'] == 'OTHER LIGHT SOURCE USED', 'PROTECTIVE_CLOTHING'] = 1\n",
    "df.loc[df['PEDPEDAL_VISIBILITY'] == 'CONTRASTING CLOTHING', 'PROTECTIVE_CLOTHING'] = 1\n",
    "\n",
    "df.loc[df['PEDPEDAL_VISIBILITY'] == 'NO CONTRASTING CLOTHING', 'PROTECTIVE_CLOTHING'] = 0\n",
    "\n",
    "\n"
   ]
  },
  {
   "cell_type": "code",
   "execution_count": 26,
   "metadata": {
    "scrolled": true
   },
   "outputs": [
    {
     "name": "stdout",
     "output_type": "stream",
     "text": [
      "<class 'pandas.core.frame.DataFrame'>\n",
      "RangeIndex: 10394 entries, 0 to 10393\n",
      "Data columns (total 74 columns):\n",
      " #   Column                   Non-Null Count  Dtype  \n",
      "---  ------                   --------------  -----  \n",
      " 0   Unnamed: 0               10394 non-null  int64  \n",
      " 1   PERSON_ID                10394 non-null  object \n",
      " 2   PERSON_TYPE              10394 non-null  object \n",
      " 3   CRASH_RECORD_ID          10394 non-null  object \n",
      " 4   RD_NO_x                  10371 non-null  object \n",
      " 5   CRASH_DATE_x             10394 non-null  object \n",
      " 6   CITY                     8934 non-null   object \n",
      " 7   STATE                    8832 non-null   object \n",
      " 8   ZIPCODE                  7421 non-null   object \n",
      " 9   SEX                      10249 non-null  object \n",
      " 10  AGE                      8844 non-null   float64\n",
      " 11  SAFETY_EQUIPMENT         10256 non-null  object \n",
      " 12  EJECTION                 10069 non-null  object \n",
      " 13  INJURY_CLASSIFICATION    10392 non-null  object \n",
      " 14  DRIVER_ACTION            10191 non-null  object \n",
      " 15  DRIVER_VISION            10152 non-null  object \n",
      " 16  PHYSICAL_CONDITION       10204 non-null  object \n",
      " 17  PEDPEDAL_ACTION          10392 non-null  object \n",
      " 18  PEDPEDAL_VISIBILITY      10392 non-null  object \n",
      " 19  PEDPEDAL_LOCATION        10392 non-null  object \n",
      " 20  BAC_RESULT               10036 non-null  object \n",
      " 21  RD_NO_y                  10371 non-null  object \n",
      " 22  CRASH_DATE_EST_I         519 non-null    object \n",
      " 23  CRASH_DATE_y             10394 non-null  object \n",
      " 24  POSTED_SPEED_LIMIT       10394 non-null  int64  \n",
      " 25  TRAFFIC_CONTROL_DEVICE   10394 non-null  object \n",
      " 26  DEVICE_CONDITION         10394 non-null  object \n",
      " 27  WEATHER_CONDITION        10394 non-null  object \n",
      " 28  LIGHTING_CONDITION       10394 non-null  object \n",
      " 29  FIRST_CRASH_TYPE         10394 non-null  object \n",
      " 30  TRAFFICWAY_TYPE          10394 non-null  object \n",
      " 31  LANE_CNT                 2921 non-null   float64\n",
      " 32  ALIGNMENT                10394 non-null  object \n",
      " 33  ROADWAY_SURFACE_COND     10394 non-null  object \n",
      " 34  ROAD_DEFECT              10394 non-null  object \n",
      " 35  REPORT_TYPE              10015 non-null  object \n",
      " 36  CRASH_TYPE               10394 non-null  object \n",
      " 37  INTERSECTION_RELATED_I   3879 non-null   object \n",
      " 38  NOT_RIGHT_OF_WAY_I       88 non-null     object \n",
      " 39  HIT_AND_RUN_I            2795 non-null   object \n",
      " 40  DAMAGE                   10394 non-null  object \n",
      " 41  PRIM_CONTRIBUTORY_CAUSE  10394 non-null  object \n",
      " 42  SEC_CONTRIBUTORY_CAUSE   10394 non-null  object \n",
      " 43  STREET_NO                10394 non-null  int64  \n",
      " 44  STREET_DIRECTION         10394 non-null  object \n",
      " 45  STREET_NAME              10394 non-null  object \n",
      " 46  BEAT_OF_OCCURRENCE       10394 non-null  float64\n",
      " 47  DOORING_I                1690 non-null   object \n",
      " 48  WORK_ZONE_I              59 non-null     object \n",
      " 49  WORK_ZONE_TYPE           41 non-null     object \n",
      " 50  WORKERS_PRESENT_I        14 non-null     object \n",
      " 51  NUM_UNITS                10394 non-null  int64  \n",
      " 52  MOST_SEVERE_INJURY       10394 non-null  object \n",
      " 53  CRASH_HOUR               10394 non-null  int64  \n",
      " 54  CRASH_DAY_OF_WEEK        10394 non-null  int64  \n",
      " 55  CRASH_MONTH              10394 non-null  int64  \n",
      " 56  CRASH_UNIT_ID            10394 non-null  int64  \n",
      " 57  RD_NO                    10371 non-null  object \n",
      " 58  CRASH_DATE               10394 non-null  object \n",
      " 59  UNIT_NO                  10394 non-null  int64  \n",
      " 60  UNIT_TYPE                10370 non-null  object \n",
      " 61  NUM_PASSENGERS           1151 non-null   float64\n",
      " 62  VEHICLE_ID_y             6829 non-null   float64\n",
      " 63  VEHICLE_YEAR             4911 non-null   float64\n",
      " 64  VEHICLE_DEFECT           6829 non-null   object \n",
      " 65  VEHICLE_TYPE             6829 non-null   object \n",
      " 66  TRAVEL_DIRECTION         6829 non-null   object \n",
      " 67  MANEUVER                 6829 non-null   object \n",
      " 68  OCCUPANT_CNT             6829 non-null   float64\n",
      " 69  FIRST_CONTACT_POINT      6762 non-null   object \n",
      " 70  HELMET_USED              10256 non-null  object \n",
      " 71  BELT_USED                10256 non-null  object \n",
      " 72  INJURY_BAD               10392 non-null  float64\n",
      " 73  PROTECTIVE_CLOTHING      10392 non-null  float64\n",
      "dtypes: float64(9), int64(9), object(56)\n",
      "memory usage: 5.9+ MB\n"
     ]
    }
   ],
   "source": [
    "df.info()"
   ]
  },
  {
   "cell_type": "code",
   "execution_count": 27,
   "metadata": {
    "scrolled": false
   },
   "outputs": [
    {
     "name": "stdout",
     "output_type": "stream",
     "text": [
      "<class 'pandas.core.frame.DataFrame'>\n",
      "RangeIndex: 10394 entries, 0 to 10393\n",
      "Data columns (total 18 columns):\n",
      " #   Column               Non-Null Count  Dtype  \n",
      "---  ------               --------------  -----  \n",
      " 0   Unnamed: 0           10394 non-null  int64  \n",
      " 1   AGE                  8844 non-null   float64\n",
      " 2   POSTED_SPEED_LIMIT   10394 non-null  int64  \n",
      " 3   LANE_CNT             2921 non-null   float64\n",
      " 4   STREET_NO            10394 non-null  int64  \n",
      " 5   BEAT_OF_OCCURRENCE   10394 non-null  float64\n",
      " 6   NUM_UNITS            10394 non-null  int64  \n",
      " 7   CRASH_HOUR           10394 non-null  int64  \n",
      " 8   CRASH_DAY_OF_WEEK    10394 non-null  int64  \n",
      " 9   CRASH_MONTH          10394 non-null  int64  \n",
      " 10  CRASH_UNIT_ID        10394 non-null  int64  \n",
      " 11  UNIT_NO              10394 non-null  int64  \n",
      " 12  NUM_PASSENGERS       1151 non-null   float64\n",
      " 13  VEHICLE_ID_y         6829 non-null   float64\n",
      " 14  VEHICLE_YEAR         4911 non-null   float64\n",
      " 15  OCCUPANT_CNT         6829 non-null   float64\n",
      " 16  INJURY_BAD           10392 non-null  float64\n",
      " 17  PROTECTIVE_CLOTHING  10392 non-null  float64\n",
      "dtypes: float64(9), int64(9)\n",
      "memory usage: 1.4 MB\n"
     ]
    }
   ],
   "source": [
    "num_cols = df.select_dtypes(include=['float64', 'int64'])\n",
    "num_cols.info()"
   ]
  },
  {
   "cell_type": "code",
   "execution_count": 28,
   "metadata": {
    "scrolled": true
   },
   "outputs": [
    {
     "data": {
      "text/html": [
       "<div>\n",
       "<style scoped>\n",
       "    .dataframe tbody tr th:only-of-type {\n",
       "        vertical-align: middle;\n",
       "    }\n",
       "\n",
       "    .dataframe tbody tr th {\n",
       "        vertical-align: top;\n",
       "    }\n",
       "\n",
       "    .dataframe thead th {\n",
       "        text-align: right;\n",
       "    }\n",
       "</style>\n",
       "<table border=\"1\" class=\"dataframe\">\n",
       "  <thead>\n",
       "    <tr style=\"text-align: right;\">\n",
       "      <th></th>\n",
       "      <th>Unnamed: 0</th>\n",
       "      <th>AGE</th>\n",
       "      <th>POSTED_SPEED_LIMIT</th>\n",
       "      <th>LANE_CNT</th>\n",
       "      <th>STREET_NO</th>\n",
       "      <th>BEAT_OF_OCCURRENCE</th>\n",
       "      <th>NUM_UNITS</th>\n",
       "      <th>CRASH_HOUR</th>\n",
       "      <th>CRASH_DAY_OF_WEEK</th>\n",
       "      <th>CRASH_MONTH</th>\n",
       "      <th>CRASH_UNIT_ID</th>\n",
       "      <th>UNIT_NO</th>\n",
       "      <th>NUM_PASSENGERS</th>\n",
       "      <th>VEHICLE_ID_y</th>\n",
       "      <th>VEHICLE_YEAR</th>\n",
       "      <th>OCCUPANT_CNT</th>\n",
       "      <th>INJURY_BAD</th>\n",
       "      <th>PROTECTIVE_CLOTHING</th>\n",
       "    </tr>\n",
       "  </thead>\n",
       "  <tbody>\n",
       "    <tr>\n",
       "      <th>0</th>\n",
       "      <td>0</td>\n",
       "      <td>43.0</td>\n",
       "      <td>30</td>\n",
       "      <td>NaN</td>\n",
       "      <td>2908</td>\n",
       "      <td>823.0</td>\n",
       "      <td>2</td>\n",
       "      <td>17</td>\n",
       "      <td>7</td>\n",
       "      <td>2</td>\n",
       "      <td>838336</td>\n",
       "      <td>1</td>\n",
       "      <td>NaN</td>\n",
       "      <td>795558.0</td>\n",
       "      <td>2002.0</td>\n",
       "      <td>1.0</td>\n",
       "      <td>0.0</td>\n",
       "      <td>0.0</td>\n",
       "    </tr>\n",
       "    <tr>\n",
       "      <th>1</th>\n",
       "      <td>2</td>\n",
       "      <td>22.0</td>\n",
       "      <td>30</td>\n",
       "      <td>NaN</td>\n",
       "      <td>3600</td>\n",
       "      <td>911.0</td>\n",
       "      <td>2</td>\n",
       "      <td>9</td>\n",
       "      <td>4</td>\n",
       "      <td>4</td>\n",
       "      <td>874498</td>\n",
       "      <td>1</td>\n",
       "      <td>1.0</td>\n",
       "      <td>829665.0</td>\n",
       "      <td>2008.0</td>\n",
       "      <td>2.0</td>\n",
       "      <td>0.0</td>\n",
       "      <td>0.0</td>\n",
       "    </tr>\n",
       "    <tr>\n",
       "      <th>2</th>\n",
       "      <td>4</td>\n",
       "      <td>31.0</td>\n",
       "      <td>30</td>\n",
       "      <td>NaN</td>\n",
       "      <td>2018</td>\n",
       "      <td>1424.0</td>\n",
       "      <td>2</td>\n",
       "      <td>21</td>\n",
       "      <td>1</td>\n",
       "      <td>2</td>\n",
       "      <td>849076</td>\n",
       "      <td>1</td>\n",
       "      <td>1.0</td>\n",
       "      <td>805796.0</td>\n",
       "      <td>NaN</td>\n",
       "      <td>2.0</td>\n",
       "      <td>0.0</td>\n",
       "      <td>1.0</td>\n",
       "    </tr>\n",
       "    <tr>\n",
       "      <th>3</th>\n",
       "      <td>6</td>\n",
       "      <td>34.0</td>\n",
       "      <td>20</td>\n",
       "      <td>NaN</td>\n",
       "      <td>6638</td>\n",
       "      <td>2432.0</td>\n",
       "      <td>2</td>\n",
       "      <td>15</td>\n",
       "      <td>6</td>\n",
       "      <td>3</td>\n",
       "      <td>1305165</td>\n",
       "      <td>1</td>\n",
       "      <td>NaN</td>\n",
       "      <td>1239501.0</td>\n",
       "      <td>2018.0</td>\n",
       "      <td>0.0</td>\n",
       "      <td>1.0</td>\n",
       "      <td>1.0</td>\n",
       "    </tr>\n",
       "    <tr>\n",
       "      <th>4</th>\n",
       "      <td>8</td>\n",
       "      <td>34.0</td>\n",
       "      <td>30</td>\n",
       "      <td>NaN</td>\n",
       "      <td>6638</td>\n",
       "      <td>2432.0</td>\n",
       "      <td>2</td>\n",
       "      <td>15</td>\n",
       "      <td>6</td>\n",
       "      <td>3</td>\n",
       "      <td>1305175</td>\n",
       "      <td>1</td>\n",
       "      <td>NaN</td>\n",
       "      <td>1239512.0</td>\n",
       "      <td>2018.0</td>\n",
       "      <td>1.0</td>\n",
       "      <td>0.0</td>\n",
       "      <td>0.0</td>\n",
       "    </tr>\n",
       "  </tbody>\n",
       "</table>\n",
       "</div>"
      ],
      "text/plain": [
       "   Unnamed: 0   AGE  POSTED_SPEED_LIMIT  LANE_CNT  STREET_NO  \\\n",
       "0           0  43.0                  30       NaN       2908   \n",
       "1           2  22.0                  30       NaN       3600   \n",
       "2           4  31.0                  30       NaN       2018   \n",
       "3           6  34.0                  20       NaN       6638   \n",
       "4           8  34.0                  30       NaN       6638   \n",
       "\n",
       "   BEAT_OF_OCCURRENCE  NUM_UNITS  CRASH_HOUR  CRASH_DAY_OF_WEEK  CRASH_MONTH  \\\n",
       "0               823.0          2          17                  7            2   \n",
       "1               911.0          2           9                  4            4   \n",
       "2              1424.0          2          21                  1            2   \n",
       "3              2432.0          2          15                  6            3   \n",
       "4              2432.0          2          15                  6            3   \n",
       "\n",
       "   CRASH_UNIT_ID  UNIT_NO  NUM_PASSENGERS  VEHICLE_ID_y  VEHICLE_YEAR  \\\n",
       "0         838336        1             NaN      795558.0        2002.0   \n",
       "1         874498        1             1.0      829665.0        2008.0   \n",
       "2         849076        1             1.0      805796.0           NaN   \n",
       "3        1305165        1             NaN     1239501.0        2018.0   \n",
       "4        1305175        1             NaN     1239512.0        2018.0   \n",
       "\n",
       "   OCCUPANT_CNT  INJURY_BAD  PROTECTIVE_CLOTHING  \n",
       "0           1.0         0.0                  0.0  \n",
       "1           2.0         0.0                  0.0  \n",
       "2           2.0         0.0                  1.0  \n",
       "3           0.0         1.0                  1.0  \n",
       "4           1.0         0.0                  0.0  "
      ]
     },
     "execution_count": 28,
     "metadata": {},
     "output_type": "execute_result"
    }
   ],
   "source": [
    "num_cols.head()"
   ]
  },
  {
   "cell_type": "code",
   "execution_count": 29,
   "metadata": {
    "scrolled": true
   },
   "outputs": [
    {
     "data": {
      "text/plain": [
       "2"
      ]
     },
     "execution_count": 29,
     "metadata": {},
     "output_type": "execute_result"
    }
   ],
   "source": [
    "df['PROTECTIVE_CLOTHING'].isna().sum()"
   ]
  },
  {
   "cell_type": "code",
   "execution_count": 30,
   "metadata": {},
   "outputs": [],
   "source": [
    "df.dropna(subset=['PROTECTIVE_CLOTHING'], inplace=True)\n"
   ]
  },
  {
   "cell_type": "code",
   "execution_count": 31,
   "metadata": {
    "scrolled": true
   },
   "outputs": [],
   "source": [
    "#df['HELMET_USED'] = df['HELMET_USED'].astype(int) - STILL NONE VARIABLES\n",
    "df['PROTECTIVE_CLOTHING'] = df['PROTECTIVE_CLOTHING'].astype(int)\n",
    "df['INJURY_BAD'] = df['INJURY_BAD'].astype(int)\n"
   ]
  },
  {
   "cell_type": "code",
   "execution_count": 32,
   "metadata": {
    "scrolled": false
   },
   "outputs": [],
   "source": [
    "X = df[['PROTECTIVE_CLOTHING']]\n",
    "y = df['INJURY_BAD']\n",
    "\n",
    "from sklearn.model_selection import train_test_split\n",
    "\n",
    "X_train, X_test, y_train, y_test = train_test_split(X, y, test_size=0.5, random_state=42)"
   ]
  },
  {
   "cell_type": "code",
   "execution_count": 33,
   "metadata": {},
   "outputs": [],
   "source": [
    "from sklearn.tree import DecisionTreeClassifier , plot_tree\n",
    "import matplotlib.pyplot as plt\n",
    "\n",
    "dtc = DecisionTreeClassifier(max_depth=2,random_state=42)"
   ]
  },
  {
   "cell_type": "code",
   "execution_count": 34,
   "metadata": {},
   "outputs": [],
   "source": [
    "dtc.fit(X_train, y_train)\n",
    "\n",
    "y_pred = dtc.predict(X_test)"
   ]
  },
  {
   "cell_type": "code",
   "execution_count": 35,
   "metadata": {
    "scrolled": false
   },
   "outputs": [
    {
     "data": {
      "image/png": "[encoded data removed]",
      "text/plain": [
       "<Figure size 720x576 with 1 Axes>"
      ]
     },
     "metadata": {
      "needs_background": "light"
     },
     "output_type": "display_data"
    }
   ],
   "source": [
    "plt.figure(figsize=(10, 8))\n",
    "plot_tree(dtc, filled=True)\n",
    "plt.show()"
   ]
  },
  {
   "cell_type": "markdown",
   "metadata": {},
   "source": [
    "## TESTING DF_HELMET WITH DROP OF UNKNOWN VARIABLES"
   ]
  },
  {
   "cell_type": "code",
   "execution_count": 36,
   "metadata": {},
   "outputs": [],
   "source": [
    "#df_helmet = pd.DataFrame()"
   ]
  },
  {
   "cell_type": "code",
   "execution_count": 37,
   "metadata": {
    "scrolled": true
   },
   "outputs": [],
   "source": [
    "#df_helmet = df.copy()\n",
    "#df_helmet.info()"
   ]
  },
  {
   "cell_type": "code",
   "execution_count": 38,
   "metadata": {},
   "outputs": [],
   "source": [
    "#df_helmet = df_helmet.dropna(subset=['HELMET_USED'])\n",
    "#df_helmet['HELMET_USED'] = df_helmet['HELMET_USED'].astype(int)"
   ]
  },
  {
   "cell_type": "code",
   "execution_count": 39,
   "metadata": {
    "scrolled": true
   },
   "outputs": [],
   "source": [
    "#df_helmet['HELMET_USED'].isna().sum()"
   ]
  },
  {
   "cell_type": "code",
   "execution_count": 40,
   "metadata": {
    "scrolled": true
   },
   "outputs": [],
   "source": [
    "#df_helmet.info()"
   ]
  },
  {
   "cell_type": "code",
   "execution_count": 41,
   "metadata": {},
   "outputs": [],
   "source": [
    "#df_helmet['INJURY_BAD'].isna().sum()"
   ]
  },
  {
   "cell_type": "code",
   "execution_count": 42,
   "metadata": {
    "scrolled": true
   },
   "outputs": [],
   "source": [
    "#df_helmet.info()"
   ]
  },
  {
   "cell_type": "code",
   "execution_count": 43,
   "metadata": {},
   "outputs": [],
   "source": [
    "#X = df_helmet[['HELMET_USED']]\n",
    "#y = df_helmet['INJURY_BAD']\n",
    "\n",
    "#from sklearn.model_selection import train_test_split\n",
    "\n",
    "#X_train, X_test, y_train, y_test = train_test_split(X, y, test_size=0.5, random_state=42)"
   ]
  },
  {
   "cell_type": "code",
   "execution_count": 44,
   "metadata": {},
   "outputs": [],
   "source": [
    "#dtc = DecisionTreeClassifier(max_depth=2,random_state=42)\n",
    "\n",
    "#dtc.fit(X_train, y_train)\n",
    "\n",
    "#y_pred = dtc.predict(X_test)"
   ]
  },
  {
   "cell_type": "code",
   "execution_count": 45,
   "metadata": {},
   "outputs": [],
   "source": [
    "#plt.figure(figsize=(10, 8))\n",
    "#plot_tree(dtc, filled=True)\n",
    "#plt.show()"
   ]
  },
  {
   "cell_type": "code",
   "execution_count": 46,
   "metadata": {},
   "outputs": [],
   "source": [
    "#X = df_helmet[['INJURY_BAD','PROTECTIVE_CLOTHING']]\n",
    "#y = df_helmet['HELMET_USED']\n",
    "\n",
    "#from sklearn.model_selection import train_test_split\n",
    "\n",
    "#X_train, X_test, y_train, y_test = train_test_split(X, y, test_size=0.5, random_state=42)"
   ]
  },
  {
   "cell_type": "code",
   "execution_count": 47,
   "metadata": {},
   "outputs": [],
   "source": [
    "#dtc = DecisionTreeClassifier(max_depth=2,random_state=42)\n",
    "\n",
    "#dtc.fit(X_train, y_train)\n",
    "\n",
    "#y_pred = dtc.predict(X_test)"
   ]
  },
  {
   "cell_type": "code",
   "execution_count": 48,
   "metadata": {},
   "outputs": [],
   "source": [
    "#plt.figure(figsize=(10, 8))\n",
    "#plot_tree(dtc, filled=True)\n",
    "#plt.show()"
   ]
  },
  {
   "cell_type": "code",
   "execution_count": 49,
   "metadata": {},
   "outputs": [],
   "source": [
    "#df['TRAFFIC_CONTROL_DEVICE'].value_counts()"
   ]
  },
  {
   "cell_type": "markdown",
   "metadata": {},
   "source": [
    "## TRAFFIC_CONTROL_DEVICE BINNING  >>>> NOT IN FINAL COLUMNS"
   ]
  },
  {
   "cell_type": "code",
   "execution_count": 50,
   "metadata": {},
   "outputs": [],
   "source": [
    "#df.loc[df['TRAFFIC_CONTROL_DEVICE'] == 'TRAFFIC SIGNAL', 'TRAFFIC_DEVICE_USED'] = 1\n",
    "#df.loc[df['TRAFFIC_CONTROL_DEVICE'] == 'STOP SIGN/FLASHER', 'TRAFFIC_DEVICE_USED'] = 1\n",
    "#df.loc[df['TRAFFIC_CONTROL_DEVICE'] == 'UNKNOWN', 'TRAFFIC_DEVICE_USED'] = 1\n",
    "#df.loc[df['TRAFFIC_CONTROL_DEVICE'] == 'OTHER', 'TRAFFIC_DEVICE_USED'] = 1\n",
    "#df.loc[df['TRAFFIC_CONTROL_DEVICE'] == 'YIELD', 'TRAFFIC_DEVICE_USED'] = 1\n",
    "#df.loc[df['TRAFFIC_CONTROL_DEVICE'] == 'LANE USE MARKING', 'TRAFFIC_DEVICE_USED'] = 1\n",
    "#df.loc[df['TRAFFIC_CONTROL_DEVICE'] == 'PEDESTRIAN CROSSING SIGN', 'TRAFFIC_DEVICE_USED'] = 1\n",
    "#df.loc[df['TRAFFIC_CONTROL_DEVICE'] == 'BICYCLE CROSSING SIGN', 'TRAFFIC_DEVICE_USED'] = 1\n",
    "#df.loc[df['TRAFFIC_CONTROL_DEVICE'] == 'OTHER REG. SIGN', 'TRAFFIC_DEVICE_USED'] = 1\n",
    "#df.loc[df['TRAFFIC_CONTROL_DEVICE'] == 'SCHOOL ZONE', 'TRAFFIC_DEVICE_USED'] = 1\n",
    "#df.loc[df['TRAFFIC_CONTROL_DEVICE'] == 'POLICE/FLAGMAN', 'TRAFFIC_DEVICE_USED'] = 1\n",
    "#df.loc[df['TRAFFIC_CONTROL_DEVICE'] == 'DELINEATORS', 'TRAFFIC_DEVICE_USED'] = 1\n",
    "#df.loc[df['TRAFFIC_CONTROL_DEVICE'] == 'OTHER WARNING SIGN', 'TRAFFIC_DEVICE_USED'] = 1\n",
    "#df.loc[df['TRAFFIC_CONTROL_DEVICE'] == 'RAILROAD CROSSING GATE', 'TRAFFIC_DEVICE_USED'] = 1\n",
    "#df.loc[df['TRAFFIC_CONTROL_DEVICE'] == 'FLASHING CONTROL SIGNAL', 'TRAFFIC_DEVICE_USED'] = 1\n",
    "#\n",
    "#\n",
    "#df.loc[df['TRAFFIC_CONTROL_DEVICE'] == 'NO CONTROLS', 'TRAFFIC_DEVICE_USED'] = 0\n",
    "#\n",
    "#df['TRAFFIC_DEVICE_USED'].value_counts()"
   ]
  },
  {
   "cell_type": "code",
   "execution_count": 51,
   "metadata": {
    "scrolled": true
   },
   "outputs": [],
   "source": [
    "#df_helmet['TRAFFIC_DEVICE_USED'].astype(int)"
   ]
  },
  {
   "cell_type": "code",
   "execution_count": 52,
   "metadata": {},
   "outputs": [],
   "source": [
    "#X = df_helmet[['HELMET_USED','PROTECTIVE_CLOTHING','TRAFFIC_DEVICE_USED']]\n",
    "#y = df_helmet['INJURY_BAD']\n",
    "\n",
    "#from sklearn.model_selection import train_test_split\n",
    "\n",
    "#X_train, X_test, y_train, y_test = train_test_split(X, y, test_size=0.5, random_state=42)"
   ]
  },
  {
   "cell_type": "code",
   "execution_count": 53,
   "metadata": {},
   "outputs": [],
   "source": [
    "#dtc = DecisionTreeClassifier(max_depth=2,random_state=42)\n",
    "\n",
    "#dtc.fit(X_train, y_train)\n",
    "\n",
    "#y_pred = dtc.predict(X_test)"
   ]
  },
  {
   "cell_type": "code",
   "execution_count": 54,
   "metadata": {},
   "outputs": [],
   "source": [
    "#plt.figure(figsize=(10, 8))\n",
    "#plot_tree(dtc, filled=True)\n",
    "#plt.show()"
   ]
  },
  {
   "cell_type": "markdown",
   "metadata": {},
   "source": [
    "CODE ABOVE IS INSIDE DF_HELMET, due to HELMET_USED deleting 1000+ rows. The column of SAFETY_EQUIPMENT has alot of None variables, which were deleted to start classifying between other variables. "
   ]
  },
  {
   "cell_type": "markdown",
   "metadata": {},
   "source": [
    "-"
   ]
  },
  {
   "cell_type": "code",
   "execution_count": 55,
   "metadata": {
    "scrolled": true
   },
   "outputs": [
    {
     "name": "stdout",
     "output_type": "stream",
     "text": [
      "<class 'pandas.core.frame.DataFrame'>\n",
      "Int64Index: 10392 entries, 0 to 10393\n",
      "Data columns (total 74 columns):\n",
      " #   Column                   Non-Null Count  Dtype  \n",
      "---  ------                   --------------  -----  \n",
      " 0   Unnamed: 0               10392 non-null  int64  \n",
      " 1   PERSON_ID                10392 non-null  object \n",
      " 2   PERSON_TYPE              10392 non-null  object \n",
      " 3   CRASH_RECORD_ID          10392 non-null  object \n",
      " 4   RD_NO_x                  10369 non-null  object \n",
      " 5   CRASH_DATE_x             10392 non-null  object \n",
      " 6   CITY                     8932 non-null   object \n",
      " 7   STATE                    8830 non-null   object \n",
      " 8   ZIPCODE                  7421 non-null   object \n",
      " 9   SEX                      10249 non-null  object \n",
      " 10  AGE                      8844 non-null   float64\n",
      " 11  SAFETY_EQUIPMENT         10256 non-null  object \n",
      " 12  EJECTION                 10069 non-null  object \n",
      " 13  INJURY_CLASSIFICATION    10392 non-null  object \n",
      " 14  DRIVER_ACTION            10191 non-null  object \n",
      " 15  DRIVER_VISION            10152 non-null  object \n",
      " 16  PHYSICAL_CONDITION       10204 non-null  object \n",
      " 17  PEDPEDAL_ACTION          10392 non-null  object \n",
      " 18  PEDPEDAL_VISIBILITY      10392 non-null  object \n",
      " 19  PEDPEDAL_LOCATION        10392 non-null  object \n",
      " 20  BAC_RESULT               10036 non-null  object \n",
      " 21  RD_NO_y                  10369 non-null  object \n",
      " 22  CRASH_DATE_EST_I         519 non-null    object \n",
      " 23  CRASH_DATE_y             10392 non-null  object \n",
      " 24  POSTED_SPEED_LIMIT       10392 non-null  int64  \n",
      " 25  TRAFFIC_CONTROL_DEVICE   10392 non-null  object \n",
      " 26  DEVICE_CONDITION         10392 non-null  object \n",
      " 27  WEATHER_CONDITION        10392 non-null  object \n",
      " 28  LIGHTING_CONDITION       10392 non-null  object \n",
      " 29  FIRST_CRASH_TYPE         10392 non-null  object \n",
      " 30  TRAFFICWAY_TYPE          10392 non-null  object \n",
      " 31  LANE_CNT                 2921 non-null   float64\n",
      " 32  ALIGNMENT                10392 non-null  object \n",
      " 33  ROADWAY_SURFACE_COND     10392 non-null  object \n",
      " 34  ROAD_DEFECT              10392 non-null  object \n",
      " 35  REPORT_TYPE              10013 non-null  object \n",
      " 36  CRASH_TYPE               10392 non-null  object \n",
      " 37  INTERSECTION_RELATED_I   3879 non-null   object \n",
      " 38  NOT_RIGHT_OF_WAY_I       88 non-null     object \n",
      " 39  HIT_AND_RUN_I            2794 non-null   object \n",
      " 40  DAMAGE                   10392 non-null  object \n",
      " 41  PRIM_CONTRIBUTORY_CAUSE  10392 non-null  object \n",
      " 42  SEC_CONTRIBUTORY_CAUSE   10392 non-null  object \n",
      " 43  STREET_NO                10392 non-null  int64  \n",
      " 44  STREET_DIRECTION         10392 non-null  object \n",
      " 45  STREET_NAME              10392 non-null  object \n",
      " 46  BEAT_OF_OCCURRENCE       10392 non-null  float64\n",
      " 47  DOORING_I                1690 non-null   object \n",
      " 48  WORK_ZONE_I              59 non-null     object \n",
      " 49  WORK_ZONE_TYPE           41 non-null     object \n",
      " 50  WORKERS_PRESENT_I        14 non-null     object \n",
      " 51  NUM_UNITS                10392 non-null  int64  \n",
      " 52  MOST_SEVERE_INJURY       10392 non-null  object \n",
      " 53  CRASH_HOUR               10392 non-null  int64  \n",
      " 54  CRASH_DAY_OF_WEEK        10392 non-null  int64  \n",
      " 55  CRASH_MONTH              10392 non-null  int64  \n",
      " 56  CRASH_UNIT_ID            10392 non-null  int64  \n",
      " 57  RD_NO                    10369 non-null  object \n",
      " 58  CRASH_DATE               10392 non-null  object \n",
      " 59  UNIT_NO                  10392 non-null  int64  \n",
      " 60  UNIT_TYPE                10368 non-null  object \n",
      " 61  NUM_PASSENGERS           1151 non-null   float64\n",
      " 62  VEHICLE_ID_y             6828 non-null   float64\n",
      " 63  VEHICLE_YEAR             4910 non-null   float64\n",
      " 64  VEHICLE_DEFECT           6828 non-null   object \n",
      " 65  VEHICLE_TYPE             6828 non-null   object \n",
      " 66  TRAVEL_DIRECTION         6828 non-null   object \n",
      " 67  MANEUVER                 6828 non-null   object \n",
      " 68  OCCUPANT_CNT             6828 non-null   float64\n",
      " 69  FIRST_CONTACT_POINT      6761 non-null   object \n",
      " 70  HELMET_USED              10256 non-null  object \n",
      " 71  BELT_USED                10256 non-null  object \n",
      " 72  INJURY_BAD               10392 non-null  int64  \n",
      " 73  PROTECTIVE_CLOTHING      10392 non-null  int64  \n",
      "dtypes: float64(7), int64(11), object(56)\n",
      "memory usage: 5.9+ MB\n"
     ]
    }
   ],
   "source": [
    "df.info()"
   ]
  },
  {
   "cell_type": "markdown",
   "metadata": {},
   "source": [
    "TRYING LAST BINNING FOR MODELS BEFORE TESTING TRAINING AND SPLITTING\n"
   ]
  },
  {
   "cell_type": "markdown",
   "metadata": {},
   "source": [
    "## PEDPEDAL_ACTION BINNING"
   ]
  },
  {
   "cell_type": "code",
   "execution_count": 56,
   "metadata": {},
   "outputs": [
    {
     "data": {
      "text/plain": [
       "WITH TRAFFIC                                         3614\n",
       "UNKNOWN/NA                                           1193\n",
       "OTHER ACTION                                         1081\n",
       "CROSSING - WITH SIGNAL                                987\n",
       "NO ACTION                                             693\n",
       "CROSSING - AGAINST SIGNAL                             515\n",
       "AGAINST TRAFFIC                                       512\n",
       "CROSSING - NO CONTROLS (AT INTERSECTION)              401\n",
       "TURNING LEFT                                          374\n",
       "CROSSING - NO CONTROLS (NOT AT INTERSECTION)          253\n",
       "ENTER FROM DRIVE/ALLEY                                185\n",
       "CROSSING - CONTROLS PRESENT (NOT AT INTERSECTION)     162\n",
       "TURNING RIGHT                                         160\n",
       "NOT AT INTERSECTION                                   135\n",
       "INTOXICATED PED/PEDAL                                  38\n",
       "STANDING IN ROADWAY                                    33\n",
       "PARKED VEHICLE                                         29\n",
       "PLAYING IN ROADWAY                                     11\n",
       "WORKING IN ROADWAY                                      7\n",
       "TO/FROM DISABLED VEHICLE                                3\n",
       "PLAYING/WORKING ON VEHICLE                              2\n",
       "WAITING FOR SCHOOL BUS                                  2\n",
       "SCHOOL BUS (WITHIN 50 FT.)                              2\n",
       "Name: PEDPEDAL_ACTION, dtype: int64"
      ]
     },
     "execution_count": 56,
     "metadata": {},
     "output_type": "execute_result"
    }
   ],
   "source": [
    "df['PEDPEDAL_ACTION'].value_counts()"
   ]
  },
  {
   "cell_type": "code",
   "execution_count": 57,
   "metadata": {
    "scrolled": false
   },
   "outputs": [
    {
     "data": {
      "text/plain": [
       "10392"
      ]
     },
     "execution_count": 57,
     "metadata": {},
     "output_type": "execute_result"
    }
   ],
   "source": [
    "df['PEDPEDAL_ACTION'].value_counts().sum()"
   ]
  },
  {
   "cell_type": "code",
   "execution_count": 66,
   "metadata": {},
   "outputs": [
    {
     "data": {
      "image/png": "[encoded data removed]",
      "text/plain": [
       "<Figure size 432x288 with 1 Axes>"
      ]
     },
     "metadata": {
      "needs_background": "light"
     },
     "output_type": "display_data"
    }
   ],
   "source": [
    "### By traffic action/ pedestrian action\n",
    "#\n",
    "#\n",
    "#Crossing the Road\n",
    "#CROSSING - WITH SIGNAL\n",
    "#CROSSING - AGAINST SIGNAL\n",
    "#CROSSING - NO CONTROLS (AT INTERSECTION)\n",
    "#CROSSING - NO CONTROLS (NOT AT INTERSECTION)\n",
    "#CROSSING - CONTROLS PRESENT (NOT AT INTERSECTION)\n",
    "#\n",
    "#On Roadway\n",
    "#STANDING IN ROADWAY\n",
    "#WORKING IN ROADWAY\n",
    "#PLAYING IN ROADWAY\n",
    "#TURNING LEFT\n",
    "#TURNING RIGHT\n",
    "#WAITING FOR SCHOOL BUS\n",
    "#SCHOOL BUS (WITHIN 50 FT.)\n",
    "#\n",
    "#Not on Roadway\n",
    "#PLAYING/WORKING ON VEHICLE\n",
    "#NOT AT INTERSECTION\n",
    "#ENTER FROM DRIVE/ALLEY\n",
    "#PARKED VEHICLE\n",
    "#TO/FROM DISABLED VEHICLE\n",
    "#\n",
    "#With Traffic\n",
    "##WITH TRAFFIC\n",
    "#\n",
    "#Against Traffic\n",
    "##AGAINST TRAFFIC\n",
    "#\n",
    "#Intoxicated\n",
    "#INTOXICATED PED/PEDAL\n",
    "#\n",
    "#Other/no action\n",
    "#UNKNOWN/NA\n",
    "#OTHER ACTION\n",
    "#NO ACTION\n",
    "#\n",
    "\n",
    "df.loc[df['PEDPEDAL_ACTION'] == 'WITH TRAFFIC', 'PEDAL_ACTION'] = 'With Traffic'\n",
    "\n",
    "df.loc[df['PEDPEDAL_ACTION'] == 'AGAINST TRAFFIC', 'PEDAL_ACTION'] = 'Against Traffic'\n",
    "\n",
    "df.loc[df['PEDPEDAL_ACTION'] == 'INTOXICATED PED/PEDAL', 'PEDAL_ACTION'] = 'Intoxicated'\n",
    "\n",
    "df.loc[df['PEDPEDAL_ACTION'] == 'CROSSING - WITH SIGNAL', 'PEDAL_ACTION'] = 'Crossing Road'\n",
    "df.loc[df['PEDPEDAL_ACTION'] == 'CROSSING - CONTROLS PRESENT (NOT AT INTERSECTION)', 'PEDAL_ACTION'] = 'Crossing Road'\n",
    "df.loc[df['PEDPEDAL_ACTION'] == 'CROSSING - AGAINST SIGNAL', 'PEDAL_ACTION'] = 'Crossing Road'\n",
    "df.loc[df['PEDPEDAL_ACTION'] == 'CROSSING - NO CONTROLS (NOT AT INTERSECTION)', 'PEDAL_ACTION'] = 'Crossing Road'\n",
    "df.loc[df['PEDPEDAL_ACTION'] == 'CROSSING - NO CONTROLS (AT INTERSECTION)', 'PEDAL_ACTION'] = 'Crossing Road'\n",
    "\n",
    "df.loc[df['PEDPEDAL_ACTION'] == 'PLAYING IN ROADWAY', 'PEDAL_ACTION'] = 'On Roadway'\n",
    "df.loc[df['PEDPEDAL_ACTION'] == 'WORKING IN ROADWAY', 'PEDAL_ACTION'] = 'On Roadway'\n",
    "df.loc[df['PEDPEDAL_ACTION'] == 'STANDING IN ROADWAY', 'PEDAL_ACTION'] = 'On Roadway'\n",
    "df.loc[df['PEDPEDAL_ACTION'] == 'TURNING LEFT', 'PEDAL_ACTION'] = 'On Roadway'\n",
    "df.loc[df['PEDPEDAL_ACTION'] == 'TURNING RIGHT', 'PEDAL_ACTION'] = 'On Roadway'\n",
    "df.loc[df['PEDPEDAL_ACTION'] == 'WAITING FOR SCHOOL BUS', 'PEDAL_ACTION'] = 'On Roadway'\n",
    "df.loc[df['PEDPEDAL_ACTION'] == 'SCHOOL BUS (WITHIN 50 FT.)', 'PEDAL_ACTION'] = 'On Roadway'\n",
    "\n",
    "df.loc[df['PEDPEDAL_ACTION'] == 'PLAYING/WORKING ON VEHICLE', 'PEDAL_ACTION'] = 'Not on Roadway'\n",
    "df.loc[df['PEDPEDAL_ACTION'] == 'NOT AT INTERSECTION', 'PEDAL_ACTION'] = 'Not on Roadway'\n",
    "df.loc[df['PEDPEDAL_ACTION'] == 'ENTER FROM DRIVE/ALLEY', 'PEDAL_ACTION'] = 'Not on Roadway'\n",
    "df.loc[df['PEDPEDAL_ACTION'] == 'PARKED VEHICLE', 'PEDAL_ACTION'] = 'Not on Roadway'\n",
    "df.loc[df['PEDPEDAL_ACTION'] == 'TO/FROM DISABLED VEHICLE', 'PEDAL_ACTION'] = 'Not on Roadway'\n",
    "\n",
    "df.loc[df['PEDPEDAL_ACTION'] == 'NO ACTION', 'PEDAL_ACTION'] = 'No/Other Actions'\n",
    "df.loc[df['PEDPEDAL_ACTION'] == 'OTHER ACTION', 'PEDAL_ACTION'] = 'No/Other Actions'\n",
    "\n",
    "\n",
    "df.loc[df['PEDPEDAL_ACTION'] == 'UNKNOWN/NA', 'PEDAL_ACTION'] = 'Unknown'\n",
    "\n",
    "df.groupby(by=['PEDAL_ACTION'])['INJURY_BAD'].mean().sort_values().plot(kind='barh');\n"
   ]
  },
  {
   "cell_type": "code",
   "execution_count": 67,
   "metadata": {},
   "outputs": [
    {
     "data": {
      "image/png": "[encoded data removed]",
      "text/plain": [
       "<Figure size 432x288 with 1 Axes>"
      ]
     },
     "metadata": {
      "needs_background": "light"
     },
     "output_type": "display_data"
    }
   ],
   "source": [
    "df.groupby(by=['PEDPEDAL_ACTION'])['INJURY_BAD'].mean().sort_values().plot(kind='barh');\n"
   ]
  },
  {
   "cell_type": "code",
   "execution_count": 61,
   "metadata": {},
   "outputs": [
    {
     "data": {
      "text/plain": [
       "Traffic Action        4798\n",
       "Pedestrian Actions    2625\n",
       "No/Other Actions      1776\n",
       "Unknown               1193\n",
       "Name: PEDAL_ACTION, dtype: int64"
      ]
     },
     "execution_count": 61,
     "metadata": {},
     "output_type": "execute_result"
    }
   ],
   "source": [
    "df['PEDAL_ACTION'].value_counts()"
   ]
  },
  {
   "cell_type": "code",
   "execution_count": 62,
   "metadata": {},
   "outputs": [
    {
     "data": {
      "text/plain": [
       "10392"
      ]
     },
     "execution_count": 62,
     "metadata": {},
     "output_type": "execute_result"
    }
   ],
   "source": [
    "df['PEDAL_ACTION'].value_counts().sum()"
   ]
  },
  {
   "cell_type": "markdown",
   "metadata": {},
   "source": [
    "## PEDPEDAL_LOCATION BINNING"
   ]
  },
  {
   "cell_type": "code",
   "execution_count": 161,
   "metadata": {},
   "outputs": [
    {
     "data": {
      "text/plain": [
       "IN ROADWAY         6182\n",
       "IN CROSSWALK       1322\n",
       "BIKEWAY            1160\n",
       "BIKE LANE           745\n",
       "UNKNOWN/NA          497\n",
       "NOT IN ROADWAY      304\n",
       "DRIVEWAY ACCESS     127\n",
       "SHOULDER             55\n",
       "Name: PEDPEDAL_LOCATION, dtype: int64"
      ]
     },
     "execution_count": 161,
     "metadata": {},
     "output_type": "execute_result"
    }
   ],
   "source": [
    "df['PEDPEDAL_LOCATION'].value_counts()"
   ]
  },
  {
   "cell_type": "code",
   "execution_count": 162,
   "metadata": {},
   "outputs": [
    {
     "data": {
      "text/plain": [
       "10392"
      ]
     },
     "execution_count": 162,
     "metadata": {},
     "output_type": "execute_result"
    }
   ],
   "source": [
    "df['PEDPEDAL_LOCATION'].value_counts().sum()"
   ]
  },
  {
   "cell_type": "code",
   "execution_count": 163,
   "metadata": {},
   "outputs": [],
   "source": [
    "df.loc[df['PEDPEDAL_LOCATION'] == 'BIKEWAY', 'SAFE_LOCATION'] = 1\n",
    "df.loc[df['PEDPEDAL_LOCATION'] == 'BIKE LANE', 'SAFE_LOCATION'] = 1\n",
    "df.loc[df['PEDPEDAL_LOCATION'] == 'NOT IN ROADWAY', 'SAFE_LOCATION'] = 1\n",
    "df.loc[df['PEDPEDAL_LOCATION'] == 'DRIVEWAY ACCESS', 'SAFE_LOCATION'] = 1\n",
    "\n",
    "\n",
    "df.loc[df['PEDPEDAL_LOCATION'] == 'IN ROADWAY', 'SAFE_LOCATION'] = 0\n",
    "df.loc[df['PEDPEDAL_LOCATION'] == 'IN CROSSWALK', 'SAFE_LOCATION'] = 0\n",
    "df.loc[df['PEDPEDAL_LOCATION'] == 'SHOULDER', 'SAFE_LOCATION'] = 0\n",
    "\n",
    "df.loc[df['PEDPEDAL_LOCATION'] == 'UNKNOWN/NA', 'SAFE_LOCATION'] = 'Unknown'"
   ]
  },
  {
   "cell_type": "code",
   "execution_count": 164,
   "metadata": {},
   "outputs": [
    {
     "data": {
      "text/plain": [
       "0.0        7686\n",
       "1.0        2209\n",
       "Unknown     497\n",
       "Name: SAFE_LOCATION, dtype: int64"
      ]
     },
     "execution_count": 164,
     "metadata": {},
     "output_type": "execute_result"
    }
   ],
   "source": [
    "df['SAFE_LOCATION'].value_counts()"
   ]
  },
  {
   "cell_type": "code",
   "execution_count": 165,
   "metadata": {},
   "outputs": [
    {
     "data": {
      "text/plain": [
       "10392"
      ]
     },
     "execution_count": 165,
     "metadata": {},
     "output_type": "execute_result"
    }
   ],
   "source": [
    "df['SAFE_LOCATION'].value_counts().sum()"
   ]
  },
  {
   "cell_type": "markdown",
   "metadata": {},
   "source": [
    "## DRIVER_ACTION BINNING"
   ]
  },
  {
   "cell_type": "code",
   "execution_count": 166,
   "metadata": {
    "scrolled": false
   },
   "outputs": [
    {
     "data": {
      "text/plain": [
       "NONE                                 4705\n",
       "UNKNOWN                              2258\n",
       "OTHER                                1213\n",
       "FAILED TO YIELD                       804\n",
       "DISREGARDED CONTROL DEVICES           422\n",
       "WRONG WAY/SIDE                        270\n",
       "IMPROPER PASSING                      129\n",
       "FOLLOWED TOO CLOSELY                  115\n",
       "IMPROPER TURN                          86\n",
       "IMPROPER LANE CHANGE                   86\n",
       "TOO FAST FOR CONDITIONS                59\n",
       "CELL PHONE USE OTHER THAN TEXTING      15\n",
       "OVERCORRECTED                          11\n",
       "EVADING POLICE VEHICLE                 10\n",
       "TEXTING                                 5\n",
       "IMPROPER PARKING                        2\n",
       "EMERGENCY VEHICLE ON CALL               1\n",
       "Name: DRIVER_ACTION, dtype: int64"
      ]
     },
     "execution_count": 166,
     "metadata": {},
     "output_type": "execute_result"
    }
   ],
   "source": [
    "df['DRIVER_ACTION'].value_counts()"
   ]
  },
  {
   "cell_type": "code",
   "execution_count": 167,
   "metadata": {},
   "outputs": [
    {
     "data": {
      "text/plain": [
       "10191"
      ]
     },
     "execution_count": 167,
     "metadata": {},
     "output_type": "execute_result"
    }
   ],
   "source": [
    "df['DRIVER_ACTION'].value_counts().sum()"
   ]
  },
  {
   "cell_type": "code",
   "execution_count": 52,
   "metadata": {},
   "outputs": [],
   "source": [
    "### FIX ON MAKING MORE CATEGORIES. CONDITIONS, RECKLESS, DISTRACTION\n",
    "\n",
    "\n",
    "df.loc[df['DRIVER_ACTION'] == 'DISREGARDED CONTROL DEVICES', 'UNSAFE_ACTION'] = 'RECKLESS'\n",
    "df.loc[df['DRIVER_ACTION'] == 'FOLLOWED TOO CLOSELY', 'UNSAFE_ACTION'] = 'RECKLESS'\n",
    "df.loc[df['DRIVER_ACTION'] == 'EVADING POLICE VEHICLE', 'UNSAFE_ACTION'] = 'RECKLESS'\n",
    "df.loc[df['DRIVER_ACTION'] == 'TOO FAST FOR CONDITIONS', 'UNSAFE_ACTION'] = 'RECKLESS'\n",
    "df.loc[df['DRIVER_ACTION'] == 'WRONG WAY/SIDE', 'UNSAFE_ACTION'] = 'RECKLESS'\n",
    "\n",
    "\n",
    "df.loc[df['DRIVER_ACTION'] == 'TEXTING', 'UNSAFE_ACTION'] = 'DISTRACTION'\n",
    "df.loc[df['DRIVER_ACTION'] == 'CELL PHONE USE OTHER THAN TEXTING', 'UNSAFE_ACTION'] = 'DISTRACTION'\n",
    "\n",
    "df.loc[df['DRIVER_ACTION'] == 'IMPROPER PARKING', 'UNSAFE_ACTION'] = 'DRIVER ERROR'\n",
    "df.loc[df['DRIVER_ACTION'] == 'IMPROPER TURN', 'UNSAFE_ACTION'] = 'DRIVER ERROR'\n",
    "df.loc[df['DRIVER_ACTION'] == 'IMPROPER LANE CHANGE', 'UNSAFE_ACTION'] = 'DRIVER ERROR'\n",
    "df.loc[df['DRIVER_ACTION'] == 'IMPROPER PASSING', 'UNSAFE_ACTION'] = 'DRIVER ERROR'\n",
    "df.loc[df['DRIVER_ACTION'] == 'OVERCORRECTED', 'UNSAFE_ACTION'] = 'DRIVER ERROR'\n",
    "df.loc[df['DRIVER_ACTION'] == 'EMERGENCY VEHICLE ON CALL', 'UNSAFE_ACTION'] = 'DRIVER ERROR'\n",
    "df.loc[df['DRIVER_ACTION'] == 'FAILED TO YIELD', 'UNSAFE_ACTION'] = 'DRIVER ERROR'\n",
    "\n",
    "\n",
    "\n",
    "df.loc[df['DRIVER_ACTION'] == 'NONE', 'UNSAFE_ACTION'] = 'Unknown'\n",
    "df.loc[df['DRIVER_ACTION'] == 'OTHER', 'UNSAFE_ACTION'] = 'Unknown'\n",
    "df.loc[df['DRIVER_ACTION'] == 'UNKNOWN', 'UNSAFE_ACTION'] = 'Unknown'"
   ]
  },
  {
   "cell_type": "code",
   "execution_count": 169,
   "metadata": {},
   "outputs": [
    {
     "data": {
      "text/plain": [
       "0.0        5919\n",
       "Unknown    2258\n",
       "1.0        2014\n",
       "Name: UNSAFE_ACTION, dtype: int64"
      ]
     },
     "execution_count": 169,
     "metadata": {},
     "output_type": "execute_result"
    }
   ],
   "source": [
    "df['UNSAFE_ACTION'].value_counts()"
   ]
  },
  {
   "cell_type": "code",
   "execution_count": 170,
   "metadata": {},
   "outputs": [
    {
     "data": {
      "text/plain": [
       "10191"
      ]
     },
     "execution_count": 170,
     "metadata": {},
     "output_type": "execute_result"
    }
   ],
   "source": [
    "df['UNSAFE_ACTION'].value_counts().sum()"
   ]
  },
  {
   "cell_type": "markdown",
   "metadata": {},
   "source": [
    "## DRIVER_VISION BINNING"
   ]
  },
  {
   "cell_type": "code",
   "execution_count": 171,
   "metadata": {},
   "outputs": [
    {
     "data": {
      "text/plain": [
       "NOT OBSCURED              6047\n",
       "UNKNOWN                   3694\n",
       "OTHER                      166\n",
       "MOVING VEHICLES            103\n",
       "PARKED VEHICLES             76\n",
       "BUILDINGS                   35\n",
       "TREES, PLANTS               14\n",
       "WINDSHIELD (WATER/ICE)      10\n",
       "BLINDED - SUNLIGHT           4\n",
       "BLINDED - HEADLIGHTS         2\n",
       "HILLCREST                    1\n",
       "Name: DRIVER_VISION, dtype: int64"
      ]
     },
     "execution_count": 171,
     "metadata": {},
     "output_type": "execute_result"
    }
   ],
   "source": [
    "df['DRIVER_VISION'].value_counts()"
   ]
  },
  {
   "cell_type": "code",
   "execution_count": 172,
   "metadata": {},
   "outputs": [
    {
     "data": {
      "text/plain": [
       "10152"
      ]
     },
     "execution_count": 172,
     "metadata": {},
     "output_type": "execute_result"
    }
   ],
   "source": [
    "df['DRIVER_VISION'].value_counts().sum()"
   ]
  },
  {
   "cell_type": "code",
   "execution_count": 173,
   "metadata": {},
   "outputs": [],
   "source": [
    "df.loc[df['DRIVER_VISION'] == 'MOVING VEHICLES', 'DRIVER_BLIND'] = 1\n",
    "df.loc[df['DRIVER_VISION'] == 'PARKED VEHICLES', 'DRIVER_BLIND'] = 1\n",
    "df.loc[df['DRIVER_VISION'] == 'BUILDINGS', 'DRIVER_BLIND'] = 1\n",
    "df.loc[df['DRIVER_VISION'] == 'TREES, PLANTS', 'DRIVER_BLIND'] = 1\n",
    "df.loc[df['DRIVER_VISION'] == 'WINDSHIELD (WATER/ICE)', 'DRIVER_BLIND'] = 1\n",
    "df.loc[df['DRIVER_VISION'] == 'BLINDED - SUNLIGHT', 'DRIVER_BLIND'] = 1\n",
    "df.loc[df['DRIVER_VISION'] == 'BLINDED - HEADLIGHTS', 'DRIVER_BLIND'] = 1\n",
    "df.loc[df['DRIVER_VISION'] == 'HILLCREST', 'DRIVER_BLIND'] = 1\n",
    "\n",
    "df.loc[df['DRIVER_VISION'] == 'NOT OBSCURED', 'DRIVER_BLIND'] = 0\n",
    "df.loc[df['DRIVER_VISION'] == 'OTHER', 'DRIVER_BLIND'] = 0\n",
    "\n",
    "df.loc[df['DRIVER_VISION'] == 'UNKNOWN', 'DRIVER_BLIND'] = 'Unknown'\n"
   ]
  },
  {
   "cell_type": "code",
   "execution_count": 174,
   "metadata": {},
   "outputs": [
    {
     "data": {
      "text/plain": [
       "0.0        6213\n",
       "Unknown    3694\n",
       "1.0         245\n",
       "Name: DRIVER_BLIND, dtype: int64"
      ]
     },
     "execution_count": 174,
     "metadata": {},
     "output_type": "execute_result"
    }
   ],
   "source": [
    "df['DRIVER_BLIND'].value_counts()"
   ]
  },
  {
   "cell_type": "code",
   "execution_count": 175,
   "metadata": {},
   "outputs": [
    {
     "data": {
      "text/plain": [
       "10152"
      ]
     },
     "execution_count": 175,
     "metadata": {},
     "output_type": "execute_result"
    }
   ],
   "source": [
    "df['DRIVER_BLIND'].value_counts().sum()"
   ]
  },
  {
   "cell_type": "code",
   "execution_count": 176,
   "metadata": {},
   "outputs": [
    {
     "data": {
      "image/png": "[encoded data removed]",
      "text/plain": [
       "<Figure size 432x288 with 1 Axes>"
      ]
     },
     "metadata": {
      "needs_background": "light"
     },
     "output_type": "display_data"
    }
   ],
   "source": [
    "df.groupby(by=['SAFETY_EQUIPMENT'])['INJURY_BAD'].mean().sort_values().plot(kind='barh');"
   ]
  },
  {
   "cell_type": "code",
   "execution_count": 177,
   "metadata": {},
   "outputs": [
    {
     "data": {
      "image/png": "[encoded data removed]",
      "text/plain": [
       "<Figure size 432x288 with 1 Axes>"
      ]
     },
     "metadata": {
      "needs_background": "light"
     },
     "output_type": "display_data"
    }
   ],
   "source": [
    "df.groupby(by=['HELMET_USED'])['INJURY_BAD'].mean().sort_values().plot(kind='barh');"
   ]
  },
  {
   "cell_type": "code",
   "execution_count": 178,
   "metadata": {},
   "outputs": [
    {
     "data": {
      "image/png": "[encoded data removed]",
      "text/plain": [
       "<Figure size 432x288 with 1 Axes>"
      ]
     },
     "metadata": {
      "needs_background": "light"
     },
     "output_type": "display_data"
    }
   ],
   "source": [
    "df.groupby(by=['BELT_USED'])['INJURY_BAD'].mean().sort_values().plot(kind='barh');"
   ]
  },
  {
   "cell_type": "code",
   "execution_count": 179,
   "metadata": {
    "scrolled": true
   },
   "outputs": [
    {
     "name": "stdout",
     "output_type": "stream",
     "text": [
      "<class 'pandas.core.frame.DataFrame'>\n",
      "Int64Index: 10392 entries, 0 to 10393\n",
      "Data columns (total 78 columns):\n",
      " #   Column                   Non-Null Count  Dtype  \n",
      "---  ------                   --------------  -----  \n",
      " 0   Unnamed: 0               10392 non-null  int64  \n",
      " 1   PERSON_ID                10392 non-null  object \n",
      " 2   PERSON_TYPE              10392 non-null  object \n",
      " 3   CRASH_RECORD_ID          10392 non-null  object \n",
      " 4   RD_NO_x                  10369 non-null  object \n",
      " 5   CRASH_DATE_x             10392 non-null  object \n",
      " 6   CITY                     8932 non-null   object \n",
      " 7   STATE                    8830 non-null   object \n",
      " 8   ZIPCODE                  7421 non-null   object \n",
      " 9   SEX                      10249 non-null  object \n",
      " 10  AGE                      8844 non-null   float64\n",
      " 11  SAFETY_EQUIPMENT         10256 non-null  object \n",
      " 12  EJECTION                 10069 non-null  object \n",
      " 13  INJURY_CLASSIFICATION    10392 non-null  object \n",
      " 14  DRIVER_ACTION            10191 non-null  object \n",
      " 15  DRIVER_VISION            10152 non-null  object \n",
      " 16  PHYSICAL_CONDITION       10204 non-null  object \n",
      " 17  PEDPEDAL_ACTION          10392 non-null  object \n",
      " 18  PEDPEDAL_VISIBILITY      10392 non-null  object \n",
      " 19  PEDPEDAL_LOCATION        10392 non-null  object \n",
      " 20  BAC_RESULT               10036 non-null  object \n",
      " 21  RD_NO_y                  10369 non-null  object \n",
      " 22  CRASH_DATE_EST_I         519 non-null    object \n",
      " 23  CRASH_DATE_y             10392 non-null  object \n",
      " 24  POSTED_SPEED_LIMIT       10392 non-null  int64  \n",
      " 25  TRAFFIC_CONTROL_DEVICE   10392 non-null  object \n",
      " 26  DEVICE_CONDITION         10392 non-null  object \n",
      " 27  WEATHER_CONDITION        10392 non-null  object \n",
      " 28  LIGHTING_CONDITION       10392 non-null  object \n",
      " 29  FIRST_CRASH_TYPE         10392 non-null  object \n",
      " 30  TRAFFICWAY_TYPE          10392 non-null  object \n",
      " 31  LANE_CNT                 2921 non-null   float64\n",
      " 32  ALIGNMENT                10392 non-null  object \n",
      " 33  ROADWAY_SURFACE_COND     10392 non-null  object \n",
      " 34  ROAD_DEFECT              10392 non-null  object \n",
      " 35  REPORT_TYPE              10013 non-null  object \n",
      " 36  CRASH_TYPE               10392 non-null  object \n",
      " 37  INTERSECTION_RELATED_I   3879 non-null   object \n",
      " 38  NOT_RIGHT_OF_WAY_I       88 non-null     object \n",
      " 39  HIT_AND_RUN_I            2794 non-null   object \n",
      " 40  DAMAGE                   10392 non-null  object \n",
      " 41  PRIM_CONTRIBUTORY_CAUSE  10392 non-null  object \n",
      " 42  SEC_CONTRIBUTORY_CAUSE   10392 non-null  object \n",
      " 43  STREET_NO                10392 non-null  int64  \n",
      " 44  STREET_DIRECTION         10392 non-null  object \n",
      " 45  STREET_NAME              10392 non-null  object \n",
      " 46  BEAT_OF_OCCURRENCE       10392 non-null  float64\n",
      " 47  DOORING_I                1690 non-null   object \n",
      " 48  WORK_ZONE_I              59 non-null     object \n",
      " 49  WORK_ZONE_TYPE           41 non-null     object \n",
      " 50  WORKERS_PRESENT_I        14 non-null     object \n",
      " 51  NUM_UNITS                10392 non-null  int64  \n",
      " 52  MOST_SEVERE_INJURY       10392 non-null  object \n",
      " 53  CRASH_HOUR               10392 non-null  int64  \n",
      " 54  CRASH_DAY_OF_WEEK        10392 non-null  int64  \n",
      " 55  CRASH_MONTH              10392 non-null  int64  \n",
      " 56  CRASH_UNIT_ID            10392 non-null  int64  \n",
      " 57  RD_NO                    10369 non-null  object \n",
      " 58  CRASH_DATE               10392 non-null  object \n",
      " 59  UNIT_NO                  10392 non-null  int64  \n",
      " 60  UNIT_TYPE                10368 non-null  object \n",
      " 61  NUM_PASSENGERS           1151 non-null   float64\n",
      " 62  VEHICLE_ID_y             6828 non-null   float64\n",
      " 63  VEHICLE_YEAR             4910 non-null   float64\n",
      " 64  VEHICLE_DEFECT           6828 non-null   object \n",
      " 65  VEHICLE_TYPE             6828 non-null   object \n",
      " 66  TRAVEL_DIRECTION         6828 non-null   object \n",
      " 67  MANEUVER                 6828 non-null   object \n",
      " 68  OCCUPANT_CNT             6828 non-null   float64\n",
      " 69  FIRST_CONTACT_POINT      6761 non-null   object \n",
      " 70  HELMET_USED              10256 non-null  object \n",
      " 71  BELT_USED                10256 non-null  object \n",
      " 72  INJURY_BAD               10392 non-null  int64  \n",
      " 73  PROTECTIVE_CLOTHING      10392 non-null  int64  \n",
      " 74  SAFE_PEDAL_ACTION        10392 non-null  object \n",
      " 75  SAFE_LOCATION            10392 non-null  object \n",
      " 76  UNSAFE_ACTION            10191 non-null  object \n",
      " 77  DRIVER_BLIND             10152 non-null  object \n",
      "dtypes: float64(7), int64(11), object(60)\n",
      "memory usage: 6.3+ MB\n"
     ]
    }
   ],
   "source": [
    "df.info()"
   ]
  },
  {
   "cell_type": "code",
   "execution_count": 180,
   "metadata": {},
   "outputs": [
    {
     "data": {
      "text/plain": [
       "201"
      ]
     },
     "execution_count": 180,
     "metadata": {},
     "output_type": "execute_result"
    }
   ],
   "source": [
    "df['UNSAFE_ACTION'].isna().sum()"
   ]
  },
  {
   "cell_type": "code",
   "execution_count": 181,
   "metadata": {},
   "outputs": [
    {
     "data": {
      "text/plain": [
       "240"
      ]
     },
     "execution_count": 181,
     "metadata": {},
     "output_type": "execute_result"
    }
   ],
   "source": [
    "df['DRIVER_BLIND'].isna().sum()"
   ]
  },
  {
   "cell_type": "code",
   "execution_count": 182,
   "metadata": {},
   "outputs": [
    {
     "data": {
      "text/plain": [
       "0        False\n",
       "1        False\n",
       "2        False\n",
       "3        False\n",
       "4        False\n",
       "         ...  \n",
       "10389    False\n",
       "10390    False\n",
       "10391    False\n",
       "10392    False\n",
       "10393    False\n",
       "Name: UNSAFE_ACTION, Length: 10392, dtype: bool"
      ]
     },
     "execution_count": 182,
     "metadata": {},
     "output_type": "execute_result"
    }
   ],
   "source": [
    "df['UNSAFE_ACTION'].isna()"
   ]
  },
  {
   "cell_type": "code",
   "execution_count": 183,
   "metadata": {},
   "outputs": [],
   "source": [
    "df['UNSAFE_ACTION'].dropna(inplace=True)"
   ]
  },
  {
   "cell_type": "code",
   "execution_count": 184,
   "metadata": {},
   "outputs": [
    {
     "data": {
      "text/plain": [
       "201"
      ]
     },
     "execution_count": 184,
     "metadata": {},
     "output_type": "execute_result"
    }
   ],
   "source": [
    "df['UNSAFE_ACTION'].isna().sum()"
   ]
  },
  {
   "cell_type": "code",
   "execution_count": 185,
   "metadata": {},
   "outputs": [
    {
     "data": {
      "text/plain": [
       "17    1139\n",
       "16     966\n",
       "18     910\n",
       "15     875\n",
       "14     704\n",
       "19     657\n",
       "13     567\n",
       "12     536\n",
       "8      535\n",
       "20     528\n",
       "9      436\n",
       "11     435\n",
       "7      393\n",
       "10     383\n",
       "21     365\n",
       "22     247\n",
       "23     211\n",
       "6      130\n",
       "0      121\n",
       "1       71\n",
       "5       63\n",
       "2       58\n",
       "3       37\n",
       "4       25\n",
       "Name: CRASH_HOUR, dtype: int64"
      ]
     },
     "execution_count": 185,
     "metadata": {},
     "output_type": "execute_result"
    }
   ],
   "source": [
    "df['CRASH_HOUR'].value_counts()"
   ]
  },
  {
   "cell_type": "code",
   "execution_count": 188,
   "metadata": {},
   "outputs": [],
   "source": [
    "def hour_bins(row):\n",
    "    if row['CRASH_HOUR'] <= 12:\n",
    "        return 'Morning'\n",
    "    elif row['CRASH_HOUR'] <= 17:\n",
    "        return 'Afternoon'\n",
    "    elif row['CRASH_HOUR'] <= 23:\n",
    "        return 'Night'\n",
    "    else:\n",
    "        return 'Unknown'\n",
    "    \n",
    "df['HOUR_BINS'] = df.apply(hour_bins,axis=1)"
   ]
  },
  {
   "cell_type": "code",
   "execution_count": 189,
   "metadata": {},
   "outputs": [
    {
     "data": {
      "image/png": "[encoded data removed]",
      "text/plain": [
       "<Figure size 432x288 with 1 Axes>"
      ]
     },
     "metadata": {
      "needs_background": "light"
     },
     "output_type": "display_data"
    }
   ],
   "source": [
    "df.groupby(by=['HOUR_BINS'])['INJURY_BAD'].mean().sort_values().plot(kind='barh');"
   ]
  },
  {
   "cell_type": "code",
   "execution_count": 190,
   "metadata": {},
   "outputs": [
    {
     "data": {
      "text/plain": [
       "Afternoon    4251\n",
       "Morning      3223\n",
       "Night        2918\n",
       "Name: HOUR_BINS, dtype: int64"
      ]
     },
     "execution_count": 190,
     "metadata": {},
     "output_type": "execute_result"
    }
   ],
   "source": [
    "df['HOUR_BINS'].value_counts()"
   ]
  },
  {
   "cell_type": "code",
   "execution_count": 192,
   "metadata": {},
   "outputs": [
    {
     "data": {
      "text/plain": [
       "0"
      ]
     },
     "execution_count": 192,
     "metadata": {},
     "output_type": "execute_result"
    }
   ],
   "source": [
    "df['HOUR_BINS'].isna().sum()"
   ]
  },
  {
   "cell_type": "code",
   "execution_count": null,
   "metadata": {},
   "outputs": [],
   "source": []
  }
 ],
 "metadata": {
  "kernelspec": {
   "display_name": "Python (learn-env)",
   "language": "python",
   "name": "learn-env"
  },
  "language_info": {
   "codemirror_mode": {
    "name": "ipython",
    "version": 3
   },
   "file_extension": ".py",
   "mimetype": "text/x-python",
   "name": "python",
   "nbconvert_exporter": "python",
   "pygments_lexer": "ipython3",
   "version": "3.8.5"
  }
 },
 "nbformat": 4,
 "nbformat_minor": 4
}
